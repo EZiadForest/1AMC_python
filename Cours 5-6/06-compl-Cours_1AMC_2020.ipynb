{
 "cells": [
  {
   "cell_type": "markdown",
   "metadata": {
    "slideshow": {
     "slide_type": "slide"
    }
   },
   "source": [
    "![](fig/logoENSI.png)\n",
    "![](fig/logoPython.png)\n",
    " ***\n",
    "\n",
    "# Introduction à la Programmation \n",
    "# Langage Python (cours 6 -compléments-)\n",
    "***\n",
    "**ENSICAEN  1A MC** \n",
    "Vendredi 6 Nov 2020\n",
    "## Eric Ziad-Forest\n",
    "***\n",
    "\n",
    "## Sommaire\n",
    "\n",
    "- Fonctions\n",
    "- Exceptions & gestionnaires de contexte\n",
    "- Récursivité\n",
    "\n",
    "\n",
    "\n",
    "***\n",
    "\n",
    "**Auteurs :**\n",
    "\n",
    "- Vincent Legoll ([vincent.legoll@iphc.cnrs.fr](mailto: vincent.legoll@iphc.cnrs.fr))\n",
    "- Matthieu Boileau ([matthieu.boileau@math.unistra.fr](mailto: matthieu.boileau@math.unistra.fr))\n",
    "- Eric Ziad-Forest ([ziad@ensicaen.fr](mailto: ziad@ensicaen.fr))\n",
    "***\n",
    "*Contenu sous licence [CC BY-SA 4.0](https://creativecommons.org/licenses/by-sa/4.0)*"
   ]
  },
  {
   "cell_type": "markdown",
   "metadata": {
    "slideshow": {
     "slide_type": "slide"
    }
   },
   "source": [
    "# Fonctions\n",
    "\n",
    "Les fonctions permettent de réutiliser des blocs de code plusieurs endroits différents sans avoir a copier ce bloc.\n",
    "\n",
    "En python, il n'y a pas de notion de sous-routine. Les procédures sont gérées par les objets de type fonctions, avec ou sans valeur de retour.\n",
    "\n",
    "    def <nom fonction>(arg1, arg2, ...):\n",
    "        <bloc d'instructions>\n",
    "        return <valeur>  # Instruction optionnelle\n",
    "        \n",
    "On distingue :\n",
    "\n",
    "- les fonctions avec ``return`` des fonctions sans ``return``\n",
    "- les fonctions sans arguments (pour lesquelles ``()`` est vide) des fonctions avec arguments ``(arg1, arg2, ...)``"
   ]
  },
  {
   "cell_type": "markdown",
   "metadata": {
    "slideshow": {
     "slide_type": "slide"
    }
   },
   "source": [
    "## Fonctions sans arguments\n",
    "\n",
    "### Fonction sans ``return``"
   ]
  },
  {
   "cell_type": "markdown",
   "metadata": {},
   "source": [
    "Pour définir une fonction :"
   ]
  },
  {
   "cell_type": "code",
   "execution_count": 21,
   "metadata": {},
   "outputs": [],
   "source": [
    "def func():  # Definition de la fonction\n",
    "    print('You know what?')\n",
    "    print(\"I'm happy!\")"
   ]
  },
  {
   "cell_type": "markdown",
   "metadata": {},
   "source": [
    "Pour utiliser une fonction que l'on a défini :"
   ]
  },
  {
   "cell_type": "code",
   "execution_count": 22,
   "metadata": {},
   "outputs": [
    {
     "name": "stdout",
     "output_type": "stream",
     "text": [
      "You know what?\n",
      "I'm happy!\n",
      "You know what?\n",
      "I'm happy!\n",
      "You know what?\n",
      "I'm happy!\n"
     ]
    }
   ],
   "source": [
    "func()  # 1er Appel de la fonction\n",
    "func()  # 2eme appel\n",
    "func()  # 3eme appel, etc..."
   ]
  },
  {
   "cell_type": "markdown",
   "metadata": {
    "slideshow": {
     "slide_type": "subslide"
    }
   },
   "source": [
    "> **Exercice** : Ecrivez une fonction nommée \"rien\" qui ne fait rien et appelez là deux fois."
   ]
  },
  {
   "cell_type": "code",
   "execution_count": null,
   "metadata": {},
   "outputs": [],
   "source": [
    "# Votre code ici"
   ]
  },
  {
   "cell_type": "markdown",
   "metadata": {
    "slideshow": {
     "slide_type": "subslide"
    }
   },
   "source": [
    "### Fonction avec ``return``"
   ]
  },
  {
   "cell_type": "code",
   "execution_count": 23,
   "metadata": {},
   "outputs": [
    {
     "name": "stdout",
     "output_type": "stream",
     "text": [
      "1er appel:\n",
      "2eme appel:\n",
      "La fonction func() nous a renvoyé la valeur: I'm happy\n"
     ]
    }
   ],
   "source": [
    "def func():  # Definition de la fonction\n",
    "    return \"I'm happy\"  # La fonction retourne une chaine de caractère\n",
    "\n",
    "print(\"1er appel:\")\n",
    "func()  # 1er Appel de la fonction : la valeur retournée n'est pas utilisée\n",
    "print(\"2eme appel:\")\n",
    "ret_val = func()  # Le retour du 2eme appel est stocké\n",
    "print(\"La fonction func() nous a renvoyé la valeur:\", ret_val)"
   ]
  },
  {
   "cell_type": "markdown",
   "metadata": {},
   "source": [
    "> **Exercice** : Ecrivez une fonction nommée \"donne_rien\" qui retourne la chaine de caractères 'rien'. Appelez-là et affichez sa valeur de retour."
   ]
  },
  {
   "cell_type": "code",
   "execution_count": null,
   "metadata": {},
   "outputs": [],
   "source": [
    "# Votre code ici"
   ]
  },
  {
   "cell_type": "markdown",
   "metadata": {
    "slideshow": {
     "slide_type": "slide"
    }
   },
   "source": [
    "## Fonctions avec arguments\n",
    "\n",
    "Pour définir une fonction qui prend des arguments, on leur donne juste des noms entre les parenthèses de la ligne ``def``. Ces paramètres seront définis comme des variables à l'intérieur de la fonction et recevrons les valeurs passées lors des appels de celle-ci."
   ]
  },
  {
   "cell_type": "code",
   "execution_count": null,
   "metadata": {},
   "outputs": [],
   "source": [
    "def somme(x, y):\n",
    "    return x + y"
   ]
  },
  {
   "cell_type": "markdown",
   "metadata": {},
   "source": [
    "Pour utiliser cette fonction avec diverses valeurs, il suffit de l'appeler plusieurs fois :"
   ]
  },
  {
   "cell_type": "code",
   "execution_count": null,
   "metadata": {},
   "outputs": [],
   "source": [
    "print(somme(1, 2))\n",
    "print(somme(4, 7))\n",
    "print(somme(2 + 2, 7))\n",
    "print(somme(somme(2, 2), 7))"
   ]
  },
  {
   "cell_type": "markdown",
   "metadata": {
    "slideshow": {
     "slide_type": "subslide"
    }
   },
   "source": [
    "> **Exercice** : Définissez une fonction nommée \"chevalier\", qui prend un paramètre, et qui répète (avec ``print``) la chaîne de caractères 'Ni!' ce nombre de fois, et appelez cette fonction pour vérifier que ce ``chevalier(3)`` dit bien Ni trois fois comme il convient !\n",
    "\n",
    "Voici quelques exemples montrant comment cette fonction doit se comporter:\n",
    "\n",
    "    chevalier(1)\n",
    "    Ni!\n",
    "    chevalier(3)\n",
    "    Ni!Ni!Ni!\n",
    "    chevalier(6)\n",
    "    Ni!Ni!Ni!Ni!Ni!Ni!"
   ]
  },
  {
   "cell_type": "code",
   "execution_count": null,
   "metadata": {},
   "outputs": [],
   "source": [
    "# Votre code ici"
   ]
  },
  {
   "cell_type": "code",
   "execution_count": null,
   "metadata": {},
   "outputs": [],
   "source": [
    "# Vérifions que tout fonctionne bien:\n",
    "#chevalier(1)\n",
    "#chevalier(3)\n",
    "#chevalier(6)"
   ]
  },
  {
   "cell_type": "markdown",
   "metadata": {
    "slideshow": {
     "slide_type": "subslide"
    }
   },
   "source": [
    "> **Exercice** : Ecrivez une autre fonction, nommée \"chevalier_ret\", qui prend deux paramètres : un nombre et un booléen, et qui retourne une chaine de caractères constituée du nombre de répétitions de la chaine 'ni!' ou 'NI!' en fonction du paramètre booléen. Appelez cette fonction et affichez sa valeur de retour.\n",
    "\n",
    "Voici quelques exemples montrant comment cette fonction doit se comporter:\n",
    "\n",
    "    a = chevalier(1, True)\n",
    "    print(a)\n",
    "    NI!\n",
    "    a = chevalier(3, False)\n",
    "    print(a)\n",
    "    ni!ni!ni!\n",
    "    a = chevalier(6, True)\n",
    "    print(a)\n",
    "    NI!NI!NI!NI!NI!NI!"
   ]
  },
  {
   "cell_type": "code",
   "execution_count": null,
   "metadata": {},
   "outputs": [],
   "source": [
    "# Votre code ici"
   ]
  },
  {
   "cell_type": "code",
   "execution_count": null,
   "metadata": {},
   "outputs": [],
   "source": [
    "# Vérifions que tout fonctionne bien:\n",
    "#a = chevalier_ret(1, True)\n",
    "#print(a)\n",
    "#a = chevalier_ret(3, False)\n",
    "#print(a)\n",
    "#a = chevalier_ret(6, True)\n",
    "#print(a)"
   ]
  },
  {
   "cell_type": "markdown",
   "metadata": {
    "slideshow": {
     "slide_type": "subslide"
    }
   },
   "source": [
    "### Utilisation de valeurs par défaut"
   ]
  },
  {
   "cell_type": "code",
   "execution_count": 4,
   "metadata": {},
   "outputs": [
    {
     "name": "stdout",
     "output_type": "stream",
     "text": [
      "3\n",
      "5\n"
     ]
    }
   ],
   "source": [
    "def somme(x, y=1):\n",
    "    return x + y\n",
    "\n",
    "print(somme(1, 2))\n",
    "print(somme(4))  # Si la valeur de y n'est pas spécifiée, le paramètre 'y' prend la valeur par défaut (ici : 1)"
   ]
  },
  {
   "cell_type": "markdown",
   "metadata": {},
   "source": [
    "**Note :** Les arguments ayant une valeur par défaut doivent être placés en dernier."
   ]
  },
  {
   "cell_type": "markdown",
   "metadata": {
    "slideshow": {
     "slide_type": "fragment"
    }
   },
   "source": [
    "### Utilisation des arguments par leur nom"
   ]
  },
  {
   "cell_type": "code",
   "execution_count": 5,
   "metadata": {},
   "outputs": [
    {
     "name": "stdout",
     "output_type": "stream",
     "text": [
      "11\n"
     ]
    }
   ],
   "source": [
    "print(somme(y=7, x=4))\n",
    "# L'ordre peut être changé lors de l'appel si les arguments sont nommés"
   ]
  },
  {
   "cell_type": "markdown",
   "metadata": {
    "slideshow": {
     "slide_type": "slide"
    }
   },
   "source": [
    "### Capture d'arguments non définis"
   ]
  },
  {
   "cell_type": "code",
   "execution_count": 6,
   "metadata": {
    "scrolled": false
   },
   "outputs": [
    {
     "name": "stdout",
     "output_type": "stream",
     "text": [
      "(\"n'importe\", 'quel nombre et type de', 'paramètres', 5, [1, 'toto'], None)\n"
     ]
    }
   ],
   "source": [
    "def func(*args):\n",
    "    print(args) # args est un tuple dont les éléments sont les arguments passés lors de l'appel\n",
    "\n",
    "func(\"n'importe\", \"quel nombre et type de\", \"paramètres\", 5, [1, 'toto'], None)"
   ]
  },
  {
   "cell_type": "markdown",
   "metadata": {},
   "source": [
    "Arguments multiples : caractères **  \n",
    "- utilisé pour transmettre un nombre quelconque d’arguments nommés ;    \n",
    "- la fonction reçoit un objet de type dict ;  \n",
    "- utilise le caractère spécial **."
   ]
  },
  {
   "cell_type": "code",
   "execution_count": 7,
   "metadata": {
    "slideshow": {
     "slide_type": "-"
    }
   },
   "outputs": [
    {
     "name": "stdout",
     "output_type": "stream",
     "text": [
      "{'x': 1, 'y': 2, 'couleur': 'rouge', 'epaisseur': 2}\n"
     ]
    }
   ],
   "source": [
    "def func(**kwargs):\n",
    "    print(kwargs)  # kwargs est un dictionnaire dont les éléments sont les arguments nommés passés lors de l'appel\n",
    "    \n",
    "func(x=1, y=2, couleur='rouge', epaisseur=2)  "
   ]
  },
  {
   "cell_type": "markdown",
   "metadata": {
    "slideshow": {
     "slide_type": "subslide"
    }
   },
   "source": [
    "On peut combiner ce type d'arguments pour une même fonction :"
   ]
  },
  {
   "cell_type": "code",
   "execution_count": 8,
   "metadata": {},
   "outputs": [
    {
     "name": "stdout",
     "output_type": "stream",
     "text": [
      "n = 2\n",
      "args = ('spam', 'egg')\n",
      "kwargs = {'x': 1, 'y': 2, 'couleur': 'rouge', 'epaisseur': 2}\n"
     ]
    }
   ],
   "source": [
    "def func(n, *args, **kwargs):  # cet ordre est important\n",
    "    print(\"n =\", n)\n",
    "    print(\"args =\", args)\n",
    "    print(\"kwargs =\", kwargs)\n",
    "    \n",
    "func(2, 'spam', 'egg', x=1, y=2, couleur='rouge', epaisseur=2)  "
   ]
  },
  {
   "cell_type": "code",
   "execution_count": 1,
   "metadata": {},
   "outputs": [],
   "source": [
    "def f5(**x):\n",
    "    print(\"argument(s) reçu(s):\", x) \n",
    "    return"
   ]
  },
  {
   "cell_type": "code",
   "execution_count": 2,
   "metadata": {},
   "outputs": [
    {
     "name": "stdout",
     "output_type": "stream",
     "text": [
      "argument(s) reçu(s): {'a': 2, 'b': 1, 'z': 2}\n"
     ]
    }
   ],
   "source": [
    "f5(a=2, b=1, z=2)"
   ]
  },
  {
   "cell_type": "code",
   "execution_count": 3,
   "metadata": {},
   "outputs": [],
   "source": [
    "d={\"age\":22, \"poids\":54, \"yeux\":\"bleus\"}"
   ]
  },
  {
   "cell_type": "code",
   "execution_count": 4,
   "metadata": {},
   "outputs": [
    {
     "name": "stdout",
     "output_type": "stream",
     "text": [
      "argument(s) reçu(s): {'age': 22, 'poids': 54, 'yeux': 'bleus'}\n"
     ]
    }
   ],
   "source": [
    "f5(**d)"
   ]
  },
  {
   "cell_type": "markdown",
   "metadata": {
    "slideshow": {
     "slide_type": "slide"
    }
   },
   "source": [
    "## Espace de nommage et portée des variables\n",
    "\n",
    "### 1er exemple\n",
    "\n",
    "On veut illustrer le mécanisme de l'espace de nommage des variables :\n"
   ]
  },
  {
   "cell_type": "code",
   "execution_count": 9,
   "metadata": {},
   "outputs": [
    {
     "name": "stdout",
     "output_type": "stream",
     "text": [
      "Dans func1(), a = 1\n",
      "Dans func2(), a = 2\n",
      "Dans l'espace englobant, a = 2\n"
     ]
    }
   ],
   "source": [
    "def func1():\n",
    "    a = 1\n",
    "    print(\"Dans func1(), a =\", a)\n",
    "\n",
    "def func2():\n",
    "    print(\"Dans func2(), a =\", a)\n",
    "    \n",
    "a = 2\n",
    "func1()\n",
    "func2()\n",
    "print(\"Dans l'espace englobant, a =\", a)"
   ]
  },
  {
   "cell_type": "markdown",
   "metadata": {},
   "source": [
    "Cet exemple montre que :\n",
    "\n",
    "1. Une variable définie localement à l'intérieur d'une fonction cache une variable du même nom définie dans l'espace englobant.\n",
    "2. Quand une variable n'est pas définie localement à l'intérieur d'une fonction, Python va chercher sa valeur dans l'espace englobant (cas de ``func2()``)."
   ]
  },
  {
   "cell_type": "markdown",
   "metadata": {
    "slideshow": {
     "slide_type": "subslide"
    }
   },
   "source": [
    "### 2ème exemple\n",
    "\n",
    "On veut illustrer le mécanisme de portée des variables au sein des fonctions :"
   ]
  },
  {
   "cell_type": "code",
   "execution_count": 5,
   "metadata": {},
   "outputs": [
    {
     "name": "stdout",
     "output_type": "stream",
     "text": [
      "Dans func(): a = 1\n",
      "Après func(): a = 2\n"
     ]
    }
   ],
   "source": [
    "def func():\n",
    "    a = 1\n",
    "    bbb = 2\n",
    "    print('Dans func(): a =', a)\n",
    "    \n",
    "a = 2\n",
    "func()\n",
    "print(\"Après func(): a =\", a)"
   ]
  },
  {
   "cell_type": "code",
   "execution_count": 6,
   "metadata": {},
   "outputs": [
    {
     "ename": "NameError",
     "evalue": "name 'bbb' is not defined",
     "output_type": "error",
     "traceback": [
      "\u001b[0;31m---------------------------------------------------------------------------\u001b[0m",
      "\u001b[0;31mNameError\u001b[0m                                 Traceback (most recent call last)",
      "\u001b[0;32m<ipython-input-6-b877c9599a48>\u001b[0m in \u001b[0;36m<module>\u001b[0;34m\u001b[0m\n\u001b[0;32m----> 1\u001b[0;31m \u001b[0mprint\u001b[0m\u001b[0;34m(\u001b[0m\u001b[0;34m\"Après func(): bbb =\"\u001b[0m\u001b[0;34m,\u001b[0m \u001b[0mbbb\u001b[0m\u001b[0;34m)\u001b[0m\u001b[0;34m\u001b[0m\u001b[0;34m\u001b[0m\u001b[0m\n\u001b[0m",
      "\u001b[0;31mNameError\u001b[0m: name 'bbb' is not defined"
     ]
    }
   ],
   "source": [
    "print(\"Après func(): bbb =\", bbb)"
   ]
  },
  {
   "cell_type": "markdown",
   "metadata": {},
   "source": [
    "Les variables définies localement à l'intérieur d'une fonction sont détruites à la sortie de cette fonction. Ici, la variable ``b`` n'existe pas hors de la fonction ``func()``, donc Python renvoie une erreur si on essaye d'utiliser ``b`` depuis l'espace englobant :"
   ]
  },
  {
   "cell_type": "markdown",
   "metadata": {
    "slideshow": {
     "slide_type": "slide"
    }
   },
   "source": [
    "## Fonctions *built-in* (fonctions intégrées ou primitives)\n",
    "\n",
    "Ces fonctions sont disponibles dans tous les contextes. La liste complète est détaillée [ici](https://docs.python.org/3/library/functions.html#). En voici une sélection :\n",
    "\n",
    "- ``dir(obj)`` : retourne une liste des toutes les méthodes et attributs de l'objet ``obj``\n",
    "- ``dir()`` : retourne une liste de tous les objets du contexte courant\n",
    "- ``eval(expr)`` : analyse et exécute la chaîne de caractère ``expr``"
   ]
  },
  {
   "cell_type": "code",
   "execution_count": 12,
   "metadata": {},
   "outputs": [
    {
     "name": "stdout",
     "output_type": "stream",
     "text": [
      "b est de type <class 'int'> et vaut 2\n"
     ]
    }
   ],
   "source": [
    "a = 1\n",
    "b = eval('a + 1')\n",
    "print(\"b est de type\", type(b), \"et vaut\", b)"
   ]
  },
  {
   "cell_type": "markdown",
   "metadata": {},
   "source": [
    "- ``globals()`` : retourne un dictionnaire des variables présentes dans le contexte global\n",
    "- ``locals()`` : idem ``globals()`` mais avec le contexte local\n",
    "- ``help(obj)`` : affiche l’aide au sujet d’un objet\n",
    "- ``help()`` : affiche l’aide générale (s'appelle depuis l'interpréteur interactif)"
   ]
  },
  {
   "cell_type": "markdown",
   "metadata": {
    "slideshow": {
     "slide_type": "subslide"
    }
   },
   "source": [
    "- ``input(prompt)`` : retourne une chaîne de caractère lue dans la console après le message ``prompt``"
   ]
  },
  {
   "cell_type": "code",
   "execution_count": 24,
   "metadata": {},
   "outputs": [
    {
     "data": {
      "text/plain": [
       "{'__name__': '__main__',\n",
       " '__doc__': 'Automatically created module for IPython interactive environment',\n",
       " '__package__': None,\n",
       " '__loader__': None,\n",
       " '__spec__': None,\n",
       " '__builtin__': <module 'builtins' (built-in)>,\n",
       " '__builtins__': <module 'builtins' (built-in)>,\n",
       " '_ih': ['',\n",
       "  'globals()',\n",
       "  'locals()',\n",
       "  \"reponse = input('Ca va ? ')  # Seule la variante input() fonctionne dans un notebook\\nif reponse.lower() in ('o', 'oui', 'yes', 'y', 'ok', 'da', 'jawohl', 'ja'):\\n    print('Supercalifragilisticexpialidocious')\\nelse:\\n    print('Faut prendre des vacances...')\",\n",
       "  'print(list(range(10)))\\nprint(list(range(5, 10, 2)))',\n",
       "  'print(list(range(10)))\\nprint(list(range(5, 10, 2)))\\nprint(reversed(list(range(10))))',\n",
       "  'print(list(range(10)))\\nprint(list(range(5, 10, 2)))\\nL=list(range(10))\\nreversed(L)',\n",
       "  'print(list(range(10)))\\nprint(list(range(5, 10, 2)))\\nL=list(range(10))\\nprint(reversed(L))',\n",
       "  'print(list(range(10)))\\nprint(list(range(5, 10, 2)))\\nL=list(range(10))\\n[i in reversed(L)]',\n",
       "  'print(list(range(10)))\\nprint(list(range(5, 10, 2)))\\nL=list(range(10))\\n[i for i in reversed(L)]',\n",
       "  '[i for i in reversed(range(10))]',\n",
       "  '[i for i in reversed(range(10))]',\n",
       "  '[i for i in reversed(range(10))]',\n",
       "  'repr(range(10))',\n",
       "  'help(range(10))',\n",
       "  'type(range(10))',\n",
       "  'type(range(10)),type(reversed(range(10)))',\n",
       "  'R=[i for i in reversed(range(10))]',\n",
       "  'R=[i for i in reversed(range(10))]\\nR',\n",
       "  'type(range(10)),type(reversed(range(10))),reversed(R)',\n",
       "  'type(range(10)),type(reversed(range(10))),type(reversed(R))',\n",
       "  'def func():  # Definition de la fonction\\n    print(\\'You know what?\\')\\n    print(\"I\\'m happy!\")',\n",
       "  'func()  # 1er Appel de la fonction\\nfunc()  # 2eme appel\\nfunc()  # 3eme appel, etc...',\n",
       "  'def func():  # Definition de la fonction\\n    return \"I\\'m happy\"  # La fonction retourne une chaine de caractère\\n\\nprint(\"1er appel:\")\\nfunc()  # 1er Appel de la fonction : la valeur retournée n\\'est pas utilisée\\nprint(\"2eme appel:\")\\nret_val = func()  # Le retour du 2eme appel est stocké\\nprint(\"La fonction func() nous a renvoyé la valeur:\", ret_val)',\n",
       "  'globals()'],\n",
       " '_oh': {1: {...},\n",
       "  2: {...},\n",
       "  6: <list_reverseiterator at 0x10bf1c908>,\n",
       "  9: [9, 8, 7, 6, 5, 4, 3, 2, 1, 0],\n",
       "  10: [9, 8, 7, 6, 5, 4, 3, 2, 1, 0],\n",
       "  11: [9, 8, 7, 6, 5, 4, 3, 2, 1, 0],\n",
       "  12: [9, 8, 7, 6, 5, 4, 3, 2, 1, 0],\n",
       "  13: 'range(0, 10)',\n",
       "  15: range,\n",
       "  16: (range, range_iterator),\n",
       "  18: [9, 8, 7, 6, 5, 4, 3, 2, 1, 0],\n",
       "  19: (range, range_iterator, <list_reverseiterator at 0x10bf99a90>),\n",
       "  20: (range, range_iterator, list_reverseiterator)},\n",
       " '_dh': ['/Users/ensicaen/Documents/LANGAGES/Python/2019/Cours_2019/05'],\n",
       " 'In': ['',\n",
       "  'globals()',\n",
       "  'locals()',\n",
       "  \"reponse = input('Ca va ? ')  # Seule la variante input() fonctionne dans un notebook\\nif reponse.lower() in ('o', 'oui', 'yes', 'y', 'ok', 'da', 'jawohl', 'ja'):\\n    print('Supercalifragilisticexpialidocious')\\nelse:\\n    print('Faut prendre des vacances...')\",\n",
       "  'print(list(range(10)))\\nprint(list(range(5, 10, 2)))',\n",
       "  'print(list(range(10)))\\nprint(list(range(5, 10, 2)))\\nprint(reversed(list(range(10))))',\n",
       "  'print(list(range(10)))\\nprint(list(range(5, 10, 2)))\\nL=list(range(10))\\nreversed(L)',\n",
       "  'print(list(range(10)))\\nprint(list(range(5, 10, 2)))\\nL=list(range(10))\\nprint(reversed(L))',\n",
       "  'print(list(range(10)))\\nprint(list(range(5, 10, 2)))\\nL=list(range(10))\\n[i in reversed(L)]',\n",
       "  'print(list(range(10)))\\nprint(list(range(5, 10, 2)))\\nL=list(range(10))\\n[i for i in reversed(L)]',\n",
       "  '[i for i in reversed(range(10))]',\n",
       "  '[i for i in reversed(range(10))]',\n",
       "  '[i for i in reversed(range(10))]',\n",
       "  'repr(range(10))',\n",
       "  'help(range(10))',\n",
       "  'type(range(10))',\n",
       "  'type(range(10)),type(reversed(range(10)))',\n",
       "  'R=[i for i in reversed(range(10))]',\n",
       "  'R=[i for i in reversed(range(10))]\\nR',\n",
       "  'type(range(10)),type(reversed(range(10))),reversed(R)',\n",
       "  'type(range(10)),type(reversed(range(10))),type(reversed(R))',\n",
       "  'def func():  # Definition de la fonction\\n    print(\\'You know what?\\')\\n    print(\"I\\'m happy!\")',\n",
       "  'func()  # 1er Appel de la fonction\\nfunc()  # 2eme appel\\nfunc()  # 3eme appel, etc...',\n",
       "  'def func():  # Definition de la fonction\\n    return \"I\\'m happy\"  # La fonction retourne une chaine de caractère\\n\\nprint(\"1er appel:\")\\nfunc()  # 1er Appel de la fonction : la valeur retournée n\\'est pas utilisée\\nprint(\"2eme appel:\")\\nret_val = func()  # Le retour du 2eme appel est stocké\\nprint(\"La fonction func() nous a renvoyé la valeur:\", ret_val)',\n",
       "  'globals()'],\n",
       " 'Out': {1: {...},\n",
       "  2: {...},\n",
       "  6: <list_reverseiterator at 0x10bf1c908>,\n",
       "  9: [9, 8, 7, 6, 5, 4, 3, 2, 1, 0],\n",
       "  10: [9, 8, 7, 6, 5, 4, 3, 2, 1, 0],\n",
       "  11: [9, 8, 7, 6, 5, 4, 3, 2, 1, 0],\n",
       "  12: [9, 8, 7, 6, 5, 4, 3, 2, 1, 0],\n",
       "  13: 'range(0, 10)',\n",
       "  15: range,\n",
       "  16: (range, range_iterator),\n",
       "  18: [9, 8, 7, 6, 5, 4, 3, 2, 1, 0],\n",
       "  19: (range, range_iterator, <list_reverseiterator at 0x10bf99a90>),\n",
       "  20: (range, range_iterator, list_reverseiterator)},\n",
       " 'get_ipython': <bound method InteractiveShell.get_ipython of <ipykernel.zmqshell.ZMQInteractiveShell object at 0x10b2b0048>>,\n",
       " 'exit': <IPython.core.autocall.ZMQExitAutocall at 0x10bd8a240>,\n",
       " 'quit': <IPython.core.autocall.ZMQExitAutocall at 0x10bd8a240>,\n",
       " '_': (range, range_iterator, list_reverseiterator),\n",
       " '__': (range, range_iterator, <list_reverseiterator at 0x10bf99a90>),\n",
       " '___': [9, 8, 7, 6, 5, 4, 3, 2, 1, 0],\n",
       " '_i': 'def func():  # Definition de la fonction\\n    return \"I\\'m happy\"  # La fonction retourne une chaine de caractère\\n\\nprint(\"1er appel:\")\\nfunc()  # 1er Appel de la fonction : la valeur retournée n\\'est pas utilisée\\nprint(\"2eme appel:\")\\nret_val = func()  # Le retour du 2eme appel est stocké\\nprint(\"La fonction func() nous a renvoyé la valeur:\", ret_val)',\n",
       " '_ii': 'func()  # 1er Appel de la fonction\\nfunc()  # 2eme appel\\nfunc()  # 3eme appel, etc...',\n",
       " '_iii': 'def func():  # Definition de la fonction\\n    print(\\'You know what?\\')\\n    print(\"I\\'m happy!\")',\n",
       " '_i1': 'globals()',\n",
       " '_1': {...},\n",
       " '_i2': 'locals()',\n",
       " '_2': {...},\n",
       " '_i3': \"reponse = input('Ca va ? ')  # Seule la variante input() fonctionne dans un notebook\\nif reponse.lower() in ('o', 'oui', 'yes', 'y', 'ok', 'da', 'jawohl', 'ja'):\\n    print('Supercalifragilisticexpialidocious')\\nelse:\\n    print('Faut prendre des vacances...')\",\n",
       " 'reponse': 'o',\n",
       " '_i4': 'print(list(range(10)))\\nprint(list(range(5, 10, 2)))',\n",
       " '_i5': 'print(list(range(10)))\\nprint(list(range(5, 10, 2)))\\nprint(reversed(list(range(10))))',\n",
       " '_i6': 'print(list(range(10)))\\nprint(list(range(5, 10, 2)))\\nL=list(range(10))\\nreversed(L)',\n",
       " 'L': [0, 1, 2, 3, 4, 5, 6, 7, 8, 9],\n",
       " '_6': <list_reverseiterator at 0x10bf1c908>,\n",
       " '_i7': 'print(list(range(10)))\\nprint(list(range(5, 10, 2)))\\nL=list(range(10))\\nprint(reversed(L))',\n",
       " '_i8': 'print(list(range(10)))\\nprint(list(range(5, 10, 2)))\\nL=list(range(10))\\n[i in reversed(L)]',\n",
       " '_i9': 'print(list(range(10)))\\nprint(list(range(5, 10, 2)))\\nL=list(range(10))\\n[i for i in reversed(L)]',\n",
       " '_9': [9, 8, 7, 6, 5, 4, 3, 2, 1, 0],\n",
       " '_i10': '\\n[i for i in reversed(range(10))]',\n",
       " '_10': [9, 8, 7, 6, 5, 4, 3, 2, 1, 0],\n",
       " '_i11': '[i for i in reversed(range(10))]',\n",
       " '_11': [9, 8, 7, 6, 5, 4, 3, 2, 1, 0],\n",
       " '_i12': '[i for i in reversed(range(10))]',\n",
       " '_12': [9, 8, 7, 6, 5, 4, 3, 2, 1, 0],\n",
       " '_i13': 'repr(range(10))',\n",
       " '_13': 'range(0, 10)',\n",
       " '_i14': 'help(range(10))',\n",
       " '_i15': 'type(range(10))',\n",
       " '_15': range,\n",
       " '_i16': 'type(range(10)),type(reversed(range(10)))',\n",
       " '_16': (range, range_iterator),\n",
       " '_i17': 'R=[i for i in reversed(range(10))]',\n",
       " 'R': [9, 8, 7, 6, 5, 4, 3, 2, 1, 0],\n",
       " '_i18': 'R=[i for i in reversed(range(10))]\\nR',\n",
       " '_18': [9, 8, 7, 6, 5, 4, 3, 2, 1, 0],\n",
       " '_i19': 'type(range(10)),type(reversed(range(10))),reversed(R)',\n",
       " '_19': (range, range_iterator, <list_reverseiterator at 0x10bf99a90>),\n",
       " '_i20': 'type(range(10)),type(reversed(range(10))),type(reversed(R))',\n",
       " '_20': (range, range_iterator, list_reverseiterator),\n",
       " '_i21': 'def func():  # Definition de la fonction\\n    print(\\'You know what?\\')\\n    print(\"I\\'m happy!\")',\n",
       " 'func': <function __main__.func()>,\n",
       " '_i22': 'func()  # 1er Appel de la fonction\\nfunc()  # 2eme appel\\nfunc()  # 3eme appel, etc...',\n",
       " '_i23': 'def func():  # Definition de la fonction\\n    return \"I\\'m happy\"  # La fonction retourne une chaine de caractère\\n\\nprint(\"1er appel:\")\\nfunc()  # 1er Appel de la fonction : la valeur retournée n\\'est pas utilisée\\nprint(\"2eme appel:\")\\nret_val = func()  # Le retour du 2eme appel est stocké\\nprint(\"La fonction func() nous a renvoyé la valeur:\", ret_val)',\n",
       " 'ret_val': \"I'm happy\",\n",
       " '_i24': 'globals()'}"
      ]
     },
     "execution_count": 24,
     "metadata": {},
     "output_type": "execute_result"
    }
   ],
   "source": [
    "globals()"
   ]
  },
  {
   "cell_type": "code",
   "execution_count": 26,
   "metadata": {},
   "outputs": [
    {
     "ename": "NameError",
     "evalue": "name 'i' is not defined",
     "output_type": "error",
     "traceback": [
      "\u001b[0;31m---------------------------------------------------------------------------\u001b[0m",
      "\u001b[0;31mNameError\u001b[0m                                 Traceback (most recent call last)",
      "\u001b[0;32m<ipython-input-26-66f4f7773512>\u001b[0m in \u001b[0;36m<module>\u001b[0;34m\u001b[0m\n\u001b[0;32m----> 1\u001b[0;31m \u001b[0mlocals\u001b[0m\u001b[0;34m(\u001b[0m\u001b[0mi\u001b[0m\u001b[0;34m)\u001b[0m\u001b[0;34m\u001b[0m\u001b[0;34m\u001b[0m\u001b[0m\n\u001b[0m",
      "\u001b[0;31mNameError\u001b[0m: name 'i' is not defined"
     ]
    }
   ],
   "source": [
    "locals(i)"
   ]
  },
  {
   "cell_type": "code",
   "execution_count": 3,
   "metadata": {},
   "outputs": [
    {
     "name": "stdout",
     "output_type": "stream",
     "text": [
      "Ca va ? o\n",
      "Supercalifragilisticexpialidocious\n"
     ]
    }
   ],
   "source": [
    "reponse = input('Ca va ? ')  # Seule la variante input() fonctionne dans un notebook\n",
    "if reponse.lower() in ('o', 'oui', 'yes', 'y', 'ok', 'da', 'jawohl', 'ja'):\n",
    "    print('Supercalifragilisticexpialidocious')\n",
    "else:\n",
    "    print('Faut prendre des vacances...')"
   ]
  },
  {
   "cell_type": "markdown",
   "metadata": {},
   "source": [
    "- ``len(seq)`` : retourne la longueur de la séquence ``seq``\n",
    "- ``max(seq)`` : retourne le maximum de la séquence ``seq`` \n",
    "- ``min(seq)`` : retourne le minimum de la séquence ``seq``"
   ]
  },
  {
   "cell_type": "markdown",
   "metadata": {
    "slideshow": {
     "slide_type": "subslide"
    }
   },
   "source": [
    "- ``range([start=0], stop[, step=1])`` : retourne une liste d'entiers allant de ``start`` à ``stop - 1``, par pas de ``step``."
   ]
  },
  {
   "cell_type": "code",
   "execution_count": 9,
   "metadata": {},
   "outputs": [
    {
     "name": "stdout",
     "output_type": "stream",
     "text": [
      "[0, 1, 2, 3, 4, 5, 6, 7, 8, 9]\n",
      "[5, 7, 9]\n"
     ]
    },
    {
     "data": {
      "text/plain": [
       "[9, 8, 7, 6, 5, 4, 3, 2, 1, 0]"
      ]
     },
     "execution_count": 9,
     "metadata": {},
     "output_type": "execute_result"
    }
   ],
   "source": [
    "print(list(range(10)))\n",
    "print(list(range(5, 10, 2)))"
   ]
  },
  {
   "cell_type": "markdown",
   "metadata": {
    "slideshow": {
     "slide_type": "-"
    }
   },
   "source": [
    "- ``repr(obj)``: affiche la représentation de l'objet ``obj``.\n",
    "- ``reversed(seq)`` : retourne l’inverse de la séquence ``seq``"
   ]
  },
  {
   "cell_type": "code",
   "execution_count": 18,
   "metadata": {},
   "outputs": [
    {
     "data": {
      "text/plain": [
       "[9, 8, 7, 6, 5, 4, 3, 2, 1, 0]"
      ]
     },
     "execution_count": 18,
     "metadata": {},
     "output_type": "execute_result"
    }
   ],
   "source": [
    "R=[i for i in reversed(range(10))]\n",
    "R"
   ]
  },
  {
   "cell_type": "code",
   "execution_count": 20,
   "metadata": {},
   "outputs": [
    {
     "data": {
      "text/plain": [
       "(range, range_iterator, list_reverseiterator)"
      ]
     },
     "execution_count": 20,
     "metadata": {},
     "output_type": "execute_result"
    }
   ],
   "source": [
    "# des choses curieuses\n",
    "type(range(10)),type(reversed(range(10))),type(reversed(R))"
   ]
  },
  {
   "cell_type": "markdown",
   "metadata": {
    "slideshow": {
     "slide_type": "-"
    }
   },
   "source": [
    "- ``sorted(seq)`` : retourne une séquence triée à partir de la séquence ``seq``\n",
    "- ``sum(seq)`` : retourne la somme des éléments de la séquence ``seq``"
   ]
  },
  {
   "cell_type": "markdown",
   "metadata": {
    "slideshow": {
     "slide_type": "subslide"
    }
   },
   "source": [
    "## Exercices sur les fonctions"
   ]
  },
  {
   "cell_type": "markdown",
   "metadata": {
    "slideshow": {
     "slide_type": "-"
    }
   },
   "source": [
    "> **Exercice 1**\n",
    "\n",
    "> Ecrire une fonction ``stat()`` qui prend en argument une séquence d'entiers et retourne un tuple contenant :\n",
    ">\n",
    "> - la somme\n",
    "> - le minimum\n",
    "> - le maximum\n",
    ">\n",
    "> des éléments de la liste"
   ]
  },
  {
   "cell_type": "code",
   "execution_count": null,
   "metadata": {},
   "outputs": [],
   "source": [
    "def stat(a_list):\n",
    "    # votre fonction\n",
    "    pass\n",
    "\n",
    "stat([1, 4, 6, 9])"
   ]
  },
  {
   "cell_type": "markdown",
   "metadata": {
    "slideshow": {
     "slide_type": "slide"
    }
   },
   "source": [
    "# Exceptions\n",
    "\n",
    "Pour signaler des conditions particulières (erreurs, évenements exceptionnels), Python utilise un mécanisme de levée d'exceptions."
   ]
  },
  {
   "cell_type": "code",
   "execution_count": 15,
   "metadata": {},
   "outputs": [
    {
     "ename": "Exception",
     "evalue": "",
     "output_type": "error",
     "traceback": [
      "\u001b[0;31m---------------------------------------------------------------------------\u001b[0m",
      "\u001b[0;31mException\u001b[0m                                 Traceback (most recent call last)",
      "\u001b[0;32m<ipython-input-15-636a76fdcc4b>\u001b[0m in \u001b[0;36m<module>\u001b[0;34m()\u001b[0m\n\u001b[1;32m      1\u001b[0m \u001b[0;31m# Cette cellule génère une erreur\u001b[0m\u001b[0;34m\u001b[0m\u001b[0;34m\u001b[0m\u001b[0m\n\u001b[0;32m----> 2\u001b[0;31m \u001b[0;32mraise\u001b[0m \u001b[0mException\u001b[0m\u001b[0;34m\u001b[0m\u001b[0m\n\u001b[0m",
      "\u001b[0;31mException\u001b[0m: "
     ]
    }
   ],
   "source": [
    "# Cette cellule génère une erreur\n",
    "raise Exception"
   ]
  },
  {
   "cell_type": "markdown",
   "metadata": {
    "slideshow": {
     "slide_type": "fragment"
    }
   },
   "source": [
    "Ces exceptions peuvent embarquer des données permettant d'identifier l'évenement producteur."
   ]
  },
  {
   "cell_type": "code",
   "execution_count": 16,
   "metadata": {},
   "outputs": [
    {
     "ename": "Exception",
     "evalue": "Y a une erreur",
     "output_type": "error",
     "traceback": [
      "\u001b[0;31m---------------------------------------------------------------------------\u001b[0m",
      "\u001b[0;31mException\u001b[0m                                 Traceback (most recent call last)",
      "\u001b[0;32m<ipython-input-16-c69db99df0a4>\u001b[0m in \u001b[0;36m<module>\u001b[0;34m()\u001b[0m\n\u001b[1;32m      1\u001b[0m \u001b[0;31m# Cette cellule génère une erreur\u001b[0m\u001b[0;34m\u001b[0m\u001b[0;34m\u001b[0m\u001b[0m\n\u001b[0;32m----> 2\u001b[0;31m \u001b[0;32mraise\u001b[0m \u001b[0mException\u001b[0m\u001b[0;34m(\u001b[0m\u001b[0;34m'Y a une erreur'\u001b[0m\u001b[0;34m)\u001b[0m\u001b[0;34m\u001b[0m\u001b[0m\n\u001b[0m",
      "\u001b[0;31mException\u001b[0m: Y a une erreur"
     ]
    }
   ],
   "source": [
    "# Cette cellule génère une erreur\n",
    "raise Exception('Y a une erreur')"
   ]
  },
  {
   "cell_type": "markdown",
   "metadata": {
    "slideshow": {
     "slide_type": "subslide"
    }
   },
   "source": [
    "La levée d'une exception interrompt le cours normal de l'exécution du code et \"remonte\" jusqu'à l'endroit le plus proche gérant cette exception.\n",
    "\n",
    "Pour intercepter les exceptions, on écrit :\n",
    "\n",
    "    try:\n",
    "        <bloc de code 1>\n",
    "    except Exception:\n",
    "        <bloc de code 2>"
   ]
  },
  {
   "cell_type": "code",
   "execution_count": 2,
   "metadata": {},
   "outputs": [
    {
     "name": "stdout",
     "output_type": "stream",
     "text": [
      "ici ca fonctionne\n",
      "ici on peut essayer de corriger le problème lié à l'exception : Exception('y a un bug')\n",
      "et après, cela continue ici\n"
     ]
    }
   ],
   "source": [
    "try:\n",
    "    print('ici ca fonctionne')\n",
    "    # ici on détecte une condition exceptionnelle, on signale une exception\n",
    "    raise Exception('y a un bug')\n",
    "    print('on arrive jamais ici')\n",
    "except Exception as e:\n",
    "    # L'excécution continue ici\n",
    "    print(\"ici on peut essayer de corriger le problème lié à l'exception : Exception('%s')\" % str(e))\n",
    "print(\"et après, cela continue ici\")"
   ]
  },
  {
   "cell_type": "markdown",
   "metadata": {
    "slideshow": {
     "slide_type": "subslide"
    }
   },
   "source": [
    "Exemple illustrant le mécanisme de remontée des exceptions d'un bloc à l'autre :"
   ]
  },
  {
   "cell_type": "code",
   "execution_count": 31,
   "metadata": {},
   "outputs": [
    {
     "name": "stdout",
     "output_type": "stream",
     "text": [
      "début B\n",
      "l'exception vous envoie le message : coucou de A\n"
     ]
    }
   ],
   "source": [
    "def a():\n",
    "    raise Exception('coucou de A')\n",
    "\n",
    "def b():\n",
    "    print('début B')\n",
    "    a()\n",
    "    print('B n\\'est pas fini')\n",
    "\n",
    "try:\n",
    "    b()\n",
    "except Exception as e:\n",
    "    print(\"l'exception vous envoie le message :\", e)"
   ]
  },
  {
   "cell_type": "markdown",
   "metadata": {
    "slideshow": {
     "slide_type": "subslide"
    }
   },
   "source": [
    "> **Exercice** : Ecrivez une fonction qui demande à l'utilisateur un fichier a ouvrir, et qui gère correctement les fichiers inexistants. Ensuite cette fonction affichera la première ligne du fichier. Finalement la fonction retournera une valeur booléenne indiquant que le fichier a été ouvert ou non.\n",
    "\n",
    "Attention: sous windows, par defaut les extensions de fichier sont cachées..."
   ]
  },
  {
   "cell_type": "code",
   "execution_count": null,
   "metadata": {},
   "outputs": [],
   "source": [
    "# Votre code ici"
   ]
  },
  {
   "cell_type": "markdown",
   "metadata": {},
   "source": [
    "Pour plus d'informations sur les exceptions, se référer [ici](https://docs.python.org/3/tutorial/errors.html)"
   ]
  },
  {
   "cell_type": "markdown",
   "metadata": {
    "slideshow": {
     "slide_type": "slide"
    }
   },
   "source": [
    "# Les gestionnaires de contexte\n",
    "\n",
    "Pour faciliter la gestion des obligations liées à la libération de ressources, la fermeture de fichiers, etc... Python propose des gestionnaires de contexte introduits par le mot clé ``with``."
   ]
  },
  {
   "cell_type": "code",
   "execution_count": null,
   "metadata": {},
   "outputs": [],
   "source": [
    "with open('interessant.txt', 'r') as fichier_ouvert:\n",
    "    # Dans ce bloc de code le fichier est ouvert en lecture, on peut l'utiliser normalement\n",
    "    print(fichier_ouvert.read())\n",
    "# Ici, on est sorti du bloc et du contexte, le fichier à été fermé automatiquement"
   ]
  },
  {
   "cell_type": "code",
   "execution_count": null,
   "metadata": {},
   "outputs": [],
   "source": [
    "# Cette cellule génère une erreur\n",
    "print(fichier_ouvert.read())"
   ]
  },
  {
   "cell_type": "markdown",
   "metadata": {
    "slideshow": {
     "slide_type": "subslide"
    }
   },
   "source": [
    "> **Exercice** : Reprenez le code de l'exercice précédent, et utilisez ``with`` pour ne pas avoir à utiliser la méthode ``close()``."
   ]
  },
  {
   "cell_type": "code",
   "execution_count": null,
   "metadata": {},
   "outputs": [],
   "source": [
    "# Votre code ici"
   ]
  },
  {
   "cell_type": "markdown",
   "metadata": {
    "slideshow": {
     "slide_type": "-"
    }
   },
   "source": [
    "Il est possible de créer de nouveaux gestionnaires de contexte, pour que vos objets puissent être utilisés avec ``with`` et que les ressources associées soient correctement libérées.\n",
    "\n",
    "Pour plus d'informations sur la création de gestionnaires de contexte, voir [ici](https://docs.python.org/3/library/stdtypes.html#context-manager-types)."
   ]
  },
  {
   "cell_type": "markdown",
   "metadata": {
    "slideshow": {
     "slide_type": "subslide"
    }
   },
   "source": [
    "# Les compréhensions de listes\n",
    "\n",
    "Python a introduit une facilité d'écriture pour les listes qui permet de rendre le code plus lisible car plus concis."
   ]
  },
  {
   "cell_type": "code",
   "execution_count": 30,
   "metadata": {},
   "outputs": [
    {
     "name": "stdout",
     "output_type": "stream",
     "text": [
      "[0, 1, 2, 3, 4, 5, 6, 7, 8, 9]\n",
      "[0, 2, 4, 6, 8]\n"
     ]
    }
   ],
   "source": [
    "# Ce code construit une liste ne contenant que les éléments pairs de la liste Liste1\n",
    "Liste1 = list(range(10))\n",
    "print(Liste1)\n",
    "ListePaire = []\n",
    "for i in Liste1:\n",
    "    if (i % 2) == 0:\n",
    "        ListePaire.append(i)\n",
    "print(ListePaire)"
   ]
  },
  {
   "cell_type": "code",
   "execution_count": 20,
   "metadata": {
    "slideshow": {
     "slide_type": "fragment"
    }
   },
   "outputs": [
    {
     "name": "stdout",
     "output_type": "stream",
     "text": [
      "[0, 2, 4, 6, 8]\n"
     ]
    }
   ],
   "source": [
    "# Ici, on fait la même chose, en liste...\n",
    "ListePaire = [i for i in Liste1 if (i % 2) == 0]\n",
    "print(ListePaire)"
   ]
  },
  {
   "cell_type": "markdown",
   "metadata": {},
   "source": [
    "Cette concision peut être utile, mais n'en abusez pas, si vous commencez a avoir une compréhension de liste trop complexe a écrire en une simple ligne, faites le \"normalement\", avec les boucles et conditions explicites.  \n",
    "Plus d'informations [ici](https://docs.python.org/3/tutorial/datastructures.html#list-comprehensions)."
   ]
  },
  {
   "cell_type": "markdown",
   "metadata": {
    "slideshow": {
     "slide_type": "slide"
    }
   },
   "source": [
    "# Les expressions génératrices\n",
    "\n",
    "C'est une forme d'écriture, très proche des compréhensions de listes, mais qui ne crée pas de nouvel objet liste immédiatement. Les items sont produits à la demande."
   ]
  },
  {
   "cell_type": "code",
   "execution_count": 28,
   "metadata": {},
   "outputs": [
    {
     "ename": "NameError",
     "evalue": "name 'Liste1' is not defined",
     "output_type": "error",
     "traceback": [
      "\u001b[0;31m---------------------------------------------------------------------------\u001b[0m",
      "\u001b[0;31mNameError\u001b[0m                                 Traceback (most recent call last)",
      "\u001b[0;32m<ipython-input-28-e5356f86b5de>\u001b[0m in \u001b[0;36m<module>\u001b[0;34m\u001b[0m\n\u001b[0;32m----> 1\u001b[0;31m \u001b[0mtuplePairs\u001b[0m \u001b[0;34m=\u001b[0m \u001b[0;34m(\u001b[0m\u001b[0mi\u001b[0m \u001b[0;32mfor\u001b[0m \u001b[0mi\u001b[0m \u001b[0;32min\u001b[0m \u001b[0mListe1\u001b[0m \u001b[0;32mif\u001b[0m \u001b[0;34m(\u001b[0m\u001b[0mi\u001b[0m \u001b[0;34m%\u001b[0m \u001b[0;36m2\u001b[0m\u001b[0;34m)\u001b[0m \u001b[0;34m==\u001b[0m \u001b[0;36m0\u001b[0m\u001b[0;34m)\u001b[0m\u001b[0;34m\u001b[0m\u001b[0;34m\u001b[0m\u001b[0m\n\u001b[0m\u001b[1;32m      2\u001b[0m \u001b[0mprint\u001b[0m\u001b[0;34m(\u001b[0m\u001b[0mtuplePairs\u001b[0m\u001b[0;34m)\u001b[0m\u001b[0;34m\u001b[0m\u001b[0;34m\u001b[0m\u001b[0m\n\u001b[1;32m      3\u001b[0m \u001b[0mprint\u001b[0m\u001b[0;34m(\u001b[0m\u001b[0mlist\u001b[0m\u001b[0;34m(\u001b[0m\u001b[0mtuplePairs\u001b[0m\u001b[0;34m)\u001b[0m\u001b[0;34m)\u001b[0m\u001b[0;34m\u001b[0m\u001b[0;34m\u001b[0m\u001b[0m\n",
      "\u001b[0;31mNameError\u001b[0m: name 'Liste1' is not defined"
     ]
    }
   ],
   "source": [
    "tuplePairs = (i for i in Liste1 if (i % 2) == 0)\n",
    "print(tuplePairs)\n",
    "print(list(tuplePairs))"
   ]
  },
  {
   "cell_type": "markdown",
   "metadata": {},
   "source": [
    "Plus d'informations [ici](https://docs.python.org/3/tutorial/classes.html#generator-expressions)."
   ]
  },
  {
   "cell_type": "markdown",
   "metadata": {
    "slideshow": {
     "slide_type": "slide"
    }
   },
   "source": [
    "# Modules\n",
    "\n",
    "- Python fournit un système de modularisation du code qui permet d'organiser un projet contenant de grandes quantités de code et de réutiliser et de partager ce code entre plusieurs applications.\n",
    "\n",
    "- L'instruction ``import`` permet d'accéder à du code situé dans d'autres fichiers. Cela inclut les nombreux modules de la librairie standard, tout comme vos propres fichiers contenant du code.\n",
    "\n",
    "- Les fonctions et variables du module sont accessibles de la manière suivante :\n",
    "\n",
    "\n",
    "    <nom du module>.<nom de variable>\n",
    "    <nom du module>.<nom de fonction>([<parametre1>][, <parametre N>]...)\n",
    "    "
   ]
  },
  {
   "cell_type": "code",
   "execution_count": 3,
   "metadata": {},
   "outputs": [
    {
     "name": "stdout",
     "output_type": "stream",
     "text": [
      "3.141592653589793115997963468544185161590576171875000000000000000000000000000\n",
      "0.00\n"
     ]
    }
   ],
   "source": [
    "# Pour utiliser les fonctions mathématiques du module 'math'\n",
    "import math\n",
    "\n",
    "pi = math.pi\n",
    "print('%.75f' % pi)\n",
    "print('%.2f' % math.sin(pi))"
   ]
  },
  {
   "cell_type": "markdown",
   "metadata": {
    "slideshow": {
     "slide_type": "subslide"
    }
   },
   "source": [
    "Pour créer vos propres modules, il suffit de placer votre code dans un fichier avec l'extension '.py', et ensuite vous pourrez l'importer comme module dans le reste de votre code.\n",
    "\n",
    "Il y a un fichier mon_module.py a coté du notebook, il contient du code définissant ``ma_variable`` et ``ma_fonction()``."
   ]
  },
  {
   "cell_type": "code",
   "execution_count": null,
   "metadata": {},
   "outputs": [],
   "source": [
    "import mon_module\n",
    "print(mon_module.ma_variable)\n",
    "mon_module.ma_fonction()  # On accede ainsi à l'attribut ma_fonction() du module mon_module"
   ]
  },
  {
   "cell_type": "markdown",
   "metadata": {
    "slideshow": {
     "slide_type": "subslide"
    }
   },
   "source": [
    "On peut importer un module sous un autre nom (pour le raccourcir, en général) :"
   ]
  },
  {
   "cell_type": "code",
   "execution_count": null,
   "metadata": {},
   "outputs": [],
   "source": [
    "import mon_module as mm\n",
    "mm.ma_fonction()"
   ]
  },
  {
   "cell_type": "markdown",
   "metadata": {},
   "source": [
    "**Note** : un module n'est importé qu'une seule fois au sein d'une même instance Python."
   ]
  },
  {
   "cell_type": "markdown",
   "metadata": {},
   "source": [
    "> **Exercice** : Modifiez le code contenu dans le fichier [mon_module.py](http://localhost:8888/edit/mon_module.py), et reexécutez la cellule ci-dessus."
   ]
  },
  {
   "cell_type": "markdown",
   "metadata": {},
   "source": [
    "Pour plus d'informations sur les modules, allez voir [ici](https://docs.python.org/3/tutorial/modules.html)."
   ]
  },
  {
   "cell_type": "markdown",
   "metadata": {
    "slideshow": {
     "slide_type": "subslide"
    }
   },
   "source": [
    "## Quelques modules de la stdlib\n",
    "\n",
    "La librairie standard de Python est incluse dans toute distribution de Python. Elle contient en particulier une panoplie de modules à la disposition du développeur.\n",
    "\n",
    "### ``string``\n",
    "\n",
    "- ``find()``\n",
    "- ``count()``\n",
    "- ``split()``\n",
    "- ``join()``\n",
    "- ``strip()``\n",
    "- ``upper()``\n",
    "- ``replace()``"
   ]
  },
  {
   "cell_type": "markdown",
   "metadata": {
    "slideshow": {
     "slide_type": "subslide"
    }
   },
   "source": [
    "### ``math``\n",
    "\n",
    "- ``log()``\n",
    "- ``sqrt()``\n",
    "- ``cos()``\n",
    "- ``pi``\n",
    "- ``e``"
   ]
  },
  {
   "cell_type": "markdown",
   "metadata": {
    "slideshow": {
     "slide_type": "subslide"
    }
   },
   "source": [
    "### ``os``\n",
    "\n",
    "- ``listdir()``\n",
    "- ``getcwd()``\n",
    "- ``getenv()``\n",
    "- ``chdir()``\n",
    "- ``environ()``\n",
    "- ``os.path : exists(), getsize(), isdir(), join()``"
   ]
  },
  {
   "cell_type": "markdown",
   "metadata": {
    "slideshow": {
     "slide_type": "subslide"
    }
   },
   "source": [
    "### ``sys``\n",
    "- ``argv``\n",
    "- ``exit()``\n",
    "- ``path``"
   ]
  },
  {
   "cell_type": "markdown",
   "metadata": {},
   "source": [
    "Mais bien plus sur la [doc officielle de la stdlib](https://docs.python.org/3/library/) !"
   ]
  },
  {
   "cell_type": "markdown",
   "metadata": {
    "slideshow": {
     "slide_type": "subslide"
    }
   },
   "source": [
    "### Vérificateurs de code source\n",
    "\n",
    "* [pep8](https://pypi.python.org/pypi/pep8)\n",
    "* [pylint](http://www.pylint.org)\n",
    "\n",
    "### Documentation dans le code\n",
    "\n",
    "* [docstring](https://www.python.org/dev/peps/pep-0257)"
   ]
  },
  {
   "cell_type": "markdown",
   "metadata": {
    "slideshow": {
     "slide_type": "subslide"
    }
   },
   "source": [
    "### Automatisation de tests, environnements virtuels :\n",
    "\n",
    "* [unittest](https://docs.python.org/3/library/unittest.html)\n",
    "* [doctest](https://docs.python.org/3/library/doctest.html)\n",
    "* [nose](http://readthedocs.org/docs/nose)\n",
    "* [py.test](http://pytest.org)\n",
    "* [tox](http://tox.testrun.org)\n",
    "* [virtualenv](https://virtualenv.pypa.io)"
   ]
  },
  {
   "cell_type": "markdown",
   "metadata": {},
   "source": [
    "## Récursivité\n",
    "\n",
    "Les fonctions dites \"récursives\" sont des fonctions qui font appel à elles-même, en résolvant une partie plus petite du problème à chaque appel, jusqu'à avoir un cas trivial à résoudre.\n",
    "\n",
    "Par exemple pour calculer : \"la somme de tout les nombres de 0 jusqu'à x\", on peut utiliser une fonction récursive:\n",
    "\n",
    "La somme de tous les nombres de 0 à 10 est égale à 10 plus la somme de tous les nombres de 0 à 9, etc...\n"
   ]
  },
  {
   "cell_type": "code",
   "execution_count": null,
   "metadata": {},
   "outputs": [],
   "source": [
    "def sum_to(x):\n",
    "    if x == 0:\n",
    "        return 0\n",
    "    return x + sum_to(x - 1)"
   ]
  },
  {
   "cell_type": "code",
   "execution_count": null,
   "metadata": {},
   "outputs": [],
   "source": [
    "print(sum_to(9))"
   ]
  },
  {
   "cell_type": "markdown",
   "metadata": {},
   "source": [
    "La fonction mathématique factorielle est similaire, mais calcule : \"le produit de tout les nombres de 1 jusqu'à x\"."
   ]
  },
  {
   "cell_type": "code",
   "execution_count": null,
   "metadata": {},
   "outputs": [],
   "source": [
    "def fact(x):\n",
    "    if x == 1:\n",
    "        return 1\n",
    "    return x * fact(x - 1)"
   ]
  },
  {
   "cell_type": "code",
   "execution_count": null,
   "metadata": {},
   "outputs": [],
   "source": [
    "print(fact(5), fact(9))"
   ]
  },
  {
   "cell_type": "markdown",
   "metadata": {},
   "source": [
    "La fonction mathématique qui calcule [la suite des nombres de Fibonacci](https://fr.wikipedia.org/wiki/Suite_de_Fibonacci), peut être décrite comme suit:\n",
    "\n",
    "- ``fibo(0) = 0``\n",
    "- ``fibo(1) = 1``\n",
    "\n",
    "Et pour toutes les autres valeurs:\n",
    "\n",
    "- ``fibo(x) = fibo(x - 1) + fibo(x - 2)``\n",
    "\n",
    "> **Exercice** : écrivez une fonction récursive ``fibo(x)`` qui renvoie le x-ième nombre de la suite de Fibonnaci."
   ]
  },
  {
   "cell_type": "code",
   "execution_count": null,
   "metadata": {},
   "outputs": [],
   "source": [
    "def fibo(x):\n",
    "    # Votre code ici\n",
    "    pass"
   ]
  },
  {
   "cell_type": "code",
   "execution_count": null,
   "metadata": {},
   "outputs": [],
   "source": [
    "print(fibo(9))"
   ]
  }
 ],
 "metadata": {
  "kernelspec": {
   "display_name": "Python 3",
   "language": "python",
   "name": "python3"
  },
  "language_info": {
   "codemirror_mode": {
    "name": "ipython",
    "version": 3
   },
   "file_extension": ".py",
   "mimetype": "text/x-python",
   "name": "python",
   "nbconvert_exporter": "python",
   "pygments_lexer": "ipython3",
   "version": "3.7.3"
  }
 },
 "nbformat": 4,
 "nbformat_minor": 1
}
