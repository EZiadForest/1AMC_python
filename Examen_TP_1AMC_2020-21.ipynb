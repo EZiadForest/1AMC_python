{
 "cells": [
  {
   "cell_type": "markdown",
   "metadata": {},
   "source": [
    "### Ecrire ici  vos  Nom   &  Prénom"
   ]
  },
  {
   "cell_type": "markdown",
   "metadata": {},
   "source": [
    "# Introduction à la Programmation \n",
    "## Examen de TP initiation à l'informatique \n",
    "###  - Python -  1h45\n",
    "***\n",
    "**ENSICAEN  1A MC** \n",
    "Jeudi 10 Décembre 2020\n",
    "#### T. Durand P. Lefebvre C. Porquet  E. Ziad-Forest"
   ]
  },
  {
   "cell_type": "markdown",
   "metadata": {},
   "source": [
    "*Tous les documents sont autorisés.*  \n",
    "*Votre compte-rendu d'examen sera ce document commenté.*    \n",
    "*Pensez également à commenter votre code.*\n",
    "\n",
    "Les questions sont notées par ordre de difficultés:  \n",
    "- \\* facile\n",
    "- \\*\\* moyen\n",
    "- \\*\\*\\* plus difficile\n",
    "- pas d'étoile, teste et valide la question précédente."
   ]
  },
  {
   "cell_type": "markdown",
   "metadata": {},
   "source": [
    "# Partie 1 "
   ]
  },
  {
   "cell_type": "markdown",
   "metadata": {},
   "source": [
    "Comment pouvez-vous obtenir, les 5 résultats suivants (dans la variable `result`) :\n",
    "\n",
    "1. \"Bonjour\"\n",
    "2. \"ruojnoB\"\n",
    "3. \"Bnor\"\n",
    "4. \"BonjourBonjourBonjourBonjourBonjour\"\n",
    "5. \"BBBBoooonnnnjjjjoooouuuurrrr\"\n",
    "\n",
    "à partir de la donnée de var et des instructions déjà écrites et complétées par votre code ?"
   ]
  },
  {
   "cell_type": "code",
   "execution_count": null,
   "metadata": {},
   "outputs": [],
   "source": [
    "var=\"Bonjour\""
   ]
  },
  {
   "cell_type": "markdown",
   "metadata": {},
   "source": [
    "### Question 1 *"
   ]
  },
  {
   "cell_type": "code",
   "execution_count": null,
   "metadata": {},
   "outputs": [],
   "source": [
    "# Résultat 1 : \"Bonjour\"\n",
    "result = \"\"\n",
    "for c in  \n",
    "    \n",
    "print(result)"
   ]
  },
  {
   "cell_type": "markdown",
   "metadata": {},
   "source": [
    "### Question 2  *"
   ]
  },
  {
   "cell_type": "code",
   "execution_count": null,
   "metadata": {},
   "outputs": [],
   "source": [
    "# Résultat 2 : \"ruojnoB\"\n",
    "result = \n",
    "print(result)"
   ]
  },
  {
   "cell_type": "markdown",
   "metadata": {},
   "source": [
    "### Question 3  *"
   ]
  },
  {
   "cell_type": "code",
   "execution_count": null,
   "metadata": {},
   "outputs": [],
   "source": [
    "# Résultat 3 : \"Bnor\"\n",
    "result = \n",
    "print(result)"
   ]
  },
  {
   "cell_type": "markdown",
   "metadata": {},
   "source": [
    "### Question 4  *"
   ]
  },
  {
   "cell_type": "code",
   "execution_count": null,
   "metadata": {},
   "outputs": [],
   "source": [
    "# Résultat 4 :\"BonjourBonjourBonjourBonjourBonjour\"\n",
    "result = \n",
    "print(result)"
   ]
  },
  {
   "cell_type": "markdown",
   "metadata": {},
   "source": [
    "### Question 5  \\*\\*"
   ]
  },
  {
   "cell_type": "code",
   "execution_count": null,
   "metadata": {},
   "outputs": [],
   "source": [
    "# Résultat 5 \"BBBBoooonnnnjjjjoooouuuurrrr\"\n",
    "result = \"\"\n",
    "for c in  \n",
    "    \n",
    "print(result)"
   ]
  },
  {
   "cell_type": "markdown",
   "metadata": {},
   "source": [
    "# Partie 2"
   ]
  },
  {
   "cell_type": "markdown",
   "metadata": {},
   "source": [
    "Dans cette partie, vous allez écrire un programme à partir d'un pseudo-code.\n",
    "\n",
    "> **Remarques :** *Dans la correction de cette partie, nous tiendrons compte de toutes vos instructions, même si cette fonction n'est pas aboutie.*"
   ]
  },
  {
   "cell_type": "raw",
   "metadata": {},
   "source": [
    "Algorithme en pseudo-code\n",
    "\n",
    "Programme transformation prenant comme paramètre une liste A\n",
    "(par exemple d'entiers)\n",
    "retourne une liste de listes\n",
    "\n",
    "Début  \n",
    "\n",
    "\\# Déclaration -initialisation \n",
    "\n",
    "    N <- longueur de A  \n",
    "    T <- liste de taille N initialise avec N zeros  \n",
    "    résultat <- liste contenant initialement la liste A  \n",
    "    i <- 1  \n",
    "\n",
    "\\# Corps du programme\n",
    "\n",
    "    Tant que i < N faire \n",
    "\n",
    "        Si T[i] < i   \n",
    "            A <- copie de la liste A   (rappel en python A=A[:])\n",
    "            Si i est pair alors   \n",
    "                échanger les valeurs A[0] et A[n-1]  \n",
    "            Sinon\n",
    "                échanger les valeurs A[i] et A[T[i]]\n",
    "                ajoute la liste A à la liste résultat\n",
    "                T[i] <- T[i]+1\n",
    "                i <- 1\n",
    "            fin Si\n",
    "        Sinon\n",
    "            T[i] <- 0\n",
    "            i <- i+1\n",
    "        fin Si\n",
    "\n",
    "    fin Tant que \n",
    "\n",
    "    retourner résultat\n",
    "\n",
    "Fin  "
   ]
  },
  {
   "cell_type": "markdown",
   "metadata": {},
   "source": [
    "### Question 6      \\*  ,  \\*\\* ,\\*\\*\\*\n",
    "En utilisant le pseudo-code ci-dessus, veuillez écrire cette fonction `transformation` en Python."
   ]
  },
  {
   "cell_type": "code",
   "execution_count": null,
   "metadata": {},
   "outputs": [],
   "source": [
    "def transformation (A)\n",
    "# Déclaration -initialisation\n",
    "\n",
    "\n",
    "\n",
    "# Corps du programme\n",
    "\n"
   ]
  },
  {
   "cell_type": "markdown",
   "metadata": {},
   "source": [
    "### Question 7\n",
    "Testez votre fonction avec la liste A suivante:"
   ]
  },
  {
   "cell_type": "code",
   "execution_count": null,
   "metadata": {},
   "outputs": [],
   "source": [
    "A=[i for i in range(1,8)]"
   ]
  },
  {
   "cell_type": "code",
   "execution_count": null,
   "metadata": {},
   "outputs": [],
   "source": [
    "transformation(A)"
   ]
  },
  {
   "cell_type": "markdown",
   "metadata": {},
   "source": [
    "### Question 8 \\*\\*\n",
    "Décrivez ce que semble faire cette fonction transformation."
   ]
  },
  {
   "cell_type": "markdown",
   "metadata": {},
   "source": [
    "\n"
   ]
  },
  {
   "cell_type": "markdown",
   "metadata": {},
   "source": [
    "### Question 9 *\n",
    "Combien y a-t-il d'éléménts dans la liste produite par transformation avec comme paramètre la liste A donnée dans la question 7.\n",
    "\n",
    "> **Remarque  :** *Même si vous n'avez pas finalisé la question 6, écrivez l'instruction Python permetant de répondre à cette question*"
   ]
  },
  {
   "cell_type": "code",
   "execution_count": null,
   "metadata": {},
   "outputs": [],
   "source": [
    "# votre code ici\n"
   ]
  },
  {
   "cell_type": "markdown",
   "metadata": {},
   "source": [
    "# Partie 3"
   ]
  },
  {
   "cell_type": "markdown",
   "metadata": {},
   "source": [
    "Le code morse, est un code permettant de transmettre un texte à l’aide de séries d'impulsions courtes et longues. Il peut être produit par des séquences de signes, de lumière, de sons ou de gestes."
   ]
  },
  {
   "cell_type": "markdown",
   "metadata": {},
   "source": [
    "## 3-1  Dictionnaire"
   ]
  },
  {
   "cell_type": "markdown",
   "metadata": {},
   "source": [
    "Dans cette partie nous initialiserons `morseAlphabet` par l’instruction suivante :\n",
    "\n",
    "morseAlphabet={'A': '.-','B': '-...','C': '-.-.','D': '-..','E': '.','F': '..-.','G': '--.','H': '....','I': '..','J': '.---','K': '-.-','L': '.-..','M': '--','N': '-.','O': '---','P': '.--.','Q': '--.-','R': '.-.','S': '...','T': '-','U': '..-','V': '...-','W': '.--','X': '-..-','Y': '-.--','Z': '--..',' ' : '/'}\n",
    "\n",
    "> **Remarque  :** *Le dernier élément de ce dictionnaire, en plus des points et des tirets, est le caractère blanc `' '` permettant de séparer les lettres écrites en Morse, et qui dans l'alphabet latin sera traduit par le caractère `'/'`.*"
   ]
  },
  {
   "cell_type": "code",
   "execution_count": null,
   "metadata": {},
   "outputs": [],
   "source": [
    "morseAlphabet={'A':'.-','B':'-...','C':'-.-.','D':'-..','E':'.','F':'..-.','G':'--.','H':'....','I':'..','J':'.---','K':'-.-','L':'.-..','M':'--','N':'-.','O':'---','P':'.--.','Q':'--.-','R':'.-.','S':'...','T':'-','U':'..-','V':'...-','W':'.--','X':'-..-','Y':'-.--','Z':'--..',' ' : '/'}"
   ]
  },
  {
   "cell_type": "markdown",
   "metadata": {},
   "source": [
    "### Question 10 *\n",
    "Quelle instruction (en Python bien-sûr), passez-vous à l’interpréteur pour qu’il identifie le code morse de la lettre S?"
   ]
  },
  {
   "cell_type": "code",
   "execution_count": null,
   "metadata": {},
   "outputs": [],
   "source": [
    "# votre code ici\n"
   ]
  },
  {
   "cell_type": "markdown",
   "metadata": {},
   "source": [
    "### Question 11 *"
   ]
  },
  {
   "cell_type": "markdown",
   "metadata": {},
   "source": [
    "Soit le code ci-dessous permettant de trouver la clé connaissant la valeur:"
   ]
  },
  {
   "cell_type": "code",
   "execution_count": null,
   "metadata": {},
   "outputs": [],
   "source": [
    "def trouveCle(v,dico) for k, val in dico.items()\n",
    "if v = val return k return \"Clé non trouvée\""
   ]
  },
  {
   "cell_type": "markdown",
   "metadata": {},
   "source": [
    "Recopier et corriger-le dans la cellule ci-dessous, afin que l'interpréteur ne renvoie plus d'erreur."
   ]
  },
  {
   "cell_type": "code",
   "execution_count": null,
   "metadata": {},
   "outputs": [],
   "source": [
    "# votre code ici\n"
   ]
  },
  {
   "cell_type": "markdown",
   "metadata": {},
   "source": [
    "### Question 12 *\n",
    "Testez-le avec le dictionnaire `morseAlphabet` permettant de retrouver la clé (la lettre) correspondant au symbole suivant: \n",
    "\n",
    "'. - - - ' "
   ]
  },
  {
   "cell_type": "markdown",
   "metadata": {},
   "source": [
    "> **Remarque  :** *Encore une fois, écrivez l'instruction Python permetant de répondre à cette question, même si vous n'avez pas réussi la question 11.*"
   ]
  },
  {
   "cell_type": "code",
   "execution_count": null,
   "metadata": {},
   "outputs": [],
   "source": [
    "# votre code ici\n"
   ]
  },
  {
   "cell_type": "markdown",
   "metadata": {},
   "source": [
    "### Question 13 \\*\\*"
   ]
  },
  {
   "cell_type": "markdown",
   "metadata": {},
   "source": [
    "On aimerait changer le dictionnaire de tel façon que le point '.' se change par la lettre 'c' (pour signal **c**ourt) et '-' par L (pour signal **L**ong) ou bien par '0'  pour '.' et '1' pour '-' ."
   ]
  },
  {
   "cell_type": "markdown",
   "metadata": {},
   "source": [
    "Ecrire une fonction `changeCodePT` qui prenant le code Morse **d'une lettre** renvoie le nouveau code après avoir échangé les caractères point et tiret en des caractères a et b choisis par l'utilisateur.  \n",
    "\n",
    "> **Exemple :**  \n",
    "`changeCodePT('.---','0','1')` donnera '0111'  \n",
    "`changeCodePT('.---','c','L')` donnera 'cLLL'"
   ]
  },
  {
   "cell_type": "code",
   "execution_count": null,
   "metadata": {},
   "outputs": [],
   "source": [
    "def changeCodePT(code,a,b)\n",
    "\n",
    "# votre code ici\n"
   ]
  },
  {
   "cell_type": "code",
   "execution_count": null,
   "metadata": {},
   "outputs": [],
   "source": [
    "changeCodePT('.---','0','1')"
   ]
  },
  {
   "cell_type": "code",
   "execution_count": null,
   "metadata": {},
   "outputs": [],
   "source": [
    "changeCodePT('.---','c','L')"
   ]
  },
  {
   "cell_type": "markdown",
   "metadata": {},
   "source": [
    "### Question 14 \\*\\*\n",
    "Ecrire une fonction `changeMorseAlpha` prenant en parametre le dictionnaire  `morseAlphabet` et  2 lettres c et L. La fonction change les valeurs (point, tiret) par les 2 lettres (c,L) et retourne le  dictionnaire modifié. Cette fonction retournera un nouveau dictionnaire."
   ]
  },
  {
   "cell_type": "code",
   "execution_count": null,
   "metadata": {},
   "outputs": [],
   "source": [
    "# votre code ici\n"
   ]
  },
  {
   "cell_type": "markdown",
   "metadata": {},
   "source": [
    "### Question 15\n",
    "Tester avec le dictionnaire `morseAlphabet` et le couple ('0','1').  \n",
    "('0' remplacera '.' et '1' remplacera '-')"
   ]
  },
  {
   "cell_type": "code",
   "execution_count": null,
   "metadata": {},
   "outputs": [],
   "source": [
    "morseAlpha=changeMorseAlpha(morseAlphabet,'0','1')"
   ]
  },
  {
   "cell_type": "code",
   "execution_count": null,
   "metadata": {},
   "outputs": [],
   "source": [
    "print(morseAlpha)"
   ]
  },
  {
   "cell_type": "markdown",
   "metadata": {},
   "source": [
    "## 3-2 Tuples"
   ]
  },
  {
   "cell_type": "markdown",
   "metadata": {},
   "source": [
    "Voici le tuple des 10 chiffres en base 10, allant respectivement de 0 à 9 et écrit en Morse."
   ]
  },
  {
   "cell_type": "code",
   "execution_count": null,
   "metadata": {},
   "outputs": [],
   "source": [
    "TchiffresMorse=('-----','.----','..---','...--','....-','.....','-....','--...','---..','----.')"
   ]
  },
  {
   "cell_type": "markdown",
   "metadata": {},
   "source": [
    "### Question 16 \\*\\*\\*\n",
    "Sachant que chaque chiffre (en base 10) est composé de 5 caractères écrit en morse, écrivez des instructions (ou une fonction) permettant de déchiffrer le nombre `Nmorse` en base 10 suivant."
   ]
  },
  {
   "cell_type": "code",
   "execution_count": null,
   "metadata": {},
   "outputs": [],
   "source": [
    "Nmorse='...--....-.....-....--...---..----.-----.----..---...--....-.....-....--...---..----.-----.----..---...--....-.....-....--...---..----.-----.----..---...--....-.....-....--...---..----.-----.----..---...--....-.....-....--...---..----.-----.----..---'"
   ]
  },
  {
   "cell_type": "markdown",
   "metadata": {},
   "source": [
    "**Remarque:** *vous n'êtes pas obligé de créer des fonctions, une suite d'instructions python peuvent suffire.* \n",
    "\n",
    "Methodologie  \n",
    "* Connaître le nombre de caractères de `Nmorse`  \n",
    "* Divisez-le par 5 afin d'obtenir le nombre de chiffres en base 10 (découpage de  5 en 5...)  \n",
    "*(On pourra le slicing dans les tuples...)*\n",
    "* En utilisant le tuple `TchiffreMorse` en déduire ce nombre  \n",
    "*(On pourra utiliser la méthode `index` dans une liste...)*"
   ]
  },
  {
   "cell_type": "code",
   "execution_count": null,
   "metadata": {},
   "outputs": [],
   "source": [
    "# votre code ici\n"
   ]
  },
  {
   "cell_type": "markdown",
   "metadata": {},
   "source": [
    "## 3-3 Bonus "
   ]
  },
  {
   "cell_type": "markdown",
   "metadata": {},
   "source": [
    "### Question 17 \\*\\*\\*\n",
    "Ecrire 2 fonctions `lettre2morse` et  `morse2lettre` qui respectivement code et décode du Morse."
   ]
  },
  {
   "cell_type": "code",
   "execution_count": null,
   "metadata": {},
   "outputs": [],
   "source": [
    "# Phrase à encoder en Morse\n",
    "testCode1='FACILE DE CODER DU MORSE'"
   ]
  },
  {
   "cell_type": "code",
   "execution_count": 32,
   "metadata": {},
   "outputs": [],
   "source": [
    "# Code Morse à décoder\n",
    "testCode2='.--- . / ... .- .. ... / -- .- .. -. - . -. .- -. - / -.-. --- -.. . .-. / . - / -.. . -.-. --- -.. . .-. / -.. ..- / -- --- .-. ... . '"
   ]
  },
  {
   "cell_type": "code",
   "execution_count": null,
   "metadata": {},
   "outputs": [],
   "source": [
    "# votre code ici pour lettre2morse -codage-\n",
    "\n"
   ]
  },
  {
   "cell_type": "code",
   "execution_count": null,
   "metadata": {},
   "outputs": [],
   "source": [
    "# votre code ici pour morse2lettre -décodage-\n"
   ]
  },
  {
   "cell_type": "code",
   "execution_count": null,
   "metadata": {},
   "outputs": [],
   "source": [
    "# votre code ici pour tester avec testcode1 et testcode2\n"
   ]
  }
 ],
 "metadata": {
  "kernelspec": {
   "display_name": "Python 3",
   "language": "python",
   "name": "python3"
  },
  "language_info": {
   "codemirror_mode": {
    "name": "ipython",
    "version": 3
   },
   "file_extension": ".py",
   "mimetype": "text/x-python",
   "name": "python",
   "nbconvert_exporter": "python",
   "pygments_lexer": "ipython3",
   "version": "3.7.3"
  }
 },
 "nbformat": 4,
 "nbformat_minor": 2
}
