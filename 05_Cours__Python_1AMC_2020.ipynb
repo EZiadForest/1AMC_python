{
 "cells": [
  {
   "cell_type": "markdown",
   "metadata": {
    "slideshow": {
     "slide_type": "slide"
    }
   },
   "source": [
    "\n",
    "![](fig/logoENSI.png)\n",
    "![](fig/logoPython.png)\n",
    "\n",
    "\n",
    "# Introduction à la Programmation \n",
    "# Langage Python (cours 4)\n",
    "***\n",
    "**ENSICAEN  1A MC** \n",
    "Vendredi 25 Nov 2019\n",
    "## Eric Ziad-Forest\n",
    "***\n",
    "\n",
    "## Sommaire\n",
    "- Copier, notion de référence\n",
    "- Séquences (conteneurs)\n",
    "    - chaine de caractères\n",
    "    - les tuples\n",
    "    - **les dictionnaires**\n",
    "- Ecriture et lecture de fichier\n",
    "\n",
    "\n",
    "***\n",
    "\n",
    "**Auteurs :**\n",
    "\n",
    "- Vincent Legoll ([vincent.legoll@iphc.cnrs.fr](mailto: vincent.legoll@iphc.cnrs.fr))\n",
    "- Matthieu Boileau ([matthieu.boileau@math.unistra.fr](mailto: matthieu.boileau@math.unistra.fr))\n",
    "- Eric Ziad-Forest ([ziad@ensicaen.fr](mailto: ziad@ensicaen.fr))\n",
    "\n",
    "*Contenu sous licence [CC BY-SA 4.0](https://creativecommons.org/licenses/by-sa/4.0)*"
   ]
  },
  {
   "cell_type": "markdown",
   "metadata": {},
   "source": [
    "## Copier, notion de référence"
   ]
  },
  {
   "cell_type": "code",
   "execution_count": 40,
   "metadata": {},
   "outputs": [
    {
     "name": "stdout",
     "output_type": "stream",
     "text": [
      "['oeuf', 'salt', 'bacon']\n",
      "['oeuf', 'salt', 'bacon']\n",
      "4395752968 4395752968\n"
     ]
    }
   ],
   "source": [
    "L = ['egg', 'salt', 'bacon']\n",
    "L1=L # Attention ce n'est pas une copie\n",
    "L[0]='oeuf' \n",
    "print(L);print(L1)  # 2 instructions sur une même ligne!\n",
    "print(id(L),id(L1)) # référence des 2 listes"
   ]
  },
  {
   "cell_type": "markdown",
   "metadata": {},
   "source": [
    "> **Remarques:**  \n",
    "> 1- Nous obtenons la même référence pour 2 listes ayant 2 noms différents...  \n",
    "> 2- Si vous souhaitez le faire également, voici l'adresse: http://pythontutor.com/visualize.html   \n",
    "Entrer alors le code ci-dessus\n",
    ">> L = \\['egg', 'salt', 'bacon'\\]  \n",
    "L1=L  \n",
    "L\\[0\\]='oeuf'  "
   ]
  },
  {
   "cell_type": "markdown",
   "metadata": {},
   "source": [
    "En utilisant la cellule suivante, nous obtenons l'image ci-dessous:\n",
    "![](fig/img1_pythontutor.png)"
   ]
  },
  {
   "cell_type": "code",
   "execution_count": 41,
   "metadata": {},
   "outputs": [
    {
     "name": "stdout",
     "output_type": "stream",
     "text": [
      "la liste L\n",
      " ['egg', 'salt', 'bacon', ['egg', 'salt', 'bacon']]\n",
      "les références de L et L1\n",
      "4395753160 4396568008\n",
      "L1 est modifié\n",
      " ['oeuf', 'salt', 'bacon', ['egg', 'salt', 'bacon']]\n",
      "Mais pas L!!!\n",
      " ['egg', 'salt', 'bacon', ['egg', 'salt', 'bacon']]\n",
      "les références de L[-1] et L1[-1]\n",
      "4395955080 4395955080\n",
      "['egg', 'salt', 'bacon', ['egg', 'pepper', 'bacon']]\n",
      "['oeuf', 'salt', 'bacon', ['egg', 'pepper', 'bacon']]\n"
     ]
    }
   ],
   "source": [
    "L = ['egg', 'salt', 'bacon']\n",
    "L.append(['egg', 'salt', 'bacon'])\n",
    "print(\"la liste L\\n\",L)\n",
    "# copie de L\n",
    "L1=list(L) \n",
    "# 2 référence distinctes\n",
    "print(\"les références de L et L1\")\n",
    "print(id(L),id(L1))\n",
    "# modification dans l'une des listes\n",
    "L1[0]='oeuf'\n",
    "print(\"L1 est modifié\\n\",L1)\n",
    "print(\"Mais pas L!!!\\n\",L)\n",
    "# mais les derniers éléments de L et L1 ont la même référence... \n",
    "print(\"les références de L[-1] et L1[-1]\")\n",
    "print(id(L1[-1]),id(L[-1]))\n",
    "# d'où s'il on modifie cet élément\n",
    "L[-1][1]='pepper'\n",
    "print(L)\n",
    "print(L1)"
   ]
  },
  {
   "cell_type": "markdown",
   "metadata": {},
   "source": [
    "> Si vous souhaitez vérifier: \n",
    " http://pythontutor.com/visualize.html  \n",
    ">>L = \\['egg', 'salt', 'bacon'\\]  \n",
    "L.append(\\['egg', 'salt', 'bacon'\\])  \n",
    "L1=list(L)   \n",
    "print(id(L))   \n",
    "print(id(L1))   \n",
    "print(id(L\\[-1\\]))   \n",
    "print(id(L1\\[-1\\]))   \n",
    "L1\\[0\\]='oeuf'   \n",
    "L\\[-1\\]\\[1\\]='pepper'  "
   ]
  },
  {
   "cell_type": "markdown",
   "metadata": {
    "slideshow": {
     "slide_type": "slide"
    }
   },
   "source": [
    "# Séquences  (suite)\n",
    "\n",
    "Les séquences (types *itérables*) sont des conteneurs d'objets où les objets référencés sont ordonnés. On utilise facilement ces propriétés avec les boucles `for`.  \n",
    "`str` `list` `tuple` `str` `dict` `set` sont des séquences...\n"
   ]
  },
  {
   "cell_type": "markdown",
   "metadata": {
    "slideshow": {
     "slide_type": "subslide"
    }
   },
   "source": [
    "On peut se servir de cette fonctionnalité pour tabuler du texte de taille variable."
   ]
  },
  {
   "cell_type": "code",
   "execution_count": 42,
   "metadata": {},
   "outputs": [
    {
     "name": "stdout",
     "output_type": "stream",
     "text": [
      "e\n",
      "g\n",
      "g\n",
      "\n",
      "\n",
      "s\n",
      "a\n",
      "l\n",
      "t\n",
      "\n",
      "\n",
      "b\n",
      "a\n",
      "c\n",
      "o\n",
      "n\n",
      "\n",
      "\n"
     ]
    }
   ],
   "source": [
    "L = ['egg', 'salt', 'bacon']\n",
    "for elt in L:\n",
    "    for lettre in elt:\n",
    "        print(lettre)\n",
    "    print('\\n')"
   ]
  },
  {
   "cell_type": "code",
   "execution_count": null,
   "metadata": {},
   "outputs": [],
   "source": [
    "for i,elt in enumerate(L):\n",
    "    print('l\\'élément', i, \"est\", elt)"
   ]
  },
  {
   "cell_type": "code",
   "execution_count": 43,
   "metadata": {},
   "outputs": [
    {
     "name": "stdout",
     "output_type": "stream",
     "text": [
      "True\n",
      "False\n",
      "True\n"
     ]
    }
   ],
   "source": [
    "print('123' in 'azerty_123_uiop')\n",
    "print('AZE' in 'azerty_123_uiop')\n",
    "print('aze' in 'azerty_123_uiop')"
   ]
  },
  {
   "cell_type": "markdown",
   "metadata": {},
   "source": [
    "## Mutabilité (suite)"
   ]
  },
  {
   "cell_type": "markdown",
   "metadata": {
    "slideshow": {
     "slide_type": "subslide"
    }
   },
   "source": [
    "### Note :\n",
    "\n",
    "Etant *non-mutable* l'objet tuple ne peut pas être modifié. Toutefois, s'il est constitué d'éléments mutables, alors ces éléments-là peuvent être modifiés.\n",
    "\n",
    "Illustration avec un tuple dont un des éléments est une liste :"
   ]
  },
  {
   "cell_type": "code",
   "execution_count": 44,
   "metadata": {},
   "outputs": [
    {
     "name": "stdout",
     "output_type": "stream",
     "text": [
      "T = ('a', ['b', 'c'])\n",
      "L = ['b', 'c']\n",
      "L = ['e', 'c']\n",
      "T = ('a', ['e', 'c'])\n"
     ]
    }
   ],
   "source": [
    "T = ('a', ['b', 'c']) # le deuxième élément est une liste donc ATTENTION, il est mutable\n",
    "print('T =', T)\n",
    "L = T[1]\n",
    "print('L =', L)\n",
    "L[0] = 'e'\n",
    "print('L =', L)\n",
    "print('T =', T)"
   ]
  },
  {
   "cell_type": "code",
   "execution_count": null,
   "metadata": {},
   "outputs": [],
   "source": [
    "# Ici on fait exactement la même chose...\n",
    "T = ('a', ['b', 'c'])\n",
    "print('T =', T)\n",
    "T[1][0] = 'z'\n",
    "print('T après =', T)"
   ]
  },
  {
   "cell_type": "code",
   "execution_count": 45,
   "metadata": {},
   "outputs": [
    {
     "ename": "TypeError",
     "evalue": "'tuple' object does not support item assignment",
     "output_type": "error",
     "traceback": [
      "\u001b[0;31m---------------------------------------------------------------------------\u001b[0m",
      "\u001b[0;31mTypeError\u001b[0m                                 Traceback (most recent call last)",
      "\u001b[0;32m<ipython-input-45-784b3759cc3b>\u001b[0m in \u001b[0;36m<module>\u001b[0;34m\u001b[0m\n\u001b[1;32m      1\u001b[0m \u001b[0;31m# Cette cellule génère une erreur\u001b[0m\u001b[0;34m\u001b[0m\u001b[0;34m\u001b[0m\u001b[0;34m\u001b[0m\u001b[0m\n\u001b[0;32m----> 2\u001b[0;31m \u001b[0mT\u001b[0m\u001b[0;34m[\u001b[0m\u001b[0;36m0\u001b[0m\u001b[0;34m]\u001b[0m \u001b[0;34m=\u001b[0m \u001b[0;34m'A'\u001b[0m  \u001b[0;31m# Ici, on essaye de modifier le tuple lui même...\u001b[0m\u001b[0;34m\u001b[0m\u001b[0;34m\u001b[0m\u001b[0m\n\u001b[0m",
      "\u001b[0;31mTypeError\u001b[0m: 'tuple' object does not support item assignment"
     ]
    }
   ],
   "source": [
    "# Cette cellule génère une erreur\n",
    "T[0] = 'A'  # Ici, on essaye de modifier le tuple lui même..."
   ]
  },
  {
   "cell_type": "markdown",
   "metadata": {
    "slideshow": {
     "slide_type": "slide"
    }
   },
   "source": [
    "## Le slicing de séquences en Python (suite)\n",
    "\n",
    "- Cela consiste à extraire une sous-séquence à partir d'une séquence.\n",
    "- Le slicing fonctionne de manière similaire aux intervalles mathématiques : ``[début:fin[``\n",
    "- La borne de fin ne fait pas partie de l'intervalle sélectionné.\n",
    "- La syntaxe générale est ``L[i:j:k]``, où :\n",
    "    - ``i`` = indice de début\n",
    "    - ``j`` = indice de fin, le premier élément qui n'est pas sélectionné\n",
    "    - ``k`` = le \"pas\" ou intervalle (s'il est omis alors il vaut ``1``)\n",
    "- La sous-liste sera donc composée de tous les éléments de l’indice ``i`` jusqu’à l’indice ``j-1``, par pas de ``k``.\n",
    "- La sous-liste est un nouvel objet.\n",
    "\n",
    "Dans le sens normal (le pas ``k`` est positif)\n",
    "\n",
    "- Si ``i`` est omis alors il vaut ``0``\n",
    "- Si ``j`` est omis alors il vaut ``len(L)``\n",
    "\n",
    "Dans le sens inverse (le pas ``k`` est négatif)\n",
    "\n",
    "- Si ``i`` est omis alors il vaut ``-1``\n",
    "- Si ``j`` est omis alors il vaut ``-len(L)-1``"
   ]
  },
  {
   "cell_type": "markdown",
   "metadata": {
    "slideshow": {
     "slide_type": "subslide"
    }
   },
   "source": [
    "Illustrons ça en créant une liste à partir d'une chaîne de caractères.\n",
    "\n",
    "La fonction [``split()``](https://docs.python.org/3/library/stdtypes.html#str.split) découpe une chaîne de caractères en morceaux, par défaut en 'mots'."
   ]
  },
  {
   "cell_type": "code",
   "execution_count": null,
   "metadata": {
    "scrolled": false
   },
   "outputs": [],
   "source": [
    "L = 'Dans le Python tout est bon'.split()\n",
    "print(L)"
   ]
  },
  {
   "cell_type": "markdown",
   "metadata": {
    "slideshow": {
     "slide_type": "fragment"
    }
   },
   "source": [
    "Pour commencer, on extrait de la liste ``L`` un nouvel objet liste qui contient tous les éléments de ``L`` <=> copie de liste"
   ]
  },
  {
   "cell_type": "code",
   "execution_count": null,
   "metadata": {},
   "outputs": [],
   "source": [
    "print(L[0:len(L):1]) # Cette notation est inutilement lourde car :\n",
    "print(L[::])         # i = 0, j=len(L) et k=1 donc i, j et k peuvent être omis\n",
    "print(L[:])          # on peut même ommettre le 2ème \":\""
   ]
  },
  {
   "cell_type": "markdown",
   "metadata": {
    "slideshow": {
     "slide_type": "fragment"
    }
   },
   "source": [
    "On extrait une sous-liste qui ne contient que les 3 premiers éléments :"
   ]
  },
  {
   "cell_type": "code",
   "execution_count": null,
   "metadata": {},
   "outputs": [],
   "source": [
    "print(L[0:3:1])  # Notation complète\n",
    "print(L[:3:1])  # Le premier indice vaut i=0, donc on peut l'omettre\n",
    "print(L[:3])  # Le pas de slicing vaut 1, donc on peut l'omettre, ainsi que le \":\""
   ]
  },
  {
   "cell_type": "markdown",
   "metadata": {
    "slideshow": {
     "slide_type": "subslide"
    }
   },
   "source": [
    "J'extrais une sous-liste qui exclut les trois premiers éléments :"
   ]
  },
  {
   "cell_type": "code",
   "execution_count": null,
   "metadata": {},
   "outputs": [],
   "source": [
    "print(L[3:len(L):1])  # Cette notation est inutilement lourde car :\n",
    "print(L[3:])          # j et k peuvent être omis, ainsi que le \":\""
   ]
  },
  {
   "cell_type": "markdown",
   "metadata": {
    "slideshow": {
     "slide_type": "fragment"
    }
   },
   "source": [
    "Les indices peuvent être négatifs, ce qui permet traiter les derniers éléments :"
   ]
  },
  {
   "cell_type": "code",
   "execution_count": null,
   "metadata": {},
   "outputs": [],
   "source": [
    "# Je veux exclure le dernier élément :\n",
    "print(L[0:-1:1])  # Notation complète\n",
    "print(L[:-1:1])  # Le premier indice vaut i=0, donc on peut l'omettre\n",
    "print(L[:-1])  # Le pas de slicing vaut 1, donc on peut l'omettre"
   ]
  },
  {
   "cell_type": "markdown",
   "metadata": {},
   "source": [
    "On ne garde que les deux derniers éléments"
   ]
  },
  {
   "cell_type": "code",
   "execution_count": null,
   "metadata": {},
   "outputs": [],
   "source": [
    "print(L[-2:])"
   ]
  },
  {
   "cell_type": "markdown",
   "metadata": {
    "slideshow": {
     "slide_type": "subslide"
    }
   },
   "source": [
    "### Note :\n",
    "\n",
    "``L[1]`` n'est pas équivalent à ``L[1:2]``, ni à ``L[1:]``, ni à ``L[:1]``.\n",
    "\n",
    "Illustration :"
   ]
  },
  {
   "cell_type": "code",
   "execution_count": 46,
   "metadata": {},
   "outputs": [
    {
     "name": "stdout",
     "output_type": "stream",
     "text": [
      "<class 'str'> c\n",
      "<class 'list'> ['c']\n",
      "<class 'list'> ['c']\n",
      "<class 'list'> ['e']\n"
     ]
    }
   ],
   "source": [
    "a = L[1]\n",
    "print(type(a), a) # Je récupère le deuxième élément de la liste\n",
    "a = L[1:2]\n",
    "print(type(a), a) # Je récupère une liste composée du seul élément L[1]\n",
    "a = L[1:]\n",
    "print(type(a), a) # Je récupère une liste\n",
    "a = L[:1]\n",
    "print(type(a), a) # Je récupère une liste"
   ]
  },
  {
   "cell_type": "markdown",
   "metadata": {
    "slideshow": {
     "slide_type": "subslide"
    }
   },
   "source": [
    "> **Exercice :** Retourner une liste composée des éléments de ``L`` *en ordre inverse* **avec une opération de slicing**. Toute utilisation de [``[].reverse()``](https://docs.python.org/3/library/stdtypes.html#mutable-sequence-types) ou [``reversed()``](https://docs.python.org/3/library/functions.html#reversed) est interdite."
   ]
  },
  {
   "cell_type": "code",
   "execution_count": 47,
   "metadata": {},
   "outputs": [
    {
     "name": "stdout",
     "output_type": "stream",
     "text": [
      "['Dans', 'le', 'Python', 'tout', 'est', 'bon']\n"
     ]
    }
   ],
   "source": [
    "L = 'Dans le Python tout est bon'.split()\n",
    "print(L)\n",
    "# <- votre code ici"
   ]
  },
  {
   "cell_type": "markdown",
   "metadata": {
    "slideshow": {
     "slide_type": "subslide"
    }
   },
   "source": [
    "Le slicing peut être utilisé pour **modifier** une séquence **mutable**, gâce à l'opération d'assignation."
   ]
  },
  {
   "cell_type": "code",
   "execution_count": null,
   "metadata": {},
   "outputs": [],
   "source": [
    "L = 'Dans le Python tout est bon'.split()\n",
    "print(L)\n",
    "L[2:4] = ['nouvelles', 'valeurs', 'et encore plus...', 1, 2, 3]\n",
    "print(L)"
   ]
  },
  {
   "cell_type": "markdown",
   "metadata": {
    "slideshow": {
     "slide_type": "subslide"
    }
   },
   "source": [
    "Le slicing peut être utilisé sur des chaînes de caractères."
   ]
  },
  {
   "cell_type": "code",
   "execution_count": 48,
   "metadata": {},
   "outputs": [
    {
     "name": "stdout",
     "output_type": "stream",
     "text": [
      "abcd wxyz adgj\n"
     ]
    }
   ],
   "source": [
    "alphabet = 'abcdefghijklmnopqrstuvwxyz'\n",
    "print(alphabet[:4], alphabet[-4:], alphabet[0:12:3])"
   ]
  },
  {
   "cell_type": "markdown",
   "metadata": {},
   "source": [
    "# Les dictionnaires\n",
    "\n",
    "Les listes associatives sont des conteneurs où les objets ne sont pas ordonnés ni accessibles par un indice mais sont associés à une clé d'accès.\n",
    "\n",
    "L'accès aux éléments se fait comme pour les listes ou tuples, avec les ``[]``, mais vous pouvez utiliser (presque) n'importe quelle valeur comme clé.\n",
    "\n",
    "    dico = {<clé1>: <valeur1>[, <clé2>: <valeur2>]...}\n",
    "\n",
    "Les clés doivent être des objets non mutables. Les listes ne peuvent pas servir de clés alors que les tuples le peuvent.\n",
    "\n",
    "Dans ``dico``, on accède à ``valeur1`` avec la syntaxe ``dico[clé1]``.\n"
   ]
  },
  {
   "cell_type": "markdown",
   "metadata": {},
   "source": [
    "### Un exemple"
   ]
  },
  {
   "cell_type": "code",
   "execution_count": 49,
   "metadata": {},
   "outputs": [
    {
     "name": "stdout",
     "output_type": "stream",
     "text": [
      "True\n",
      "chat est un animal: True\n",
      "chat est un animal: True\n"
     ]
    }
   ],
   "source": [
    "dic_animaux = {'ane': True, 'arbre': False, 'chat': True, 'lune': False, 'humain': True}\n",
    "cle = 'chat'\n",
    "valeur = dic_animaux[cle]\n",
    "print(valeur)\n",
    "print('{} est un animal: {}'.format(cle, valeur))\n",
    "# Ou encore\n",
    "print('{} est un animal: {}'.format('chat', dic_animaux['chat']))"
   ]
  },
  {
   "cell_type": "markdown",
   "metadata": {},
   "source": [
    "> **Exercice** : essayez de savoir si un arbre est un animal"
   ]
  },
  {
   "cell_type": "markdown",
   "metadata": {},
   "source": [
    "**IMPORTANT:** Les différentes manières de créer des dictionnaires:"
   ]
  },
  {
   "cell_type": "code",
   "execution_count": 50,
   "metadata": {},
   "outputs": [
    {
     "data": {
      "text/plain": [
       "True"
      ]
     },
     "execution_count": 50,
     "metadata": {},
     "output_type": "execute_result"
    }
   ],
   "source": [
    "# Les accolades comme syntaxe\n",
    "a = {'un': 1, 'deux': 2, 'trois': 3} \n",
    "# La méthode dict()\n",
    "b = dict(un=1, deux=2, trois=3) \n",
    "# On \"zippe\" deux listes\n",
    "c = dict(zip(['un', 'deux', 'trois'], [1, 2, 3]))  \n",
    "# On transforme une liste de 2-tuples\n",
    "d = dict([('deux', 2), ('un', 1), ('trois', 3)])  \n",
    "# le dictionnaire a dans un autre ordre...\n",
    "e = dict({'trois': 3, 'un': 1, 'deux': 2})\n",
    "# Bilan\n",
    "a == b == c == d == e"
   ]
  },
  {
   "cell_type": "markdown",
   "metadata": {},
   "source": [
    "La fonction interne [``dict()``](https://docs.python.org/3/library/functions.html#func-dict) permet de créer des dictionnaires de diverses manières.\n",
    "\n",
    "Accéder à un élément qui n'est pas dans le dictionnaire génère une erreur.   \n",
    "Il existe la méthode [``{}.get()``](https://docs.python.org/fr/3.7/library/stdtypes.html#dict.get) ou [l'opérateur ``in``](https://docs.python.org/fr/3.7/library/stdtypes.html#mapping-types-dict) qui permettent de ne pas rencontrer ce problème."
   ]
  },
  {
   "cell_type": "code",
   "execution_count": 51,
   "metadata": {},
   "outputs": [
    {
     "ename": "KeyError",
     "evalue": "'quatre'",
     "output_type": "error",
     "traceback": [
      "\u001b[0;31m---------------------------------------------------------------------------\u001b[0m",
      "\u001b[0;31mKeyError\u001b[0m                                  Traceback (most recent call last)",
      "\u001b[0;32m<ipython-input-51-408248b2f3cb>\u001b[0m in \u001b[0;36m<module>\u001b[0;34m\u001b[0m\n\u001b[1;32m      1\u001b[0m \u001b[0;31m# Cette cellule génère une erreur\u001b[0m\u001b[0;34m\u001b[0m\u001b[0;34m\u001b[0m\u001b[0;34m\u001b[0m\u001b[0m\n\u001b[0;32m----> 2\u001b[0;31m \u001b[0merr\u001b[0m \u001b[0;34m=\u001b[0m \u001b[0ma\u001b[0m\u001b[0;34m[\u001b[0m\u001b[0;34m'quatre'\u001b[0m\u001b[0;34m]\u001b[0m\u001b[0;34m\u001b[0m\u001b[0;34m\u001b[0m\u001b[0m\n\u001b[0m",
      "\u001b[0;31mKeyError\u001b[0m: 'quatre'"
     ]
    }
   ],
   "source": [
    "# Cette cellule génère une erreur\n",
    "err = a['quatre']"
   ]
  },
  {
   "cell_type": "markdown",
   "metadata": {},
   "source": [
    "Ici on utilise ``.get()`` et cela ne remonte pas d'erreur."
   ]
  },
  {
   "cell_type": "code",
   "execution_count": 52,
   "metadata": {},
   "outputs": [
    {
     "name": "stdout",
     "output_type": "stream",
     "text": [
      "None\n",
      "5\n"
     ]
    }
   ],
   "source": [
    "print(a.get('quatre'))    # La valeur par défaut est 'None' lorsque .get() ne trouve pas l'élément\n",
    "print(a.get('quatre', 5)) # On peut spécifier une autre valeur par défaut"
   ]
  },
  {
   "cell_type": "markdown",
   "metadata": {},
   "source": [
    "### Un autre exemple"
   ]
  },
  {
   "cell_type": "code",
   "execution_count": 53,
   "metadata": {},
   "outputs": [
    {
     "name": "stdout",
     "output_type": "stream",
     "text": [
      "Il y a 30 jours dans votre mois de naissance\n"
     ]
    }
   ],
   "source": [
    "tup_mois = ('jan', 'feb', 'mar', 'apr', 'mai', 'jun', 'jul', 'aug', 'sep', 'oct', 'nov', 'dec')\n",
    "tup_long = (31, (28, 29), 31, 30, 31, 30, 31, 31, 30, 31, 30, 31)\n",
    "dic_mois = dict(zip(tup_mois, tup_long))\n",
    "mois_naissance = 'jun'\n",
    "print('Il y a %d jours dans votre mois de naissance' % dic_mois[mois_naissance])"
   ]
  },
  {
   "cell_type": "markdown",
   "metadata": {},
   "source": [
    "> **Exercice**:\n",
    ">\n",
    "> 1. Modifiez la cellule précédente pour y changer mois_naissance (les 3 premiers caractères de votre mois de naissance, en anglais). Ré-exécutez la cellule et vérifiez la réponse.\n",
    "> 2. Un problème s'est glissé dans la cellule, lequel ?\n",
    "> 3. Corrigez-le. (il y a plusieur manières de faire)\n",
    "> 4. Les noms de mois raccourcis sont en anglais et non en français, pourquoi ?\n",
    "> 5. Utilisez ``input('En quel mois êtes-vous né(e) ? ')`` pour initialiser ``mois_naissance`` et constatez le gain de qualité en IHM (Interface Homme Machine, ergonomie)."
   ]
  },
  {
   "cell_type": "markdown",
   "metadata": {},
   "source": [
    "Les dictionnaires sont mutables."
   ]
  },
  {
   "cell_type": "code",
   "execution_count": 54,
   "metadata": {},
   "outputs": [
    {
     "name": "stdout",
     "output_type": "stream",
     "text": [
      "{'albert': 62, 'bob': 34, 'charlie': 1, 'daphne': 67}\n",
      "{'albert': 62, 'bob': 34, 'charlie': 2, 'daphne': 67}\n",
      "Albert a 62 ans.\n",
      "{'albert': 62, 'charlie': 2, 'daphne': 67}\n"
     ]
    }
   ],
   "source": [
    "ages = {'albert': 62, 'bob': 34, 'charlie': 1, 'daphne': 67}\n",
    "print(ages)\n",
    "# C'est l'anniversaire de charlie, il a un an de plus...\n",
    "ages['charlie'] += 1\n",
    "print(ages)\n",
    "print('Albert a %d ans.' % ages['albert'])\n",
    "# Bob est parti, enlevons-le\n",
    "del ages['bob']\n",
    "print(ages)"
   ]
  },
  {
   "cell_type": "markdown",
   "metadata": {},
   "source": [
    "- Savoir si une clé est présente dans un dictionnaire est une opération rapide.   \n",
    "On utilise, comme pour les séquences, l'opérateur ``in``.\n",
    "- La fonction interne ``len()`` est utilisable pour savoir combien d'objets sont référencés dans le dictionnaire."
   ]
  },
  {
   "cell_type": "code",
   "execution_count": 55,
   "metadata": {},
   "outputs": [
    {
     "name": "stdout",
     "output_type": "stream",
     "text": [
      "Charlie est-il(elle) dans le dictionnaire ages ? True\n",
      "Zoé est-il(elle) dans le dictionnaire ages ? False\n",
      "Bob est-il(elle) dans le dictionnaire ages ? True\n",
      "Il y a 4 personnes.\n",
      "Bob est-il(elle) est dans le dictionnaire ages ? False\n",
      "Il y a 3 personnes.\n"
     ]
    }
   ],
   "source": [
    "ages = {'albert': 62, 'bob': 34, 'charlie': 1, 'daphne': 67}\n",
    "print('Charlie est-il(elle) dans le dictionnaire ages ?', 'charlie' in ages)\n",
    "print('Zoé est-il(elle) dans le dictionnaire ages ?', 'zoé' in ages)\n",
    "print('Bob est-il(elle) dans le dictionnaire ages ?', 'bob' in ages)\n",
    "print('Il y a %d personnes.' % len(ages))\n",
    "# Bob est parti, enlevons-le\n",
    "del ages['bob']\n",
    "print('Bob est-il(elle) est dans le dictionnaire ages ?', 'bob' in ages)\n",
    "print('Il y a %d personnes.' % len(ages))"
   ]
  },
  {
   "cell_type": "markdown",
   "metadata": {},
   "source": [
    "On peut itérer sur les clés ou les objets référencés, ou vider un dictionnaire, en comparer deux, etc.\n",
    "\n",
    "Pour plus d'informations sur les dictionnaires, voir [ici](https://docs.python.org/3/library/stdtypes.html#mapping-types-dict). (version anglaise cette fois-ci.)"
   ]
  },
  {
   "cell_type": "markdown",
   "metadata": {},
   "source": [
    "> **Exercice** :\n",
    ">\n",
    "> 1. Créez un dictionnaire qui va traduire des chiffres (de 0 à 9) écrits en toutes lettres entre deux langues  \n",
    ">    Par exemple :\n",
    ">    ``trad_num['un'] -> 'one'``\n",
    "> 2. Modifiez ce dictionnaire, pour qu'il fonctionne dans les deux sens de traduction (Fr -> En et En -> Fr)\n",
    "> 3. Modifiez ce dictionnaire, pour qu'il fonctionne aussi avec les chiffres sous forme d'entiers   \n",
    ">    Par exemple :\n",
    ">    ``trad_num[1] -> 'un'``"
   ]
  },
  {
   "cell_type": "code",
   "execution_count": null,
   "metadata": {},
   "outputs": [],
   "source": [
    "# Votre code ici"
   ]
  },
  {
   "cell_type": "markdown",
   "metadata": {},
   "source": [
    "# Les ensembles\n",
    "\n",
    "Les ensembles sont des conteneurs qui n'autorisent pas de duplication d'objets référencés, contrairement aux listes et tuples.\n",
    "\n",
    "On peut créer des ensembles de cette façon :\n",
    "\n",
    "    ensemble = set(<iterable>)\n",
    "\n",
    "Où ``<iterable>`` peut être n'importe quel objet qui supporte l'itération : liste, tuple, dictionnaire, un autre set (pour en faire une copie), vos propres objets itérables, etc...\n",
    "\n",
    "Tout comme pour les dictionnaires, l'opérateur ``in`` est efficace. La fonction [``set()``](https://docs.python.org/3/library/functions.html#func-set) permet de créer  des ensembles."
   ]
  },
  {
   "cell_type": "code",
   "execution_count": 57,
   "metadata": {},
   "outputs": [
    {
     "name": "stdout",
     "output_type": "stream",
     "text": [
      "{'deux', 3, 1, 'un'} {1, 2}\n",
      "La chaîne 'un' est elle dans l'ensemble ? True\n",
      "La chaîne 'un' est-elle toujours dans l'ensemble ? False\n",
      "{'deux', 3, 1} {1, 2}\n"
     ]
    }
   ],
   "source": [
    "list1 = [1, 1, 2]\n",
    "tupl1 = ('un', 'un', 'deux', 1, 3)\n",
    "\n",
    "b = set(list1)\n",
    "a = set(tupl1)\n",
    "\n",
    "print(a, b)\n",
    "\n",
    "print('''La chaîne 'un' est elle dans l'ensemble ?''', 'un' in a)\n",
    "a.remove('un')\n",
    "print('''La chaîne 'un' est-elle toujours dans l'ensemble ?''', 'un' in a)\n",
    "\n",
    "print(a, b)"
   ]
  },
  {
   "cell_type": "markdown",
   "metadata": {},
   "source": [
    "Des opérations supplémentaires sont possibles sur des ensembles. Elles sont calquées sur les opérations mathématiques :\n",
    "\n",
    "- union\n",
    "- intersection\n",
    "- etc..."
   ]
  },
  {
   "cell_type": "code",
   "execution_count": 58,
   "metadata": {},
   "outputs": [
    {
     "name": "stdout",
     "output_type": "stream",
     "text": [
      "intersection : {1}\n",
      "union : {'deux', 1, 3, 2}\n"
     ]
    }
   ],
   "source": [
    "print('intersection :', a & b)\n",
    "print('union :', a | b)"
   ]
  },
  {
   "cell_type": "markdown",
   "metadata": {},
   "source": [
    "Pour plus d'informations sur les ensembles, voir [ici](https://docs.python.org/3/library/stdtypes.html#set-types-set-frozenset)"
   ]
  },
  {
   "cell_type": "markdown",
   "metadata": {},
   "source": [
    "# Fichiers\n",
    "\n",
    "## Ouverture\n",
    "\n",
    "L'instruction :\n",
    "\n",
    "    f = open('interessant.txt', mode='r')\n",
    "    \n",
    "ouvre le fichier ``interessant.txt`` en mode lecture seule et le renvoie dans l'objet ``f``.\n",
    "\n",
    "On peut spécifier un chemin d'accès complet ou relatif au répertoire courant. Le caractère de séparation pour les répertoires peut être différent en fonction du système d'exploitation ('/' pour unix et '\\' pour windows), voir le module [``os.path``](https://docs.python.org/3/library/os.path.html)."
   ]
  },
  {
   "cell_type": "markdown",
   "metadata": {},
   "source": [
    "### Modes d'ouverture communs\n",
    "\n",
    "- ``'r'`` : lecture seule\n",
    "- ``'w'`` : écriture seule\n",
    "- ``'a'`` : ajout à partir de la fin du fichier\n",
    "\n",
    "**Note :** Avec ``'w'`` et ``'a'``, le fichier est créé s'il n'existe pas.\n",
    "\n",
    "Pour plus d'informations sur les objets fichiers, voir [ici](https://docs.python.org/3/library/stdtypes.html#file-objects), pour la documentation de la fonction ``open()``, voir [là](https://docs.python.org/3/library/functions.html#open)."
   ]
  },
  {
   "cell_type": "markdown",
   "metadata": {},
   "source": [
    "## Fermeture\n",
    "\n",
    "On ferme le fichier ``f`` avec l'instruction :\n",
    "\n",
    "    f.close()"
   ]
  },
  {
   "cell_type": "markdown",
   "metadata": {},
   "source": [
    "## Méthodes de lecture\n",
    "\n",
    "- ``f.read()`` : retourne tout le contenu de ``f`` sous la forme d’une chaîne de caractères."
   ]
  },
  {
   "cell_type": "code",
   "execution_count": 59,
   "metadata": {},
   "outputs": [
    {
     "name": "stdout",
     "output_type": "stream",
     "text": [
      "\"texte\" est un objet de type <class 'str'> de longueur 74 caractères:\n",
      "Si vous lisez ce texte alors\n",
      "...\n",
      "vous savez lire un fichier avec Python !\n",
      "\n",
      "Contenu en raw string:\n",
      "'Si vous lisez ce texte alors\\n...\\nvous savez lire un fichier avec Python !\\n'\n"
     ]
    }
   ],
   "source": [
    "f = open('fig/interessant.txt', mode='r')\n",
    "texte = f.read()\n",
    "print('\"texte\" est un objet de type', type(texte), 'de longueur', len(texte), 'caractères:')\n",
    "print(texte)\n",
    "print('Contenu en raw string:')\n",
    "print(repr(texte))\n",
    "f.close()"
   ]
  },
  {
   "cell_type": "markdown",
   "metadata": {},
   "source": [
    "- ``f.readlines()`` : retourne toutes les lignes de ``f`` sous la forme d’une liste de chaînes de caractères."
   ]
  },
  {
   "cell_type": "code",
   "execution_count": 60,
   "metadata": {},
   "outputs": [],
   "source": [
    "chaine = 'Je sais écrire\\n...\\navec Python !\\n'\n",
    "# mode 'w' : on écrase le contenu du fichier s'il existe\n",
    "# encoding UTF-8: on peut écrire des chaînes avec des caractères non ASCII\n",
    "f = open('fig/pas_mal.txt', mode='w', encoding='utf8')\n",
    "f.write(chaine)\n",
    "f.close()"
   ]
  },
  {
   "cell_type": "markdown",
   "metadata": {},
   "source": [
    "**Note :** du point de vue du système, rien n'est écrit dans le fichier avant l’appel de ``f.close()``"
   ]
  },
  {
   "cell_type": "markdown",
   "metadata": {},
   "source": [
    "- ``f.writelines(ma_sequence)`` : écrit la séquence ``ma_sequence`` dans ``f`` en mettant bout à bout les éléments"
   ]
  },
  {
   "cell_type": "code",
   "execution_count": 61,
   "metadata": {},
   "outputs": [],
   "source": [
    "sequence = ['Je sais ajouter\\n', 'du texte\\n', 'avec Python !\\n']\n",
    "f = open('fig/pas_mal.txt', mode='a')\n",
    "# mode 'a' : on ajoute à la fin du fichier\n",
    "# encoding par défaut: uniquement des caractères ASCII\n",
    "f.writelines(sequence)\n",
    "f.close()"
   ]
  },
  {
   "cell_type": "code",
   "execution_count": 62,
   "metadata": {},
   "outputs": [],
   "source": [
    "chaine = '\\nPour ajouter du texte avec des caractères accentués: î ö Ö Ê\\n'\n",
    "f = open('fig/pas_mal.txt', mode='a', encoding='utf8')\n",
    "# mode 'a' : on ajoute à la fin du fichier\n",
    "# encoding UTF-8: on peut écrire des chaînes avec des caractères non ASCII\n",
    "f.write(chaine)\n",
    "f.close()"
   ]
  },
  {
   "cell_type": "markdown",
   "metadata": {},
   "source": [
    "> **Exercice :**\n",
    ">\n",
    "> 1. écrire le contenu de la liste ``mystere`` dans le fichier ``coded.txt`` puis fermer ce dernier\n",
    "> 2. lire le fichier ``coded.txt`` et le stocker dans une chaine ``coded``\n",
    "> 3. Décoder la chaîne ``coded`` avec les instructions suivantes:\n",
    "```\n",
    "import codecs\n",
    "decoded = codecs.decode(coded, encoding='rot13')\n",
    "```\n",
    "> 4. écrire la chaine ``decoded`` dans le fichier ``decoded.txt`` et fermer ce dernier\n",
    "> 5. visualiser le contenu du fichier ``decoded.txt`` dans un éditeur de texte"
   ]
  },
  {
   "cell_type": "code",
   "execution_count": null,
   "metadata": {},
   "outputs": [],
   "source": [
    "mystere = ['Gur Mra bs Clguba, ol Gvz Crgref\\n\\n',\n",
    "           'Ornhgvshy vf orggre guna htyl.\\n',\n",
    "           'Rkcyvpvg vf orggre guna vzcyvpvg.\\n']\n",
    "# Votre code ci-dessous"
   ]
  },
  {
   "cell_type": "code",
   "execution_count": null,
   "metadata": {},
   "outputs": [],
   "source": []
  }
 ],
 "metadata": {
  "kernelspec": {
   "display_name": "Python 3",
   "language": "python",
   "name": "python3"
  },
  "language_info": {
   "codemirror_mode": {
    "name": "ipython",
    "version": 3
   },
   "file_extension": ".py",
   "mimetype": "text/x-python",
   "name": "python",
   "nbconvert_exporter": "python",
   "pygments_lexer": "ipython3",
   "version": "3.7.3"
  }
 },
 "nbformat": 4,
 "nbformat_minor": 1
}
