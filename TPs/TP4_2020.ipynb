{
 "cells": [
  {
   "cell_type": "markdown",
   "metadata": {},
   "source": [
    "![](fig/logoENSI.png)\n",
    " ![](fig/logoPython.png)\n",
    "***\n",
    "# TP4 de *nom. prénom*\n",
    "\n",
    "\n",
    "# Listes, fonctions, dictionnaires\n",
    "***\n",
    "**ENSICAEN  1A MC** \n",
    " 2020-2021\n",
    "\n",
    "## Eric Ziad-Forest\n",
    "***\n",
    "\n",
    "**Auteur :**\n",
    "\n",
    "- Eric Ziad-Forest [ziad@ensicaen.fr]\n",
    "***\n",
    "*Contenu sous licence [CC BY-SA 4.0](https://creativecommons.org/licenses/by-sa/4.0)*"
   ]
  },
  {
   "cell_type": "markdown",
   "metadata": {},
   "source": [
    "### Enseignants des groupes de TD/TP\n",
    "- Groupe 1: Philippe Lefebvre [lefebvre@ensicaen.fr]\n",
    "- Groupe 2: Eric Ziad-Forest [ziad@ensicaen.fr]\n",
    "- Groupe 3: Christine Porquet [chris@ensicaen.fr]\n",
    "- Groupe 4: Thibault Durand [tdurand@ensicaen.fr]\n",
    "***"
   ]
  },
  {
   "cell_type": "markdown",
   "metadata": {},
   "source": [
    "# Objectif\n",
    "- Meilleur utilisation des listes\n",
    "- Ecrire vos premières fonctions\n",
    "- Utilisation de dictionnaires"
   ]
  },
  {
   "cell_type": "markdown",
   "metadata": {},
   "source": [
    "# Rendu\n",
    "\n",
    ">**Vous allez au cours de ce TP, compléter dans un premier temps ce document (qui servira de compte-rendu en fin de séance et sera déposé sur la plateforme Moodle) puis ensuite répondre aux questions.**  \n",
    "N'oubliez pas d'inscrire votre nom et prénom  à côté de compte-rendu, juste en dessous de TP4.\n",
    "\n",
    "*Ce TP pourait durer 2 séances ...*"
   ]
  },
  {
   "cell_type": "markdown",
   "metadata": {},
   "source": [
    "# Rappel de cours"
   ]
  },
  {
   "cell_type": "markdown",
   "metadata": {},
   "source": [
    "![](img2/fonction2.png)\n",
    "![](img2/fonction3.png)\n",
    "![](img2/Portee_variables.png)"
   ]
  },
  {
   "cell_type": "markdown",
   "metadata": {},
   "source": [
    "Si vous souhaitez \"voir\" votre code \"tourner\" n'oubliez pas d'utiliser le lien suivant...\n",
    "\n",
    "<a href=\"http://pythontutor.com/visualize.html#mode=edit\" target=\"_blank\">Python tutor</a>"
   ]
  },
  {
   "cell_type": "markdown",
   "metadata": {},
   "source": [
    "PARTIE I\n",
    "========"
   ]
  },
  {
   "cell_type": "markdown",
   "metadata": {},
   "source": [
    "## Les fonctions"
   ]
  },
  {
   "cell_type": "markdown",
   "metadata": {},
   "source": [
    "> **Exercice 1**  \n",
    "Écrire une fonction qui prend en entrée une liste de nombres ***L*** et qui teste si les nombres de ***L*** forment une suite arithmétique ($u_n−u_{n−1}=...$) .   \n",
    "Cette fonction renvoie un booléen.\n"
   ]
  },
  {
   "cell_type": "code",
   "execution_count": 3,
   "metadata": {},
   "outputs": [
    {
     "data": {
      "text/plain": [
       "[2, 5, 8, 11, 14]"
      ]
     },
     "execution_count": 3,
     "metadata": {},
     "output_type": "execute_result"
    }
   ],
   "source": [
    "ListeArith = [i for i in range(2,15,3)]\n",
    "ListeArith"
   ]
  },
  {
   "cell_type": "markdown",
   "metadata": {},
   "source": [
    "> **Exercice 2**  \n",
    "Écrire une fonction ***appartient(a,L2)*** qui renvoie ***True*** si et seulement si la liste ***L2*** contient l’élément ***a***."
   ]
  },
  {
   "cell_type": "markdown",
   "metadata": {},
   "source": [
    "> **Exercice 3**   \n",
    "Écrire une fonction ***unique(L3)*** qui renvoie ***True*** si et seulement si la liste ***L3*** ne contient aucun élément en double."
   ]
  },
  {
   "cell_type": "markdown",
   "metadata": {},
   "source": [
    "> **Exercice 4**   \n",
    "Ecrire un programme qui reçoit une phrase et qui retourne ***True*** si celle-ci contient au moins une fois chacune des 26 lettres de l’alphabet et ***False*** sinon.   \n",
    "Essayer les 2 phrases suivantes :   \n",
    "—  *Portez ce vieux whisky au juge blond qui fume*  \n",
    "—  *The quick brown fox jumps over the lazy dog*"
   ]
  },
  {
   "cell_type": "markdown",
   "metadata": {},
   "source": [
    "PARTIE II\n",
    "========"
   ]
  },
  {
   "cell_type": "markdown",
   "metadata": {},
   "source": [
    "## Méthodes pour dictionnaires \n",
    "#### (pour se faire un peu la main...)\n",
    "Voici,après celui du cours, de nouveau un petit \"aide memoire\" sur les méthodes liées aux dictionnaires.  \n",
    "Supposons que ***dico*** est un dictionnaire :\n",
    "\n",
    ">— **clé in dico**   *# renvoie **True** si le dictionnaire **dico** contient la clé, préférable avant d'appeler une clé qui n'existerait pas*  \n",
    "— **dico.get(clé)**  *# renvoie la valeur associée à la clé même valeur que **dico\\[clé\\]**, et **None** si la clé n'existe pas.*  \n",
    "— **dico\\[clé\\]=valeur** *# ajoute une valeur associée à une nouvelle clé à un dictionnaire ou modifie la valeur associée à cette clé.  \n",
    "— **dico.pop(clé)** *# renvoie et supprime la valeur définie par une clé (ainsi que la clé )*.   \n",
    "— **dico.popitem()** *# renvoie une paire (clé-valeur) et la supprime du dictionnaire.*  \n",
    "— **dico.clear()** *# supprime tous les éléments du dictionnaire **dico** *    \n",
    "— **dico=dic.copy()** *# copie un dictionnaire dans un autre,les modifications de l'un n'affectent pas l'autre.*  \n",
    "— **list(dico.keys())** *# crée une liste des clés du dictionnaire **dico** *  \n",
    "— **list(dico.values())** *# crée une liste des valeurs du dictionnaire **dico** *  \n",
    "— **list(dico.items())** # crée une liste de tuples (clé,valeur):\\[(1,'ek'),(2,'do'),(3,'tin')...\\]  \n",
    "— **dict(zip(list(range(2,-1,-1)),list(range(3))))**  # Création d'un dictionnaire à partir de 2 listes. Ce qui donne dans l'exemple ci-dessus: {0: 2, 1: 1, 2: 0} ."
   ]
  },
  {
   "cell_type": "markdown",
   "metadata": {},
   "source": [
    "> **Exercice 4**   \n",
    "Complétez votre connaissance des dictionnaires\n",
    "et entrainez-vous en entrant les commandes suivantes et en les commentant si nécéssaire :"
   ]
  },
  {
   "cell_type": "code",
   "execution_count": null,
   "metadata": {},
   "outputs": [],
   "source": [
    "tel = {'jack': 4098, 'joe': 4139}"
   ]
  },
  {
   "cell_type": "code",
   "execution_count": null,
   "metadata": {},
   "outputs": [],
   "source": [
    "tel['john'] = 4127"
   ]
  },
  {
   "cell_type": "code",
   "execution_count": null,
   "metadata": {},
   "outputs": [],
   "source": [
    "tel"
   ]
  },
  {
   "cell_type": "code",
   "execution_count": null,
   "metadata": {},
   "outputs": [],
   "source": [
    "tel['jack']"
   ]
  },
  {
   "cell_type": "code",
   "execution_count": null,
   "metadata": {},
   "outputs": [],
   "source": [
    "del tel['joe']"
   ]
  },
  {
   "cell_type": "code",
   "execution_count": null,
   "metadata": {},
   "outputs": [],
   "source": [
    "tel['jimmy'] = 4127"
   ]
  },
  {
   "cell_type": "code",
   "execution_count": null,
   "metadata": {},
   "outputs": [],
   "source": [
    "tel"
   ]
  },
  {
   "cell_type": "code",
   "execution_count": null,
   "metadata": {},
   "outputs": [],
   "source": [
    "list(tel.keys())"
   ]
  },
  {
   "cell_type": "code",
   "execution_count": null,
   "metadata": {},
   "outputs": [],
   "source": [
    "list(tel.values())"
   ]
  },
  {
   "cell_type": "code",
   "execution_count": null,
   "metadata": {},
   "outputs": [],
   "source": [
    "list(tel.items())"
   ]
  },
  {
   "cell_type": "code",
   "execution_count": null,
   "metadata": {},
   "outputs": [],
   "source": [
    "'john' in tel"
   ]
  },
  {
   "cell_type": "code",
   "execution_count": null,
   "metadata": {},
   "outputs": [],
   "source": [
    "tel.pop('john')"
   ]
  },
  {
   "cell_type": "code",
   "execution_count": null,
   "metadata": {},
   "outputs": [],
   "source": [
    "for nom,num in tel.items(): # Attention au 2 petits points en fin d'instruction!\n",
    "        print (nom, num)"
   ]
  },
  {
   "cell_type": "markdown",
   "metadata": {},
   "source": [
    "> **Exercice 5**   \n",
    "Soit le dictionnaire :    \n",
    "d= {’nom’ : ’Dupuis’, ’prenom’ : ’Jacque’, ’age’ : 301.}    \n",
    "1. Corriger l’erreur dans le prénom, la bonne valeur est ’Jacques’\n",
    "2.  Afficher la liste des clés du dictionnaire.\n",
    "3.  Afficher la liste des valeurs du dictionnaire.\n",
    "4.  Afficher la liste des paires clé/valeur du dictionnaire.\n",
    "5.  Ecrire la phrase \"Jacques Dupuis a 30 ans\" en utilisant le dictionnaire **d**."
   ]
  },
  {
   "cell_type": "markdown",
   "metadata": {},
   "source": [
    "PARTIE III\n",
    "========"
   ]
  },
  {
   "cell_type": "markdown",
   "metadata": {},
   "source": [
    "## Cryptographie\n",
    "L’objectif de cette partie est de faire un petit peu de cryptographie.  \n",
    "Transmettre des messages secrets dans l’antiquité, consistait essentiellement\n",
    "en un décalage d’un certain nombre de lettres dans l’alphabet latin.  \n",
    "Le z a comme successeur le a de sorte à rendre l’alphabet circulaire.   \n",
    "Par exemple si x vaut 4 : a devient e, b devient f, et z devient d.  \n",
    "Les deux lignes suivantes montrent la correspondance entre les lettres :  \n",
    "-    abcdefghijklmnopqrstuvwxyz (lettres originales)  \n",
    "-    efghijklmnopqrstuvwxyzabcd (lettres chiffrées avec un décalage x = 4)\n",
    "    \n",
    "Par exemple, avec ce chiffre, le mot ’bonjour ’ devient ’fsrnsyv ’. \n",
    "    \n",
    "Le but de cet exercice est d’écrire un programme qui permet de chiffrer ou déchiffrer un texte avec ce procédé."
   ]
  },
  {
   "cell_type": "markdown",
   "metadata": {},
   "source": [
    "> **Exercice 6**   \n",
    "Définir une variable globale minuscule qui contient l’ensemble des lettres de a à z."
   ]
  },
  {
   "cell_type": "code",
   "execution_count": null,
   "metadata": {},
   "outputs": [],
   "source": [
    "minuscules="
   ]
  },
  {
   "cell_type": "markdown",
   "metadata": {},
   "source": [
    "> **Exercice 7**   \n",
    "Écrire  la  fonction **rotation(chaine, x)** qui  retourne  la  chaîne\n",
    "après  une  rotation  de  x  lettres  vers  la gauche. \n",
    "On suppose que x est positif et inférieur à la longueur de la chaîne.   \n",
    "Par exemple :  \n",
    "```code\n",
    "rotation(minuscules, 3)  \n",
    "'defghijklmnopqrstuvwxyzabc'\n",
    "```"
   ]
  },
  {
   "cell_type": "markdown",
   "metadata": {},
   "source": [
    "> **Exercice 8** \n",
    "Écrire la fonction **index(c, chaine)** qui retourne l’index de c dans la chaîne ou -1 \n",
    "si c est absent :  \n",
    "```code\n",
    "index('x','erxe') \n",
    "2\n",
    "index('y','erxe')\n",
    "-1\n",
    "```"
   ]
  },
  {
   "cell_type": "markdown",
   "metadata": {},
   "source": [
    "> **Exercice 9**   \n",
    "Écrire la fonction **chiffre_ minuscules(chaine, x)** qui retourne la phrase chaîne \n",
    "chiffrée avec un décalage de x lettres (on pourra utiliser les fonctions définies \n",
    "dans les questions précédentes).   \n",
    "On supposera ici que s ne comporte que des caractères minuscules.   \n",
    "Par exemple :\n",
    "```code\n",
    "chiffre_minuscules('bonjour', 3)\n",
    "'erqmrxu'\n",
    "```"
   ]
  },
  {
   "cell_type": "markdown",
   "metadata": {},
   "source": [
    "> **Exercice 10**  \n",
    "Écrire la fonction **chiffre(chaine, x)** pour qu’elle traite le cas des phrases qui comportent\n",
    "des minuscules, des majuscules, des espaces ou ponctuations. \n",
    "Pour simplifier, on suppose qu’on ne chiffre pas les lettres accentuées.   \n",
    "*Indication : vous pouvez utiliser les variables majuscule et ponctuation comme ci-dessous :*\n",
    "```code\n",
    "majuscules='ABCDEFGHIJKLMNOPQRSTUVWXYZ'  \n",
    "ponctuation=',?;.:\\'/\"_(-)'  \n",
    "chiffre('Bonjour les amis!', 3)  \n",
    "'Erqmrxu ohv dplv!'\n",
    "```"
   ]
  },
  {
   "cell_type": "markdown",
   "metadata": {},
   "source": [
    "> **Exercice 11**  \n",
    "Eudyr, yrxv dyhc ilql fhw hahuflfh !  \n",
    "La phrase précédente est chiffrée avec x = 3.   \n",
    "Déchiffrez-la.  \n",
    "*Notez qu’il n’est pas nécessaire de réécrire une fonction pour déchiffrer.*"
   ]
  },
  {
   "cell_type": "markdown",
   "metadata": {},
   "source": [
    "> **Exercice 12**   \n",
    "On peut déchiffrer de la même façon qu’on chiffre. Comment ?"
   ]
  },
  {
   "cell_type": "markdown",
   "metadata": {},
   "source": [
    "PARTIE IV\n",
    "========"
   ]
  },
  {
   "cell_type": "markdown",
   "metadata": {},
   "source": [
    "## Lecture/écriture et traitement dans un fichier\n",
    "\n",
    "### Préambule   fichier fable.txt\n",
    "Placer le fichier **fable.txt**, qui se trouve dans votre dossier TP4.\n",
    "\n",
    "### Manipulation de texte\n",
    "Apprenez en recopiant, ce que font les commandes suivantes : (pensez à commenter!)"
   ]
  },
  {
   "cell_type": "code",
   "execution_count": null,
   "metadata": {},
   "outputs": [],
   "source": [
    "k=\"animal bijoux coucou\""
   ]
  },
  {
   "cell_type": "code",
   "execution_count": null,
   "metadata": {},
   "outputs": [],
   "source": [
    "h=k.split()\n",
    "h"
   ]
  },
  {
   "cell_type": "code",
   "execution_count": null,
   "metadata": {},
   "outputs": [],
   "source": [
    "for el in range(len(h)):\n",
    "    h[el]=h[el]+''\n",
    "h"
   ]
  },
  {
   "cell_type": "code",
   "execution_count": null,
   "metadata": {},
   "outputs": [],
   "source": [
    "len(h[0])"
   ]
  },
  {
   "cell_type": "code",
   "execution_count": null,
   "metadata": {},
   "outputs": [],
   "source": [
    "s=\"\".join(h)\n",
    "s"
   ]
  },
  {
   "cell_type": "markdown",
   "metadata": {},
   "source": [
    "> **Exercice 13**   \n",
    "Après avoir ouvert dans un traitement de texte le fichier **fable.txt** copier-le et coller-le dans une variable **fab** de type **str** entre des guillemets doubles.  \n",
    "*Remarque: on ne tiendra pas compte de la ponctuation dans toutes les questions suivantes  (**sauf pour les plus avancés**)*."
   ]
  },
  {
   "cell_type": "code",
   "execution_count": null,
   "metadata": {
    "deletable": false,
    "dicho": {
     "celltype": "normal",
     "readonly": false
    }
   },
   "outputs": [],
   "source": [
    "fab=\"   ici le texte à coller   \""
   ]
  },
  {
   "cell_type": "markdown",
   "metadata": {},
   "source": [
    "> **Exercice 14**   \n",
    "Vous pouvez désormais répondre aux questions suivantes :\n",
    "1. En utilisant la méthode **count()** du type **str** ,compter le nombre de **a** minuscules.\n",
    "2. Donner le nombre de lettres de ce texte.\n",
    "3. Donner le nombre de mots.\n",
    "4. Ordonnée dans l’ordre lexicographique les mots du texte.\n",
    "5. Quelle critique pouvez-vous faire?\n",
    "6. Que représente le max dans cette liste de mots? (Pourquoi?)"
   ]
  },
  {
   "cell_type": "code",
   "execution_count": null,
   "metadata": {
    "deletable": false,
    "dicho": {
     "celltype": "normal",
     "readonly": false
    }
   },
   "outputs": [],
   "source": []
  }
 ],
 "metadata": {
  "dicho": {
   "author": "Denis Pinsard",
   "contact": "(prénom).(nom)@dichotomies.fr",
   "created": "2016-08-29",
   "description": "Les connaissances de base pour créer, modifier et manipuler les Notebooks Jupyter",
   "dockey": "ITV538",
   "license": true,
   "logo": true,
   "readonly": false,
   "subtitle": "",
   "title": "Débuter avec les notebooks",
   "updated": "2016-08-29",
   "uri": "http://dichotomies.fr/2016/informatique/info1/cours/debuter-avec-les-notebooks/"
  },
  "kernelspec": {
   "display_name": "Python 3",
   "language": "python",
   "name": "python3"
  },
  "language_info": {
   "codemirror_mode": {
    "name": "ipython",
    "version": 3
   },
   "file_extension": ".py",
   "mimetype": "text/x-python",
   "name": "python",
   "nbconvert_exporter": "python",
   "pygments_lexer": "ipython3",
   "version": "3.7.3"
  }
 },
 "nbformat": 4,
 "nbformat_minor": 1
}
