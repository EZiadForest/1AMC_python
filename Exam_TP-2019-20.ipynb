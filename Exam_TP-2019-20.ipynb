{
 "cells": [
  {
   "cell_type": "markdown",
   "metadata": {},
   "source": [
    "## Nom     Prénom\n",
    "\n",
    "\n",
    "# Introduction à la Programmation \n",
    "## Examen de TP initiation à l'informatique \n",
    "###  - Python -  1h45\n",
    "***\n",
    "**ENSICAEN  1A MC** \n",
    "Jeudi 9 Janvier 2020\n",
    "#### T. Durand P. Lefebvre C. Porquet  E. Ziad-Forest"
   ]
  },
  {
   "cell_type": "markdown",
   "metadata": {},
   "source": [
    "*Tous les documents sont autorisés.*  \n",
    "*Votre compte-rendu d'examen sera ce document commenté.*    \n",
    "*Pensez également à commenter votre code.*"
   ]
  },
  {
   "cell_type": "markdown",
   "metadata": {},
   "source": [
    "# Ex1"
   ]
  },
  {
   "cell_type": "markdown",
   "metadata": {},
   "source": [
    "Ecrire l'instruction permettant de calculer la somme des nombres de 1 à 2020. En utilisant une boucle `for`"
   ]
  },
  {
   "cell_type": "code",
   "execution_count": null,
   "metadata": {},
   "outputs": [],
   "source": []
  },
  {
   "cell_type": "markdown",
   "metadata": {},
   "source": [
    "# Ex2"
   ]
  },
  {
   "cell_type": "markdown",
   "metadata": {},
   "source": [
    "Dans le mot **'anticonstitutionnellement'**.   \n",
    "Ecrire une fonction permettant d'inverser les n en t et les t en n."
   ]
  },
  {
   "cell_type": "code",
   "execution_count": 1,
   "metadata": {},
   "outputs": [],
   "source": [
    "mot='anticonstitutionnellement'"
   ]
  },
  {
   "cell_type": "code",
   "execution_count": null,
   "metadata": {},
   "outputs": [],
   "source": []
  },
  {
   "cell_type": "markdown",
   "metadata": {},
   "source": [
    "# Ex3"
   ]
  },
  {
   "cell_type": "markdown",
   "metadata": {},
   "source": [
    "Ecrire une fonction `minMaxOccMax` qui donne le **minimum**, **maximum** et le **nombre d'occurences du maximum** d'une liste `L` en ne parcourant celle-ci qu'une seule fois.  \n",
    "(*C'est-à-dire avec une seule boucle `for`.*)  \n",
    "De plus, vous n'utiliserez en aucun cas les primitives du langage **min** et **max**! "
   ]
  },
  {
   "cell_type": "code",
   "execution_count": null,
   "metadata": {},
   "outputs": [],
   "source": [
    "# votre code ici\n"
   ]
  },
  {
   "cell_type": "code",
   "execution_count": 17,
   "metadata": {},
   "outputs": [],
   "source": [
    "# Vérifier minMaxOccMax(L) renvoie  (0,123,6) \n",
    "L=[36, 0, 6, 71, 72, 120, 111, 85, 78, 35, 51, 1, 91, 14, 1, 114, 115, 69, 78, 91, 97, 108, 7, 47, 56, 43, 62, 116, 35, 4, 72, 74, 75, 14, 91, 99, 21, 117, 83, 33, 100, 9, 37, 94, 33, 13, 88, 51, 72, 90, 77, 94, 22, 4, 74, 23, 71, 77, 57, 44, 123, 17, 61, 96, 1, 51, 90, 1, 45, 72, 49, 13, 36, 113, 72, 100, 104, 79, 101, 118, 71, 66, 123, 60, 18, 21, 82, 46, 59, 14, 82, 74, 86, 61, 119, 21, 29, 110, 9, 65, 41, 61, 88, 92, 12, 76, 50, 80, 65, 109, 71, 17, 2, 117, 79, 38, 18, 7, 115, 38, 65, 72, 20, 56, 42, 28, 18, 91, 95, 79, 38, 80, 116, 71, 97, 30, 34, 70, 110, 80, 16, 19, 80, 49, 26, 88, 16, 72, 48, 70, 95, 2, 81, 107, 119, 2, 63, 24, 16, 76, 83, 2, 90, 106, 79, 5, 13, 104, 47, 38, 118, 20, 44, 72, 114, 90, 120, 59, 53, 39, 65, 18, 113, 85, 20, 108, 92, 110, 17, 83, 22, 34, 45, 42, 96, 44, 14, 67, 66, 52, 58, 16, 77, 1, 57, 70, 116, 68, 113, 80, 54, 24, 119, 50, 78, 23, 9, 17, 114, 96, 113, 19, 28, 115, 64, 39, 3, 27, 73, 32, 56, 96, 53, 70, 85, 55, 21, 58, 44, 1, 99, 33, 16, 51, 101, 36, 48, 91, 1, 44, 20, 121, 103, 90, 17, 21, 66, 75, 31, 11, 33, 39, 66, 103, 56, 10, 109, 62, 19, 50, 7, 111, 29, 34, 123, 90, 47, 10, 54, 58, 16, 6, 40, 14, 65, 60, 56, 44, 7, 14, 79, 55, 13, 85, 17, 30, 75, 59, 82, 43, 45, 103, 48, 64, 94, 86, 57, 97, 85, 89, 109, 36, 104, 112, 89, 106, 58, 55, 58, 90, 101, 6, 31, 21, 99, 115, 120, 53, 11, 48, 37, 17, 75, 51, 36, 95, 21, 46, 90, 103, 9, 60, 1, 65, 0, 43, 111, 53, 52, 111, 105, 54, 66, 97, 88, 90, 37, 44, 84, 52, 85, 110, 88, 99, 118, 16, 110, 84, 111, 17, 21, 115, 51, 61, 63, 62, 19, 78, 90, 87, 8, 54, 32, 108, 33, 37, 64, 3, 79, 55, 117, 116, 71, 97, 31, 59, 56, 23, 30, 45, 69, 26, 66, 51, 37, 96, 100, 18, 69, 12, 90, 102, 52, 47, 11, 54, 24, 56, 8, 104, 19, 118, 37, 111, 92, 3, 67, 51, 49, 85, 22, 96, 56, 85, 98, 106, 11, 44, 83, 38, 41, 86, 107, 49, 78, 0, 66, 102, 87, 92, 120, 12, 23, 10, 96, 57, 3, 44, 24, 15, 2, 88, 0, 120, 123, 81, 44, 88, 0, 29, 26, 123, 49, 107, 87, 73, 17, 24, 51, 116, 62, 123, 96, 89, 69, 54, 106, 106, 64, 4, 5, 78, 38, 17, 115, 40, 11, 29, 25, 67]"
   ]
  },
  {
   "cell_type": "code",
   "execution_count": 2,
   "metadata": {},
   "outputs": [],
   "source": []
  },
  {
   "cell_type": "markdown",
   "metadata": {},
   "source": [
    "Ecrire une fonction `maxOcc` qui renverra la valeur la plus fréquente de la liste L. "
   ]
  },
  {
   "cell_type": "code",
   "execution_count": null,
   "metadata": {},
   "outputs": [],
   "source": []
  },
  {
   "cell_type": "markdown",
   "metadata": {},
   "source": [
    "# Ex4"
   ]
  },
  {
   "cell_type": "markdown",
   "metadata": {},
   "source": [
    "Ecrivez une suite d'instructions qui crée les tables d'additions de 0 à 10, sous cette forme:  \n",
    "(Ne sera accepé que l'utilisation de boucles!)\n",
    "\n",
    "table des 0 [0, 1, 2, 3, 4, 5, 6, 7, 8, 9, 10]  \n",
    "table des 1 [1, 2, 3, 4, 5, 6, 7, 8, 9, 10, 11]  \n",
    "table des 2 [2, 3, 4, 5, 6, 7, 8, 9, 10, 11, 12]  \n",
    "table des 3 [3, 4, 5, 6, 7, 8, 9, 10, 11, 12, 13]  \n",
    "table des 4 [4, 5, 6, 7, 8, 9, 10, 11, 12, 13, 14]  \n",
    "table des 5 [5, 6, 7, 8, 9, 10, 11, 12, 13, 14, 15]  \n",
    "table des 6 [6, 7, 8, 9, 10, 11, 12, 13, 14, 15, 16]  \n",
    "table des 7 [7, 8, 9, 10, 11, 12, 13, 14, 15, 16, 17]  \n",
    "table des 8 [8, 9, 10, 11, 12, 13, 14, 15, 16, 17, 18]  \n",
    "table des 9 [9, 10, 11, 12, 13, 14, 15, 16, 17, 18, 19]  \n",
    "table des 10 [10, 11, 12, 13, 14, 15, 16, 17, 18, 19, 20]  "
   ]
  },
  {
   "cell_type": "code",
   "execution_count": null,
   "metadata": {},
   "outputs": [],
   "source": []
  },
  {
   "cell_type": "markdown",
   "metadata": {},
   "source": [
    "# Ex5"
   ]
  },
  {
   "cell_type": "markdown",
   "metadata": {},
   "source": [
    "Écrire un programme qui analyse un par un tous les éléments d’une liste de mots  \n",
    "par exemple, **[’Jean’, ’Maximilien’, ’Brigitte’, ’Sonja’, ’Chadi’, ’Vanicia’, Alfonso]**  \n",
    "pour générer deux nouvelles listes.   \n",
    "L’une contiendra les mots comportant moins de 6 caractères, l’autre les mots comportant 6 caractères ou davantage."
   ]
  },
  {
   "cell_type": "code",
   "execution_count": null,
   "metadata": {},
   "outputs": [],
   "source": [
    "K=['Jean', 'Maximilien', 'Brigitte', 'Sonja', 'Chadi', 'Vanicia', 'Alfonso']"
   ]
  },
  {
   "cell_type": "code",
   "execution_count": null,
   "metadata": {},
   "outputs": [],
   "source": []
  },
  {
   "cell_type": "markdown",
   "metadata": {},
   "source": [
    "# Ex6"
   ]
  },
  {
   "cell_type": "markdown",
   "metadata": {},
   "source": [
    "Retourner un dictionnaire tel que les clés deviennent les valeurs et les valeurs deviennent les clés (on suppose que les clés et valeurs sont uniques).  \n",
    "On utilisera pour vérifier: **dictCoor2Pt = {(0,0):\"O\",(1,0):\"I\",(0,1):\"J\",(1,1):\"A\"}**.  \n",
    "Votre script devrait retourner un dictionnaire sous cette forme, (*mais pas forcément dans cet ordre!*)  \n",
    "**dictPt2Coor={\"O\":(0,0),\"I\":(1,0),\"J\":(0,1),\"A\":(1,1)}** "
   ]
  },
  {
   "cell_type": "code",
   "execution_count": null,
   "metadata": {},
   "outputs": [],
   "source": [
    " dictCoor2Pt = {(0,0):\"O\",(1,0):\"I\",(0,1):\"J\",(1,1):\"A\"}"
   ]
  },
  {
   "cell_type": "code",
   "execution_count": null,
   "metadata": {},
   "outputs": [],
   "source": []
  },
  {
   "cell_type": "markdown",
   "metadata": {},
   "source": [
    "On rappelle qu'un complexe en Python s'écrit a+b`j`.  \n",
    "Ecrire un programme prenant en paramètre le dictionnaire `dictPt2Coor`\n",
    "et retournant un dictionnaire `dictPt2Complex` qui transforme les valeurs (a,b) - *a et b 2 entiers* - de `dictPt2Coor` en un complexe a+b`j`.   \n",
    "Par exemple, la clé **\"A\"** aura pour valeur 1+1`j`."
   ]
  },
  {
   "cell_type": "code",
   "execution_count": null,
   "metadata": {},
   "outputs": [],
   "source": []
  },
  {
   "cell_type": "markdown",
   "metadata": {},
   "source": [
    "# Ex7"
   ]
  },
  {
   "cell_type": "markdown",
   "metadata": {},
   "source": [
    "Expliquer puis corriger les erreurs suivantes:"
   ]
  },
  {
   "cell_type": "code",
   "execution_count": null,
   "metadata": {},
   "outputs": [],
   "source": [
    "# a\n",
    "n = 10\n",
    "l = [i for i in (0,n)]\n",
    "l[9]"
   ]
  },
  {
   "cell_type": "code",
   "execution_count": null,
   "metadata": {},
   "outputs": [],
   "source": []
  },
  {
   "cell_type": "code",
   "execution_count": null,
   "metadata": {},
   "outputs": [],
   "source": [
    "# b\n",
    "d = {’un’: 1, ’deux’: 4}\n",
    "print(deux)"
   ]
  },
  {
   "cell_type": "code",
   "execution_count": null,
   "metadata": {},
   "outputs": [],
   "source": []
  },
  {
   "cell_type": "code",
   "execution_count": null,
   "metadata": {},
   "outputs": [],
   "source": [
    "# c\n",
    "l = [ \"mot\", \"second\" ]\n",
    "print l(0)"
   ]
  },
  {
   "cell_type": "code",
   "execution_count": null,
   "metadata": {},
   "outputs": [],
   "source": []
  },
  {
   "cell_type": "code",
   "execution_count": null,
   "metadata": {},
   "outputs": [],
   "source": [
    "# d\n",
    "l = [4, 2, 1, 3]\n",
    "ll = l.sort()\n",
    "print ll[0]"
   ]
  },
  {
   "cell_type": "code",
   "execution_count": null,
   "metadata": {},
   "outputs": [],
   "source": []
  },
  {
   "cell_type": "markdown",
   "metadata": {},
   "source": [
    "# Ex8"
   ]
  },
  {
   "cell_type": "markdown",
   "metadata": {},
   "source": [
    "On souhaite effacer tous les accents d'un texte.\n",
    "Pour celà, on utilisera le dictionnaire suivant:"
   ]
  },
  {
   "cell_type": "code",
   "execution_count": null,
   "metadata": {},
   "outputs": [],
   "source": [
    "accents = { 'a': ['à', 'ã', 'á', 'â'],\n",
    "                    'e': ['é', 'è', 'ê', 'ë'],\n",
    "                    'i': ['î', 'ï'],\n",
    "                    'u': ['ù', 'ü', 'û'],\n",
    "                    'o': ['ô', 'ö'] }"
   ]
  },
  {
   "cell_type": "markdown",
   "metadata": {},
   "source": [
    "et la méthode sur les chaînes `replace`."
   ]
  },
  {
   "cell_type": "code",
   "execution_count": 1,
   "metadata": {},
   "outputs": [
    {
     "data": {
      "text/plain": [
       "'mêmE à cE prix un trésor'"
      ]
     },
     "execution_count": 1,
     "metadata": {},
     "output_type": "execute_result"
    }
   ],
   "source": [
    "# utilisation de la méthode replace\n",
    "essai=\"même à ce prix un trésor\"\n",
    "essai.replace('e','E')"
   ]
  },
  {
   "cell_type": "markdown",
   "metadata": {},
   "source": [
    "1/ Ecrire un programme `supprime_accents` prenant en paramètre une chaîne de caractères, utilisant le dictionnaire `accents` et retournant cette chaîne sans accent."
   ]
  },
  {
   "cell_type": "code",
   "execution_count": null,
   "metadata": {},
   "outputs": [],
   "source": []
  },
  {
   "cell_type": "markdown",
   "metadata": {},
   "source": [
    "2/ Vérifier votre programme avec `fab` defini ci-dessous"
   ]
  },
  {
   "cell_type": "code",
   "execution_count": null,
   "metadata": {},
   "outputs": [],
   "source": [
    "fab=\"LE LOUP ET LE CHIEN Un Loup n'avait que les os et la peau ; Tant les Chiens faisaient bonne garde. Ce Loup rencontre un Dogue aussi puissant que beau, Gras, poli, qui s'était fourvoyé par mégarde. L'attaquer, le mettre en quartiers, Sire Loup l'eût fait volontiers. Mais il fallait livrer bataille ; Et le Mâtin était de taille A se défendre hardiment. Le Loup donc l'aborde humblement, Entre en propos, et lui fait compliment Sur son embonpoint qu'il admire. Il ne tiendra qu'à vous, beau Sire, D'être aussi gras que moi, lui repartit le Chien. là quittez les bois, vous ferez bien : Vos pareils y sont misérables, Cancres, haines, et pauvres diables, Dont la condition et de mourir de faim. Car quoi ? Bien d'assuré ; point de hanche lippée Tout à la pointe de l'épée. Suivez-moi ; vous aurez un bien meilleur destin. » Le Loup reprit : « Que me faudra-t-il faire? - Presque rien, dit le Chien ; donner la chasse aux gens Portant bâtons, et mendiants; Flatter ceux du logis, à son Maître complaire ; Moyennant quoi votre salaire Sera force reliefs de toutes les façons : Os de poulets, os de pigeons ; Sans parler de mainte caresse. Le Loup déjà se forge une félicité Qui le fait pleurer de tendresse. Chemin faisant il vit le col du Chien pelé : « Qu'est-ce là ? lui dit-il. - Rien. - Quoi? rien? - Peu - Mais encore ? - Le collier dont je suis attaché De ce que vous voyez est peut-être la cause. - Attaché ? dit le Loup ; vous ne courez donc pas Où vous voulez ? - Pas toujours, mais qu'importe ? - Il importe si bien, que de tous vos repas Je ne veux en aucune sorte, Et ne voudrais pas même à ce prix un trésor. » Cela dit, maître Loup s'enfuit, et court encore.\""
   ]
  },
  {
   "cell_type": "code",
   "execution_count": null,
   "metadata": {},
   "outputs": [],
   "source": []
  },
  {
   "cell_type": "markdown",
   "metadata": {},
   "source": [
    "3/ Ecrire un programme `prog_supprime_accents` qui prend en paramètre une chaîne de caractères et qui écrit dans un fichier  `SupAccents.txt` du dossier de travail, le même résultat que ci-dessus *(par exemple la chaîne de caractères* `fab` *sans accents!)*"
   ]
  },
  {
   "cell_type": "markdown",
   "metadata": {},
   "source": [
    "# Ex9"
   ]
  },
  {
   "cell_type": "markdown",
   "metadata": {},
   "source": [
    "Ecrire un programme prenant un petit entier `n` et retournant, sous forme de tuples toutes les manières d'obtenir par addition des éléments du tuple ce nombre `n`.  \n",
    "Sachant de plus, qu'un élément du tuple de rang i est inférieur ou égal à un élément de rang i+1.   \n",
    "> Par exemple:  \n",
    "Si n=4  \n",
    "(1,1,1,1) (1,1,2) (1,3) (2,2) (4) \n",
    "car 1+1+1+1=4, 1+1+2=4, 1+3=4, 2+2=4  \n",
    "mais (2,1,1) ne convient pas  car 2 de rang 0 est supérieur à 1 de rang 1."
   ]
  },
  {
   "cell_type": "code",
   "execution_count": null,
   "metadata": {},
   "outputs": [],
   "source": []
  }
 ],
 "metadata": {
  "kernelspec": {
   "display_name": "Python 3",
   "language": "python",
   "name": "python3"
  },
  "language_info": {
   "codemirror_mode": {
    "name": "ipython",
    "version": 3
   },
   "file_extension": ".py",
   "mimetype": "text/x-python",
   "name": "python",
   "nbconvert_exporter": "python",
   "pygments_lexer": "ipython3",
   "version": "3.7.3"
  }
 },
 "nbformat": 4,
 "nbformat_minor": 2
}
