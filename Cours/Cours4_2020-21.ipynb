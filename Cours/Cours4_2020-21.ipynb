{
 "cells": [
  {
   "cell_type": "markdown",
   "metadata": {
    "slideshow": {
     "slide_type": "slide"
    }
   },
   "source": [
    "![](fig/logoENSI.png)\n",
    "![](fig/logoPython.png)\n",
    "\n",
    "\n",
    "\n",
    "# Introduction à la Programmation \n",
    "# Langage Python (cours 3)\n",
    "***\n",
    "**ENSICAEN  1A MC** \n",
    "Mercredi 14 Oct 2020\n",
    "## Eric Ziad-Forest\n",
    "***"
   ]
  },
  {
   "cell_type": "markdown",
   "metadata": {
    "slideshow": {
     "slide_type": "slide"
    }
   },
   "source": [
    "# Sommaire\n",
    "\n",
    "- Séquences (conteneurs)\n",
    "    - les chaînes de caractères\n",
    "    - les listes\n",
    "    - les tuples\n",
    "\n",
    "\n",
    "***\n",
    "\n",
    "## Auteurs :\n",
    "\n",
    "- Vincent Legoll ([vincent.legoll@iphc.cnrs.fr](mailto: vincent.legoll@iphc.cnrs.fr))\n",
    "- Matthieu Boileau ([matthieu.boileau@math.unistra.fr](mailto: matthieu.boileau@math.unistra.fr))\n",
    "- Xavier Dupré http://www.xavierdupre.fr/\n",
    "- Eric Ziad-Forest ([ziad@ensicaen.fr](mailto: ziad@ensicaen.fr))\n",
    "\n",
    "*Contenu sous licence [CC BY-SA 4.0](https://creativecommons.org/licenses/by-sa/4.0)*"
   ]
  },
  {
   "cell_type": "markdown",
   "metadata": {
    "slideshow": {
     "slide_type": "slide"
    }
   },
   "source": [
    "# Séquences\n",
    "\n",
    "Les séquences sont des **conteneurs** d'objets où les objets référencés sont **ordonnés**.\n",
    "\n",
    "Python supporte nativement trois types de séquences :\n",
    "\n",
    "- les chaînes de caractères\n",
    "- les listes\n",
    "- les tuples\n",
    "\n",
    "**Note :** De nouveaux types de conteneurs exite ou peuvent être créés."
   ]
  },
  {
   "cell_type": "markdown",
   "metadata": {},
   "source": [
    "#  Variables (Rappel)\n",
    "\n",
    "\n",
    "Un algorithme manipule des données. Ces données ne sont pas connues au moment où on écrit l'algorithme. Les variables servent à nommer ces données afin de pouvoir écrire cet algorithme. On procède la plupart du temps dans l'ordre suivant :\n",
    "\n",
    "* On écrit l'algorithme.\n",
    "* On affecte des valeurs aux variables.\n",
    "* On exécute l'algorithme.\n",
    "\n",
    "Quelques exemples à essayer autour des variables :"
   ]
  },
  {
   "cell_type": "code",
   "execution_count": 1,
   "metadata": {},
   "outputs": [
    {
     "data": {
      "text/plain": [
       "(3, 3.3, 'exemple', None, ' exemple sur\\nplusieurs lignes')"
      ]
     },
     "execution_count": 1,
     "metadata": {},
     "output_type": "execute_result"
    }
   ],
   "source": [
    "i = 3                    # entier = type numérique (type int)\n",
    "r = 3.3                  # réel   = type numérique (type float)\n",
    "s = \"exemple\"            # chaîne de caractères = type str (exemple n'est pas une variable)\n",
    "s = 'exemple'            # \" et ' peuvent être utilisées pour définir une chaîne de caractères\n",
    "sl = \"\"\" exemple sur\n",
    "plusieurs lignes\"\"\"      # on peut définir une chaîne sur plusieurs lignes avec \"\"\" ou '''             \n",
    "n = None                 # None signifie que la variable existe mais qu'elle ne contient rien\n",
    "                         # elle est souvent utilisée pour signifier qu'il n'y a pas de résultat\n",
    "                         # car... une erreur s'est produite, il n'y a pas de résultat\n",
    "                         # (racine carrée de -1 par exemple)\n",
    "            \n",
    "i,r,s,n, sl              # avec les notebooks, le dernier print n'est pas nécessaire, il suffit d'écrire\n",
    "                         # i,r,s,n"
   ]
  },
  {
   "cell_type": "code",
   "execution_count": 2,
   "metadata": {},
   "outputs": [
    {
     "name": "stdout",
     "output_type": "stream",
     "text": [
      "anything\n"
     ]
    },
    {
     "data": {
      "text/plain": [
       "(5, 6)"
      ]
     },
     "execution_count": 2,
     "metadata": {},
     "output_type": "execute_result"
    }
   ],
   "source": [
    "v = \"anything\"       # affectation\n",
    "print ( v )          # affichage\n",
    "v1, v2 = 5, 6        # double affectation\n",
    "v1,v2"
   ]
  },
  {
   "cell_type": "markdown",
   "metadata": {},
   "source": [
    "Par défaut, le notebook affiche le résultat présent sur la dernière ligne de la cellule. S'il on souhaite en afficher plusieurs, il faut utiliser la fonction [print](https://docs.python.org/3/library/functions.html?highlight=print#print)."
   ]
  },
  {
   "cell_type": "code",
   "execution_count": null,
   "metadata": {},
   "outputs": [],
   "source": [
    "x = 3\n",
    "print(x)\n",
    "y = 5 * x\n",
    "y"
   ]
  },
  {
   "cell_type": "code",
   "execution_count": 3,
   "metadata": {},
   "outputs": [
    {
     "data": {
      "text/plain": [
       "'addition de 4 et 5 donne : 4 + 5 = 9'"
      ]
     },
     "execution_count": 3,
     "metadata": {},
     "output_type": "execute_result"
    }
   ],
   "source": [
    "x,y = 4,5 \n",
    "s = \"addition\"\n",
    "\"{3} de {0} et {1} donne : {0} + {1} = {2}\".format (x,y,x+y,s)"
   ]
  },
  {
   "cell_type": "markdown",
   "metadata": {},
   "source": [
    "La dernière écriture permet d'assembler différentes valeurs en une seule chaînes de caractères. C'est très pratique lorsqu'on veut répéter le même assemblage un grand nombre de fois. Ce mécanisme ressemble à celui des lettres type : c'est un texte à trou qu'on remplit avec des valeurs différentes à chaque fois."
   ]
  },
  {
   "cell_type": "code",
   "execution_count": null,
   "metadata": {},
   "outputs": [],
   "source": [
    "for prenom in [ \"xavier\", \"sloane\"] :\n",
    "    print (\"Monsieur {0}, vous avez gagné...\".format(prenom))"
   ]
  },
  {
   "cell_type": "markdown",
   "metadata": {},
   "source": [
    "**Type d'une variable :**"
   ]
  },
  {
   "cell_type": "code",
   "execution_count": 4,
   "metadata": {},
   "outputs": [
    {
     "name": "stdout",
     "output_type": "stream",
     "text": [
      "<class 'str'>\n",
      "True\n"
     ]
    }
   ],
   "source": [
    "print ( type ( v ) )           # affiche le type d'une variable\n",
    "print ( isinstance (v, str) )  # pour déterminer si v est de type str"
   ]
  },
  {
   "cell_type": "markdown",
   "metadata": {},
   "source": [
    "#### Les fonctions et méthodes d'un type (par exemple `str` )"
   ]
  },
  {
   "cell_type": "code",
   "execution_count": 5,
   "metadata": {},
   "outputs": [
    {
     "name": "stdout",
     "output_type": "stream",
     "text": [
      "['__add__', '__class__', '__contains__', '__delattr__', '__dir__', '__doc__', '__eq__', '__format__', '__ge__', '__getattribute__', '__getitem__', '__getnewargs__', '__gt__', '__hash__', '__init__', '__init_subclass__', '__iter__', '__le__', '__len__', '__lt__', '__mod__', '__mul__', '__ne__', '__new__', '__reduce__', '__reduce_ex__', '__repr__', '__rmod__', '__rmul__', '__setattr__', '__sizeof__', '__str__', '__subclasshook__', 'capitalize', 'casefold', 'center', 'count', 'encode', 'endswith', 'expandtabs', 'find', 'format', 'format_map', 'index', 'isalnum', 'isalpha', 'isascii', 'isdecimal', 'isdigit', 'isidentifier', 'islower', 'isnumeric', 'isprintable', 'isspace', 'istitle', 'isupper', 'join', 'ljust', 'lower', 'lstrip', 'maketrans', 'partition', 'replace', 'rfind', 'rindex', 'rjust', 'rpartition', 'rsplit', 'rstrip', 'split', 'splitlines', 'startswith', 'strip', 'swapcase', 'title', 'translate', 'upper', 'zfill']\n"
     ]
    }
   ],
   "source": [
    "print(dir(str))"
   ]
  },
  {
   "cell_type": "code",
   "execution_count": 6,
   "metadata": {},
   "outputs": [
    {
     "name": "stdout",
     "output_type": "stream",
     "text": [
      "Help on class str in module builtins:\n",
      "\n",
      "class str(object)\n",
      " |  str(object='') -> str\n",
      " |  str(bytes_or_buffer[, encoding[, errors]]) -> str\n",
      " |  \n",
      " |  Create a new string object from the given object. If encoding or\n",
      " |  errors is specified, then the object must expose a data buffer\n",
      " |  that will be decoded using the given encoding and error handler.\n",
      " |  Otherwise, returns the result of object.__str__() (if defined)\n",
      " |  or repr(object).\n",
      " |  encoding defaults to sys.getdefaultencoding().\n",
      " |  errors defaults to 'strict'.\n",
      " |  \n",
      " |  Methods defined here:\n",
      " |  \n",
      " |  __add__(self, value, /)\n",
      " |      Return self+value.\n",
      " |  \n",
      " |  __contains__(self, key, /)\n",
      " |      Return key in self.\n",
      " |  \n",
      " |  __eq__(self, value, /)\n",
      " |      Return self==value.\n",
      " |  \n",
      " |  __format__(self, format_spec, /)\n",
      " |      Return a formatted version of the string as described by format_spec.\n",
      " |  \n",
      " |  __ge__(self, value, /)\n",
      " |      Return self>=value.\n",
      " |  \n",
      " |  __getattribute__(self, name, /)\n",
      " |      Return getattr(self, name).\n",
      " |  \n",
      " |  __getitem__(self, key, /)\n",
      " |      Return self[key].\n",
      " |  \n",
      " |  __getnewargs__(...)\n",
      " |  \n",
      " |  __gt__(self, value, /)\n",
      " |      Return self>value.\n",
      " |  \n",
      " |  __hash__(self, /)\n",
      " |      Return hash(self).\n",
      " |  \n",
      " |  __iter__(self, /)\n",
      " |      Implement iter(self).\n",
      " |  \n",
      " |  __le__(self, value, /)\n",
      " |      Return self<=value.\n",
      " |  \n",
      " |  __len__(self, /)\n",
      " |      Return len(self).\n",
      " |  \n",
      " |  __lt__(self, value, /)\n",
      " |      Return self<value.\n",
      " |  \n",
      " |  __mod__(self, value, /)\n",
      " |      Return self%value.\n",
      " |  \n",
      " |  __mul__(self, value, /)\n",
      " |      Return self*value.\n",
      " |  \n",
      " |  __ne__(self, value, /)\n",
      " |      Return self!=value.\n",
      " |  \n",
      " |  __repr__(self, /)\n",
      " |      Return repr(self).\n",
      " |  \n",
      " |  __rmod__(self, value, /)\n",
      " |      Return value%self.\n",
      " |  \n",
      " |  __rmul__(self, value, /)\n",
      " |      Return value*self.\n",
      " |  \n",
      " |  __sizeof__(self, /)\n",
      " |      Return the size of the string in memory, in bytes.\n",
      " |  \n",
      " |  __str__(self, /)\n",
      " |      Return str(self).\n",
      " |  \n",
      " |  capitalize(self, /)\n",
      " |      Return a capitalized version of the string.\n",
      " |      \n",
      " |      More specifically, make the first character have upper case and the rest lower\n",
      " |      case.\n",
      " |  \n",
      " |  casefold(self, /)\n",
      " |      Return a version of the string suitable for caseless comparisons.\n",
      " |  \n",
      " |  center(self, width, fillchar=' ', /)\n",
      " |      Return a centered string of length width.\n",
      " |      \n",
      " |      Padding is done using the specified fill character (default is a space).\n",
      " |  \n",
      " |  count(...)\n",
      " |      S.count(sub[, start[, end]]) -> int\n",
      " |      \n",
      " |      Return the number of non-overlapping occurrences of substring sub in\n",
      " |      string S[start:end].  Optional arguments start and end are\n",
      " |      interpreted as in slice notation.\n",
      " |  \n",
      " |  encode(self, /, encoding='utf-8', errors='strict')\n",
      " |      Encode the string using the codec registered for encoding.\n",
      " |      \n",
      " |      encoding\n",
      " |        The encoding in which to encode the string.\n",
      " |      errors\n",
      " |        The error handling scheme to use for encoding errors.\n",
      " |        The default is 'strict' meaning that encoding errors raise a\n",
      " |        UnicodeEncodeError.  Other possible values are 'ignore', 'replace' and\n",
      " |        'xmlcharrefreplace' as well as any other name registered with\n",
      " |        codecs.register_error that can handle UnicodeEncodeErrors.\n",
      " |  \n",
      " |  endswith(...)\n",
      " |      S.endswith(suffix[, start[, end]]) -> bool\n",
      " |      \n",
      " |      Return True if S ends with the specified suffix, False otherwise.\n",
      " |      With optional start, test S beginning at that position.\n",
      " |      With optional end, stop comparing S at that position.\n",
      " |      suffix can also be a tuple of strings to try.\n",
      " |  \n",
      " |  expandtabs(self, /, tabsize=8)\n",
      " |      Return a copy where all tab characters are expanded using spaces.\n",
      " |      \n",
      " |      If tabsize is not given, a tab size of 8 characters is assumed.\n",
      " |  \n",
      " |  find(...)\n",
      " |      S.find(sub[, start[, end]]) -> int\n",
      " |      \n",
      " |      Return the lowest index in S where substring sub is found,\n",
      " |      such that sub is contained within S[start:end].  Optional\n",
      " |      arguments start and end are interpreted as in slice notation.\n",
      " |      \n",
      " |      Return -1 on failure.\n",
      " |  \n",
      " |  format(...)\n",
      " |      S.format(*args, **kwargs) -> str\n",
      " |      \n",
      " |      Return a formatted version of S, using substitutions from args and kwargs.\n",
      " |      The substitutions are identified by braces ('{' and '}').\n",
      " |  \n",
      " |  format_map(...)\n",
      " |      S.format_map(mapping) -> str\n",
      " |      \n",
      " |      Return a formatted version of S, using substitutions from mapping.\n",
      " |      The substitutions are identified by braces ('{' and '}').\n",
      " |  \n",
      " |  index(...)\n",
      " |      S.index(sub[, start[, end]]) -> int\n",
      " |      \n",
      " |      Return the lowest index in S where substring sub is found, \n",
      " |      such that sub is contained within S[start:end].  Optional\n",
      " |      arguments start and end are interpreted as in slice notation.\n",
      " |      \n",
      " |      Raises ValueError when the substring is not found.\n",
      " |  \n",
      " |  isalnum(self, /)\n",
      " |      Return True if the string is an alpha-numeric string, False otherwise.\n",
      " |      \n",
      " |      A string is alpha-numeric if all characters in the string are alpha-numeric and\n",
      " |      there is at least one character in the string.\n",
      " |  \n",
      " |  isalpha(self, /)\n",
      " |      Return True if the string is an alphabetic string, False otherwise.\n",
      " |      \n",
      " |      A string is alphabetic if all characters in the string are alphabetic and there\n",
      " |      is at least one character in the string.\n",
      " |  \n",
      " |  isascii(self, /)\n",
      " |      Return True if all characters in the string are ASCII, False otherwise.\n",
      " |      \n",
      " |      ASCII characters have code points in the range U+0000-U+007F.\n",
      " |      Empty string is ASCII too.\n",
      " |  \n",
      " |  isdecimal(self, /)\n",
      " |      Return True if the string is a decimal string, False otherwise.\n",
      " |      \n",
      " |      A string is a decimal string if all characters in the string are decimal and\n",
      " |      there is at least one character in the string.\n",
      " |  \n",
      " |  isdigit(self, /)\n",
      " |      Return True if the string is a digit string, False otherwise.\n",
      " |      \n",
      " |      A string is a digit string if all characters in the string are digits and there\n",
      " |      is at least one character in the string.\n",
      " |  \n",
      " |  isidentifier(self, /)\n",
      " |      Return True if the string is a valid Python identifier, False otherwise.\n",
      " |      \n",
      " |      Use keyword.iskeyword() to test for reserved identifiers such as \"def\" and\n",
      " |      \"class\".\n",
      " |  \n",
      " |  islower(self, /)\n",
      " |      Return True if the string is a lowercase string, False otherwise.\n",
      " |      \n",
      " |      A string is lowercase if all cased characters in the string are lowercase and\n",
      " |      there is at least one cased character in the string.\n",
      " |  \n",
      " |  isnumeric(self, /)\n",
      " |      Return True if the string is a numeric string, False otherwise.\n",
      " |      \n",
      " |      A string is numeric if all characters in the string are numeric and there is at\n",
      " |      least one character in the string.\n",
      " |  \n",
      " |  isprintable(self, /)\n",
      " |      Return True if the string is printable, False otherwise.\n",
      " |      \n",
      " |      A string is printable if all of its characters are considered printable in\n",
      " |      repr() or if it is empty.\n",
      " |  \n",
      " |  isspace(self, /)\n",
      " |      Return True if the string is a whitespace string, False otherwise.\n",
      " |      \n",
      " |      A string is whitespace if all characters in the string are whitespace and there\n",
      " |      is at least one character in the string.\n",
      " |  \n",
      " |  istitle(self, /)\n",
      " |      Return True if the string is a title-cased string, False otherwise.\n",
      " |      \n",
      " |      In a title-cased string, upper- and title-case characters may only\n",
      " |      follow uncased characters and lowercase characters only cased ones.\n",
      " |  \n",
      " |  isupper(self, /)\n",
      " |      Return True if the string is an uppercase string, False otherwise.\n",
      " |      \n",
      " |      A string is uppercase if all cased characters in the string are uppercase and\n",
      " |      there is at least one cased character in the string.\n",
      " |  \n",
      " |  join(self, iterable, /)\n",
      " |      Concatenate any number of strings.\n",
      " |      \n",
      " |      The string whose method is called is inserted in between each given string.\n",
      " |      The result is returned as a new string.\n",
      " |      \n",
      " |      Example: '.'.join(['ab', 'pq', 'rs']) -> 'ab.pq.rs'\n",
      " |  \n",
      " |  ljust(self, width, fillchar=' ', /)\n",
      " |      Return a left-justified string of length width.\n",
      " |      \n",
      " |      Padding is done using the specified fill character (default is a space).\n",
      " |  \n",
      " |  lower(self, /)\n",
      " |      Return a copy of the string converted to lowercase.\n",
      " |  \n",
      " |  lstrip(self, chars=None, /)\n",
      " |      Return a copy of the string with leading whitespace removed.\n",
      " |      \n",
      " |      If chars is given and not None, remove characters in chars instead.\n",
      " |  \n",
      " |  partition(self, sep, /)\n",
      " |      Partition the string into three parts using the given separator.\n",
      " |      \n",
      " |      This will search for the separator in the string.  If the separator is found,\n",
      " |      returns a 3-tuple containing the part before the separator, the separator\n",
      " |      itself, and the part after it.\n",
      " |      \n",
      " |      If the separator is not found, returns a 3-tuple containing the original string\n",
      " |      and two empty strings.\n",
      " |  \n",
      " |  replace(self, old, new, count=-1, /)\n",
      " |      Return a copy with all occurrences of substring old replaced by new.\n",
      " |      \n",
      " |        count\n",
      " |          Maximum number of occurrences to replace.\n",
      " |          -1 (the default value) means replace all occurrences.\n",
      " |      \n",
      " |      If the optional argument count is given, only the first count occurrences are\n",
      " |      replaced.\n",
      " |  \n",
      " |  rfind(...)\n",
      " |      S.rfind(sub[, start[, end]]) -> int\n",
      " |      \n",
      " |      Return the highest index in S where substring sub is found,\n",
      " |      such that sub is contained within S[start:end].  Optional\n",
      " |      arguments start and end are interpreted as in slice notation.\n",
      " |      \n",
      " |      Return -1 on failure.\n",
      " |  \n",
      " |  rindex(...)\n",
      " |      S.rindex(sub[, start[, end]]) -> int\n",
      " |      \n",
      " |      Return the highest index in S where substring sub is found,\n",
      " |      such that sub is contained within S[start:end].  Optional\n",
      " |      arguments start and end are interpreted as in slice notation.\n",
      " |      \n",
      " |      Raises ValueError when the substring is not found.\n",
      " |  \n",
      " |  rjust(self, width, fillchar=' ', /)\n",
      " |      Return a right-justified string of length width.\n",
      " |      \n",
      " |      Padding is done using the specified fill character (default is a space).\n",
      " |  \n",
      " |  rpartition(self, sep, /)\n",
      " |      Partition the string into three parts using the given separator.\n",
      " |      \n",
      " |      This will search for the separator in the string, starting at the end. If\n",
      " |      the separator is found, returns a 3-tuple containing the part before the\n",
      " |      separator, the separator itself, and the part after it.\n",
      " |      \n",
      " |      If the separator is not found, returns a 3-tuple containing two empty strings\n",
      " |      and the original string.\n",
      " |  \n",
      " |  rsplit(self, /, sep=None, maxsplit=-1)\n",
      " |      Return a list of the words in the string, using sep as the delimiter string.\n",
      " |      \n",
      " |        sep\n",
      " |          The delimiter according which to split the string.\n",
      " |          None (the default value) means split according to any whitespace,\n",
      " |          and discard empty strings from the result.\n",
      " |        maxsplit\n",
      " |          Maximum number of splits to do.\n",
      " |          -1 (the default value) means no limit.\n",
      " |      \n",
      " |      Splits are done starting at the end of the string and working to the front.\n",
      " |  \n",
      " |  rstrip(self, chars=None, /)\n",
      " |      Return a copy of the string with trailing whitespace removed.\n",
      " |      \n",
      " |      If chars is given and not None, remove characters in chars instead.\n",
      " |  \n",
      " |  split(self, /, sep=None, maxsplit=-1)\n",
      " |      Return a list of the words in the string, using sep as the delimiter string.\n",
      " |      \n",
      " |      sep\n",
      " |        The delimiter according which to split the string.\n",
      " |        None (the default value) means split according to any whitespace,\n",
      " |        and discard empty strings from the result.\n",
      " |      maxsplit\n",
      " |        Maximum number of splits to do.\n",
      " |        -1 (the default value) means no limit.\n",
      " |  \n",
      " |  splitlines(self, /, keepends=False)\n",
      " |      Return a list of the lines in the string, breaking at line boundaries.\n",
      " |      \n",
      " |      Line breaks are not included in the resulting list unless keepends is given and\n",
      " |      true.\n",
      " |  \n",
      " |  startswith(...)\n",
      " |      S.startswith(prefix[, start[, end]]) -> bool\n",
      " |      \n",
      " |      Return True if S starts with the specified prefix, False otherwise.\n",
      " |      With optional start, test S beginning at that position.\n",
      " |      With optional end, stop comparing S at that position.\n",
      " |      prefix can also be a tuple of strings to try.\n",
      " |  \n",
      " |  strip(self, chars=None, /)\n",
      " |      Return a copy of the string with leading and trailing whitespace remove.\n",
      " |      \n",
      " |      If chars is given and not None, remove characters in chars instead.\n",
      " |  \n",
      " |  swapcase(self, /)\n",
      " |      Convert uppercase characters to lowercase and lowercase characters to uppercase.\n",
      " |  \n",
      " |  title(self, /)\n",
      " |      Return a version of the string where each word is titlecased.\n",
      " |      \n",
      " |      More specifically, words start with uppercased characters and all remaining\n",
      " |      cased characters have lower case.\n",
      " |  \n",
      " |  translate(self, table, /)\n",
      " |      Replace each character in the string using the given translation table.\n",
      " |      \n",
      " |        table\n",
      " |          Translation table, which must be a mapping of Unicode ordinals to\n",
      " |          Unicode ordinals, strings, or None.\n",
      " |      \n",
      " |      The table must implement lookup/indexing via __getitem__, for instance a\n",
      " |      dictionary or list.  If this operation raises LookupError, the character is\n",
      " |      left untouched.  Characters mapped to None are deleted.\n",
      " |  \n",
      " |  upper(self, /)\n",
      " |      Return a copy of the string converted to uppercase.\n",
      " |  \n",
      " |  zfill(self, width, /)\n",
      " |      Pad a numeric string with zeros on the left, to fill a field of the given width.\n",
      " |      \n",
      " |      The string is never truncated.\n",
      " |  \n",
      " |  ----------------------------------------------------------------------\n",
      " |  Static methods defined here:\n",
      " |  \n",
      " |  __new__(*args, **kwargs) from builtins.type\n",
      " |      Create and return a new object.  See help(type) for accurate signature.\n",
      " |  \n",
      " |  maketrans(x, y=None, z=None, /)\n",
      " |      Return a translation table usable for str.translate().\n",
      " |      \n",
      " |      If there is only one argument, it must be a dictionary mapping Unicode\n",
      " |      ordinals (integers) or characters to Unicode ordinals, strings or None.\n",
      " |      Character keys will be then converted to ordinals.\n",
      " |      If there are two arguments, they must be strings of equal length, and\n",
      " |      in the resulting dictionary, each character in x will be mapped to the\n",
      " |      character at the same position in y. If there is a third argument, it\n",
      " |      must be a string, whose characters will be mapped to None in the result.\n",
      "\n"
     ]
    }
   ],
   "source": [
    "help(str)"
   ]
  },
  {
   "cell_type": "markdown",
   "metadata": {},
   "source": [
    "##### pour avoir de l'aide sur ce que fait  la fonction `len` ou la méthode `join` par exemple"
   ]
  },
  {
   "cell_type": "code",
   "execution_count": 7,
   "metadata": {
    "scrolled": true
   },
   "outputs": [
    {
     "name": "stdout",
     "output_type": "stream",
     "text": [
      "Help on wrapper_descriptor:\n",
      "\n",
      "__len__(self, /)\n",
      "    Return len(self).\n",
      "\n"
     ]
    }
   ],
   "source": [
    "help(str.__len__)"
   ]
  },
  {
   "cell_type": "code",
   "execution_count": 8,
   "metadata": {},
   "outputs": [
    {
     "name": "stdout",
     "output_type": "stream",
     "text": [
      "Help on method_descriptor:\n",
      "\n",
      "join(self, iterable, /)\n",
      "    Concatenate any number of strings.\n",
      "    \n",
      "    The string whose method is called is inserted in between each given string.\n",
      "    The result is returned as a new string.\n",
      "    \n",
      "    Example: '.'.join(['ab', 'pq', 'rs']) -> 'ab.pq.rs'\n",
      "\n"
     ]
    }
   ],
   "source": [
    "help(str.join)"
   ]
  },
  {
   "cell_type": "markdown",
   "metadata": {},
   "source": [
    "> **Execice**  \n",
    "> faire la même chose que précédemment avec les types:   \n",
    "> `int` `float` `list` `tuple` `dict` `set`"
   ]
  },
  {
   "cell_type": "markdown",
   "metadata": {
    "slideshow": {
     "slide_type": "slide"
    }
   },
   "source": [
    "# Chaînes de caractères\n",
    "\n",
    "Pour le traitement de données textuelles, python utilise les chaînes de caractères.\n",
    "\n",
    "Il existe plusieurs façons de définir une chaîne de caractères.\n",
    "\n",
    "Pour délimiter le texte on utilise des guillemets (double-quote) ou des apostrophes (single-quote)"
   ]
  },
  {
   "cell_type": "code",
   "execution_count": null,
   "metadata": {},
   "outputs": [],
   "source": [
    "mois1 = 'janvier'\n",
    "mois2 = \"février\"\n",
    "print(mois1, mois2)"
   ]
  },
  {
   "cell_type": "markdown",
   "metadata": {
    "slideshow": {
     "slide_type": "subslide"
    }
   },
   "source": [
    "Les deux formes sont très utiles car elles permettent d'utiliser des guillemets ou des apostrophes dans des chaîne de caractères de manière simple."
   ]
  },
  {
   "cell_type": "code",
   "execution_count": null,
   "metadata": {},
   "outputs": [],
   "source": [
    "arbre = \"l'olivier\"\n",
    "print(arbre)\n",
    "cuisson_pates = \"huit minutes (8')\"\n",
    "print(cuisson_pates)\n",
    "record_100m = 'neuf secondes et 58 dixièmes (9\"58)'\n",
    "print(record_100m)"
   ]
  },
  {
   "cell_type": "markdown",
   "metadata": {},
   "source": [
    "Sinon, pour avoir une apostrophe ou un guillemet dans une chaîne de caractères, il faut le faire précéder d'un ``\\`` (backslash). Ce qui est beaucoup moins lisible, mais parfois obligatoire (par exemple une chaîne avec à la fois des guillemets et des apostrophes)."
   ]
  },
  {
   "cell_type": "code",
   "execution_count": null,
   "metadata": {},
   "outputs": [],
   "source": [
    "arbre = 'l\\'alisier'\n",
    "pates = '8\\''\n",
    "record = \"9\\\"58\"\n",
    "print(arbre, pates, record)\n",
    "duel = 'guillemet: \" et apostrophes: \\' peuvent être utilisés dans une même chaîne...'\n",
    "print(duel)\n",
    "multi = '''Dans une \"triplequoted\" (voire plus loin), on peut (presque) tout utiliser: `\"“ ”,'\"«»'\"' et ça ne pose pas de problème...'''\n",
    "print(multi)"
   ]
  },
  {
   "cell_type": "markdown",
   "metadata": {},
   "source": [
    "### Séquence de caractères"
   ]
  },
  {
   "cell_type": "markdown",
   "metadata": {},
   "source": [
    "Une chaîne 1 est indicée depuis 0.\n",
    "Par exemple, l’extraction du 4ème caractère de la chaîne"
   ]
  },
  {
   "cell_type": "code",
   "execution_count": 9,
   "metadata": {},
   "outputs": [
    {
     "data": {
      "text/plain": [
       "'j'"
      ]
     },
     "execution_count": 9,
     "metadata": {},
     "output_type": "execute_result"
    }
   ],
   "source": [
    " A = 'Bonjour'; B=A[3]; B"
   ]
  },
  {
   "cell_type": "markdown",
   "metadata": {},
   "source": [
    "Un indiçage négatif comptera depuis la droite"
   ]
  },
  {
   "cell_type": "code",
   "execution_count": 10,
   "metadata": {},
   "outputs": [
    {
     "data": {
      "text/plain": [
       "'u'"
      ]
     },
     "execution_count": 10,
     "metadata": {},
     "output_type": "execute_result"
    }
   ],
   "source": [
    "A[-2]"
   ]
  },
  {
   "cell_type": "markdown",
   "metadata": {},
   "source": [
    "**Slicing**"
   ]
  },
  {
   "cell_type": "code",
   "execution_count": null,
   "metadata": {},
   "outputs": [],
   "source": [
    "(A[3 :5],\n",
    "A[0 :5],\n",
    "A[ :5],\n",
    "A[3 :])"
   ]
  },
  {
   "cell_type": "markdown",
   "metadata": {},
   "source": [
    "**Les chaînes de caractères sont non mutables**"
   ]
  },
  {
   "cell_type": "markdown",
   "metadata": {
    "slideshow": {
     "slide_type": "subslide"
    }
   },
   "source": [
    "Les chaînes de caractères sont considérées comme des séquences non mutables et l'on peut les manipuler comme telles."
   ]
  },
  {
   "cell_type": "code",
   "execution_count": 11,
   "metadata": {},
   "outputs": [
    {
     "ename": "TypeError",
     "evalue": "'str' object does not support item assignment",
     "output_type": "error",
     "traceback": [
      "\u001b[0;31m---------------------------------------------------------------------------\u001b[0m",
      "\u001b[0;31mTypeError\u001b[0m                                 Traceback (most recent call last)",
      "\u001b[0;32m<ipython-input-11-8ed2c83f12cc>\u001b[0m in \u001b[0;36m<module>\u001b[0;34m\u001b[0m\n\u001b[1;32m      1\u001b[0m \u001b[0;31m# Cette cellule génère une erreur\u001b[0m\u001b[0;34m\u001b[0m\u001b[0;34m\u001b[0m\u001b[0;34m\u001b[0m\u001b[0m\n\u001b[1;32m      2\u001b[0m \u001b[0mnon_mutable\u001b[0m \u001b[0;34m=\u001b[0m \u001b[0;34m'abcdefgh'\u001b[0m\u001b[0;34m\u001b[0m\u001b[0;34m\u001b[0m\u001b[0m\n\u001b[0;32m----> 3\u001b[0;31m \u001b[0mnon_mutable\u001b[0m\u001b[0;34m[\u001b[0m\u001b[0;36m3\u001b[0m\u001b[0;34m]\u001b[0m \u001b[0;34m=\u001b[0m \u001b[0;34m'D'\u001b[0m\u001b[0;34m\u001b[0m\u001b[0;34m\u001b[0m\u001b[0m\n\u001b[0m",
      "\u001b[0;31mTypeError\u001b[0m: 'str' object does not support item assignment"
     ]
    }
   ],
   "source": [
    "# Cette cellule génère une erreur\n",
    "non_mutable = 'abcdefgh'\n",
    "non_mutable[3] = 'D'"
   ]
  },
  {
   "cell_type": "markdown",
   "metadata": {},
   "source": [
    "Il faut construire une nouvelle chaîne de caractère. En concaténant des morceaux (slices) de la chaîne originale:"
   ]
  },
  {
   "cell_type": "code",
   "execution_count": 12,
   "metadata": {},
   "outputs": [
    {
     "name": "stdout",
     "output_type": "stream",
     "text": [
      "abcDefgh\n"
     ]
    }
   ],
   "source": [
    "nouvelle_chaine = non_mutable[:3] + 'D' + non_mutable[4:]\n",
    "print(nouvelle_chaine)"
   ]
  },
  {
   "cell_type": "markdown",
   "metadata": {
    "slideshow": {
     "slide_type": "subslide"
    }
   },
   "source": [
    "Ou alors en utilisant une transformation en liste, puis a nouveau en chaîne:"
   ]
  },
  {
   "cell_type": "code",
   "execution_count": 13,
   "metadata": {},
   "outputs": [
    {
     "name": "stdout",
     "output_type": "stream",
     "text": [
      "abcDefgh\n"
     ]
    }
   ],
   "source": [
    "a = list(non_mutable)\n",
    "a[3] = 'D'\n",
    "print(''.join(a))"
   ]
  },
  {
   "cell_type": "markdown",
   "metadata": {},
   "source": [
    "On peut savoir si une chaîne se trouve dans une autre"
   ]
  },
  {
   "cell_type": "code",
   "execution_count": 14,
   "metadata": {},
   "outputs": [
    {
     "name": "stdout",
     "output_type": "stream",
     "text": [
      "True\n",
      "False\n",
      "True\n"
     ]
    }
   ],
   "source": [
    "print('123' in 'azerty_123_uiop')\n",
    "print('AZE' in 'azerty_123_uiop')\n",
    "print('aze' in 'azerty_123_uiop')"
   ]
  },
  {
   "cell_type": "markdown",
   "metadata": {},
   "source": [
    "La longueur d'une chaîne s'obtient avec [``len()``](https://docs.python.org/3/library/functions.html#len)."
   ]
  },
  {
   "cell_type": "code",
   "execution_count": 15,
   "metadata": {},
   "outputs": [
    {
     "name": "stdout",
     "output_type": "stream",
     "text": [
      "8\n"
     ]
    }
   ],
   "source": [
    "print(len(non_mutable))"
   ]
  },
  {
   "cell_type": "markdown",
   "metadata": {
    "slideshow": {
     "slide_type": "subslide"
    }
   },
   "source": [
    "> **Exercice**, dans la cellule ci-dessous:\n",
    "> 1. **Insérez** le caractère '#' au milieu de la chaîne donnée.\n",
    "> 2. Idem mais **coupez** la chaine en 3 parties, et insérez le caractère '@' entre chacune d'elles.\n",
    "> 3. **Insérez** le caractère '|' entre chaque caractère de la chaîne."
   ]
  },
  {
   "cell_type": "markdown",
   "metadata": {
    "slideshow": {
     "slide_type": "subslide"
    }
   },
   "source": [
    "### Caractères spéciaux \n",
    "\n",
    "Il est possible de définir des chaînes de caractères qui contiennent des caractères spéciaux. Ils sont introduits par des séquences de deux caractères dont le premier est un \\ (backslash). On l'appelle le caractère d'échappement.\n",
    "\n",
    "- retour à la ligne : ``\\n``\n",
    "- tabulation : ``\\t``\n",
    "- backslash : ``\\\\``\n",
    "- un caractère unicode avec son code : ``\\uXXXX`` (où les ``XXXX`` sont le code hexadécimal représentant ce caractère)\n",
    "\n",
    "Plus d'information dans la [documentation officielle](https://docs.python.org/3/tutorial/introduction.html#strings)"
   ]
  },
  {
   "cell_type": "code",
   "execution_count": null,
   "metadata": {},
   "outputs": [],
   "source": [
    "print(\"Une belle présentation, c'est:\")\n",
    "print('\\t- bien ordonné')\n",
    "print('\\t- aligné')\n",
    "print(\"\\t- m\\u00EAme s'il y en a plein\\nEt c'est plus joli.\")"
   ]
  },
  {
   "cell_type": "markdown",
   "metadata": {
    "slideshow": {
     "slide_type": "subslide"
    }
   },
   "source": [
    "### Chaînes multilignes \n",
    "\n",
    "Pour écrire plusieurs lignes d'une façon plus lisible, il existe les chaînes multilignes :"
   ]
  },
  {
   "cell_type": "code",
   "execution_count": null,
   "metadata": {},
   "outputs": [],
   "source": [
    "# L'équivalent est :\n",
    "print('''\\\n",
    "Une belle présentation, c'est:\n",
    "\\t- bien ordonné\n",
    "\\t- aligné\n",
    "\\t- même s'il y en a plein\n",
    "Et c'est plus joli.''')"
   ]
  },
  {
   "cell_type": "markdown",
   "metadata": {},
   "source": [
    "> **Exercice** : enlevez le caractère \\ de la 2ème ligne dans la cellule ci-dessus, et comparez le résultat à celui de la cellule de code précédente (3 cellules plus haut)"
   ]
  },
  {
   "cell_type": "markdown",
   "metadata": {
    "slideshow": {
     "slide_type": "subslide"
    }
   },
   "source": [
    "Les deux formes de délimiteurs sont aussi utilisables : guillemets triples ou apostrophes triples."
   ]
  },
  {
   "cell_type": "code",
   "execution_count": null,
   "metadata": {},
   "outputs": [],
   "source": [
    "multi1 = '''m\n",
    "a\n",
    "r\n",
    "s est un mois \"multiligne\"'''\n",
    "print(multi1, '\\n')\n",
    "\n",
    "multi2 = \"\"\"a\n",
    "v\n",
    "r\n",
    "i\n",
    "l l'est aussi\"\"\"\n",
    "print(multi2)"
   ]
  },
  {
   "cell_type": "markdown",
   "metadata": {
    "slideshow": {
     "slide_type": "subslide"
    }
   },
   "source": [
    "### Unicode\n",
    "\n",
    "En python 3 , toutes les chaînes de caractères sont unicode, et permettent d'utiliser des alphabets différents, des caractères accentués ou des pictogrammes, etc.\n",
    "\n",
    "Exemples de caractères spéciaux :"
   ]
  },
  {
   "cell_type": "code",
   "execution_count": null,
   "metadata": {},
   "outputs": [],
   "source": [
    "unicode_str = \"Les échecs (♔♕♖♗♘♙), c'est \\u263A\"\n",
    "print(unicode_str)\n",
    "japanese_str = 'Du japonais : ウェブ'\n",
    "print(japanese_str)\n",
    "mix_str = '你好 kollha दुनिया'\n",
    "print('\"' + mix_str + '\"', 'veut dire: \"bonjour tout le monde\"')"
   ]
  },
  {
   "cell_type": "markdown",
   "metadata": {},
   "source": [
    "Pour une liste de caractères unicode, voir [ici](https://en.wikipedia.org/wiki/List_of_Unicode_characters)."
   ]
  },
  {
   "cell_type": "markdown",
   "metadata": {
    "slideshow": {
     "slide_type": "subslide"
    }
   },
   "source": [
    "### Chaînes spéciales\n",
    "\n",
    "Il existe d'autres manières plus spécialisées de définir des chaînes de caractères.\n",
    "\n",
    "Premièrement, des chaînes dans lesquelles les séquences d'échappement ne sont pas remplacées (raw strings = chaînes brutes): ``r'...'``, ``r'''...'''``, etc."
   ]
  },
  {
   "cell_type": "code",
   "execution_count": 16,
   "metadata": {},
   "outputs": [
    {
     "name": "stdout",
     "output_type": "stream",
     "text": [
      "chaîne normale: \n",
      " \\n est un retour à la ligne, \t et \\t est une tabulation\n",
      "chaîne RAW: \\n n'est pas un retour à la ligne, \\t n'est pas une tabulation\n"
     ]
    }
   ],
   "source": [
    "normal_str = \"chaîne normale: \\n \\\\n est un retour à la ligne, \\t et \\\\t est une tabulation\"\n",
    "print(normal_str)\n",
    "\n",
    "raw_str = r\"chaîne RAW: \\n n'est pas un retour à la ligne, \\t n'est pas une tabulation\"\n",
    "print(raw_str)"
   ]
  },
  {
   "cell_type": "markdown",
   "metadata": {
    "slideshow": {
     "slide_type": "subslide"
    }
   },
   "source": [
    "Plusieurs chaînes de caractères contigües sont rassemblées (concaténées)"
   ]
  },
  {
   "cell_type": "code",
   "execution_count": 17,
   "metadata": {},
   "outputs": [
    {
     "name": "stdout",
     "output_type": "stream",
     "text": [
      "azerty\n"
     ]
    }
   ],
   "source": [
    "b = 'a' 'z' 'e' 'r' 't' 'y'\n",
    "print(b)"
   ]
  },
  {
   "cell_type": "markdown",
   "metadata": {},
   "source": [
    "On peut mélanger les genres."
   ]
  },
  {
   "cell_type": "code",
   "execution_count": null,
   "metadata": {},
   "outputs": [],
   "source": [
    "a = 'une chaine ' u\"qui est \" r'''la somme de ''' \"\"\"plusieurs morceaux...\"\"\"\n",
    "print(a)"
   ]
  },
  {
   "cell_type": "markdown",
   "metadata": {
    "slideshow": {
     "slide_type": "subslide"
    }
   },
   "source": [
    "On peut utiliser la fonction ``str()`` pour créer une chaîne de caractère à partir d'autres objets."
   ]
  },
  {
   "cell_type": "code",
   "execution_count": null,
   "metadata": {},
   "outputs": [],
   "source": [
    "a = 23\n",
    "ch_a = str(a)\n",
    "print(type(a), a)\n",
    "print(type(ch_a), repr(ch_a))\n",
    "a = 3.14\n",
    "ch_a = str(a)\n",
    "print(type(a), a)\n",
    "print(type(ch_a), repr(ch_a))"
   ]
  },
  {
   "cell_type": "markdown",
   "metadata": {
    "slideshow": {
     "slide_type": "subslide"
    }
   },
   "source": [
    "On ne peut pas mélanger les guillemets et les apostrophes pour délimiter une chaîne de caractères."
   ]
  },
  {
   "cell_type": "code",
   "execution_count": null,
   "metadata": {},
   "outputs": [],
   "source": [
    "# Cette cellule génère une erreur\n",
    "a = \"azerty'"
   ]
  },
  {
   "cell_type": "code",
   "execution_count": null,
   "metadata": {},
   "outputs": [],
   "source": [
    "# Cette cellule génère une erreur\n",
    "a = 'azerty\""
   ]
  },
  {
   "cell_type": "markdown",
   "metadata": {},
   "source": [
    "> **Exercice** : corrigez les deux cellules ci dessus."
   ]
  },
  {
   "cell_type": "markdown",
   "metadata": {
    "slideshow": {
     "slide_type": "subslide"
    }
   },
   "source": [
    "## Formatage \n",
    "\n",
    "On peut formater du texte, c'est à dire utiliser une chaîne de caractères qui va servir de modèle pour en fabriquer d'autres. Il y a plusieurs manières de faire cela.\n",
    "\n",
    "### Méthode format()\n",
    "\n",
    "On utilise la méthode [``format()``](https://docs.python.org/3/library/stdtypes.html#str.format) d'une chaîne de caractères qui va remplacer les occurences de ``'{}'`` par des valeurs qu'on lui spécifie en paramètre. Le type des valeurs passées n'est pas important, une représentation sous forme de chaîne de caractère sera automatiquement créée, avec la fonction [``str()``](https://docs.python.org/3/library/functions.html#func-str).\n",
    "\n",
    "   "
   ]
  },
  {
   "cell_type": "code",
   "execution_count": null,
   "metadata": {},
   "outputs": [],
   "source": [
    "help(str.__format__)"
   ]
  },
  {
   "cell_type": "code",
   "execution_count": null,
   "metadata": {
    "slideshow": {
     "slide_type": "subslide"
    }
   },
   "outputs": [],
   "source": [
    " 'Bonjour {} !'.format('le monde')"
   ]
  },
  {
   "cell_type": "code",
   "execution_count": null,
   "metadata": {},
   "outputs": [],
   "source": [
    "variable_1 = 27\n",
    "variable_2 = 'vingt huit'\n",
    "ch_modele = 'Une chaine qui contient un {} ou de multiples ici {} et là {}'\n",
    "ch_modele.format('toto', variable_1, variable_2) "
   ]
  },
  {
   "cell_type": "markdown",
   "metadata": {
    "slideshow": {
     "slide_type": "subslide"
    }
   },
   "source": [
    "### Opérateur %\n",
    "\n",
    "On peut aussi formater du texte avec [l'opérateur ``%``](https://docs.python.org/3/library/stdtypes.html#printf-style-string-formatting). Il va analyser la chaîne à la recherche de caractères '%' et remplacer les marqueurs par le contenu de variables.(similarité avec le *langage C* puisque *Python* est ecrit en C!)\n",
    "\n",
    "Les marqueurs sont donc l'association d'un caractère '%' avec une sequence de caractères décrivant le type de la donnée à intégrer et la manière de formater sa représentation.\n",
    "\n",
    "- %d pour des entiers\n",
    "- %s pour des chaînes de caractères\n",
    "- %f pour des nombres flottants\n",
    "- %x pour un nombre entier affiché en base hexadécimale\n",
    "- %o pour un nombre entier affiché en base octale\n",
    "- %e pour un nombre affiché en notation exponentielle"
   ]
  },
  {
   "cell_type": "code",
   "execution_count": 18,
   "metadata": {},
   "outputs": [
    {
     "name": "stdout",
     "output_type": "stream",
     "text": [
      "un nombre : 27, une chaîne : canal+, un flottant avec une précision spécifiée : 3.14\n",
      "fe, ff, 100, 101\n",
      "376, 377, 400, 401\n",
      "1.844674e+19\n"
     ]
    }
   ],
   "source": [
    "import math\n",
    "a = 27\n",
    "print('un nombre : %d, une chaîne : %s, un flottant avec une précision spécifiée : %.02f' % (a, 'canal+', math.pi))\n",
    "print('%x, %x, %x, %x' % (254, 255, 256, 257))\n",
    "print('%o, %o, %o, %o' % (254, 255, 256, 257))\n",
    "print('%e' % 2**64)"
   ]
  },
  {
   "cell_type": "markdown",
   "metadata": {
    "slideshow": {
     "slide_type": "subslide"
    }
   },
   "source": [
    "> **Attention**: Si le type de la donnée passée ne correspond pas à la séquence de formatage > (%<qqchose>) python va remonter une erreur."
   ]
  },
  {
   "cell_type": "code",
   "execution_count": null,
   "metadata": {},
   "outputs": [],
   "source": [
    "# Cette cellule génère une erreur\n",
    "variable_3 = 'une chaine de caracteres'\n",
    "# Exemple d'erreur de type: il faut un entier, on a une chaîne de caractères\n",
    "print('on veut un entier : %d' % variable_3)"
   ]
  },
  {
   "cell_type": "markdown",
   "metadata": {
    "slideshow": {
     "slide_type": "subslide"
    }
   },
   "source": [
    "On peut se servir de cette fonctionnalité pour tabuler du texte de taille variable."
   ]
  },
  {
   "cell_type": "code",
   "execution_count": 19,
   "metadata": {},
   "outputs": [
    {
     "name": "stdout",
     "output_type": "stream",
     "text": [
      "\n",
      "Alignons a droite les animaux:\n",
      "Un animal :      ane.\n",
      "Un animal :  becasse.\n",
      "Un animal :               chat, qui se croit plus malin que les autres.\n",
      "Un animal :    dinde.\n",
      "Un animal : elephant.\n"
     ]
    }
   ],
   "source": [
    "ani_mots = ('ane', 'becasse', 'chat', 'dinde', 'elephant')\n",
    "print('''\n",
    "Alignons a droite les animaux:\n",
    "Un animal : %08s.\n",
    "Un animal : %08s.\n",
    "Un animal : %18s, qui se croit plus malin que les autres.\n",
    "Un animal : %08s.\n",
    "Un animal : %08s.''' % ani_mots)"
   ]
  },
  {
   "cell_type": "markdown",
   "metadata": {},
   "source": [
    "> **Exercice** : remettez le chat à sa place."
   ]
  },
  {
   "cell_type": "markdown",
   "metadata": {},
   "source": [
    "Pour plus d'informations sur le formatage de chaînes de caractères, voir [ici](https://docs.python.org/3/library/stdtypes.html#string-formatting-operations) et pour la méthode ``.format()`` qui tend à remplacer l'utilisation de l'opérateur ``%``, voir [là](https://docs.python.org/3/library/string.html#formatstrings)."
   ]
  },
  {
   "cell_type": "markdown",
   "metadata": {
    "slideshow": {
     "slide_type": "slide"
    }
   },
   "source": [
    "# Listes\n",
    "\n",
    "Une liste est un objet pouvant contenir d'autres objets. Ces objets sont placés à l'intérieur de façon séquentielle, les uns à la suite des autres. C'est un conteneur dynamique qui peut accueillir de nouveaux éléments ou pouvant rétrécir si on en supprimme.\n",
    "\n",
    "On crée un liste en délimitant par des crochets ``[]`` les éléments qui le composent :"
   ]
  },
  {
   "cell_type": "code",
   "execution_count": null,
   "metadata": {},
   "outputs": [],
   "source": [
    "L = ['egg', 'spam', 'spam', 'spam', 'bacon']\n",
    "print(L, 'est de type', type(L))"
   ]
  },
  {
   "cell_type": "markdown",
   "metadata": {
    "slideshow": {
     "slide_type": "fragment"
    }
   },
   "source": [
    "Une liste peut contenir n'importe quel type d'objets."
   ]
  },
  {
   "cell_type": "code",
   "execution_count": 20,
   "metadata": {},
   "outputs": [
    {
     "name": "stdout",
     "output_type": "stream",
     "text": [
      "[1, 2] []\n",
      "[None, True, False, 0, 1, 18446744073709551616, 3.14, '', 1j, 'abc']\n",
      "[[1, 'azerty'], [1, 2]]\n"
     ]
    }
   ],
   "source": [
    "L0 = [1, 2]\n",
    "L2 = [None, True, False, 0, 1, 2**64, 3.14, '', 0+1j, 'abc']\n",
    "L1 = []\n",
    "L3 = [[1, 'azerty'], L0]\n",
    "print(L0, L1)\n",
    "print(L2)\n",
    "print(L3)"
   ]
  },
  {
   "cell_type": "markdown",
   "metadata": {
    "slideshow": {
     "slide_type": "subslide"
    }
   },
   "source": [
    "On peut utiliser la fonction [``list()``](https://docs.python.org/3/library/functions.html#func-list) pour créer une liste a partir d'autres séquences ou objets."
   ]
  },
  {
   "cell_type": "code",
   "execution_count": 21,
   "metadata": {},
   "outputs": [
    {
     "name": "stdout",
     "output_type": "stream",
     "text": [
      "[]\n",
      "['b', 'z', 'z', 'z', 'z', 'z', 't']\n"
     ]
    }
   ],
   "source": [
    "a = list()\n",
    "b = list('bzzzzzt')\n",
    "print(a)\n",
    "print(b)"
   ]
  },
  {
   "cell_type": "markdown",
   "metadata": {
    "slideshow": {
     "slide_type": "fragment"
    }
   },
   "source": [
    "On accède aux éléments d'une liste grâce à un indice. Le premier élément est **indicé 0.**"
   ]
  },
  {
   "cell_type": "code",
   "execution_count": null,
   "metadata": {},
   "outputs": [],
   "source": [
    "print(L[0])\n",
    "print(L[4])"
   ]
  },
  {
   "cell_type": "markdown",
   "metadata": {
    "slideshow": {
     "slide_type": "fragment"
    }
   },
   "source": [
    "Un dépassement d'indice produit une erreur :"
   ]
  },
  {
   "cell_type": "code",
   "execution_count": null,
   "metadata": {},
   "outputs": [],
   "source": [
    "# Cette cellule génère une erreur\n",
    "print(L[10])"
   ]
  },
  {
   "cell_type": "markdown",
   "metadata": {
    "slideshow": {
     "slide_type": "subslide"
    }
   },
   "source": [
    "Les listes sont dites *mutables* : je peux modifier la séquence de ces éléments."
   ]
  },
  {
   "cell_type": "markdown",
   "metadata": {
    "slideshow": {
     "slide_type": "fragment"
    }
   },
   "source": [
    "Je remplace le deuxième élément :"
   ]
  },
  {
   "cell_type": "code",
   "execution_count": null,
   "metadata": {},
   "outputs": [],
   "source": [
    "L[1] = 'tomatoes'\n",
    "print(L)\n",
    "L[3] = 9\n",
    "print(L)"
   ]
  },
  {
   "cell_type": "markdown",
   "metadata": {
    "slideshow": {
     "slide_type": "subslide"
    }
   },
   "source": [
    "### Méthodes associées aux listes\n",
    "\n",
    "#### Méthodes ne modifiant pas la liste\n",
    "\n",
    "- La longueur d'une liste est donnée par fonction [``len()``](https://docs.python.org/3/library/functions.html#len)\n",
    "- ``L.index(elem)``: renvoie l'indice de l'élément ``elem`` (**Attention** uniquement le 1er rencontré)\n",
    "\n",
    "#### Méthodes modifiant la liste\n",
    "- ``L.append()`` : ajouter un élément à la fin\n",
    "- ``L.pop()`` : renvoie le dernier élément et le retire de la liste\n",
    "- ``L.sort()`` : trier\n",
    "- ``L.reverse()`` : inverser\n",
    "\n",
    "Plus d'infos [ici](https://docs.python.org/3/library/stdtypes.html#typesseq-mutable)."
   ]
  },
  {
   "cell_type": "code",
   "execution_count": null,
   "metadata": {},
   "outputs": [],
   "source": [
    "L = ['egg', 'spam', 'spam', 'spam', 'bacon']\n",
    "print('len() renvoie:', len(L))\n",
    "L.append('spam') # Ne renvoie pas de valeur\n",
    "print('Après append():', L)\n",
    "print('pop() renvoie:', L.pop())\n",
    "print('Après pop():', L)\n",
    "L.reverse() # Ne renvoie pas de valeur\n",
    "print('Après reverse():', L)\n",
    "print('index() renvoie:', L.index('egg'))\n",
    "L.remove('spam') # Ne renvoie pas de valeur\n",
    "print('Après remove:', L)"
   ]
  },
  {
   "cell_type": "markdown",
   "metadata": {
    "slideshow": {
     "slide_type": "subslide"
    }
   },
   "source": [
    "Pour obtenir la liste des méthodes associées aux listes, on peut utiliser la fonction interne [``help()``](https://docs.python.org/3/library/functions.html#help) :"
   ]
  },
  {
   "cell_type": "code",
   "execution_count": null,
   "metadata": {},
   "outputs": [],
   "source": [
    "help(list) # ou aussi help([])"
   ]
  },
  {
   "cell_type": "markdown",
   "metadata": {
    "slideshow": {
     "slide_type": "subslide"
    }
   },
   "source": [
    "On peut créer facilement des listes répétitives grâce a l'opération de multiplication."
   ]
  },
  {
   "cell_type": "code",
   "execution_count": null,
   "metadata": {},
   "outputs": [],
   "source": [
    "a = ['a', 1] * 5\n",
    "print(a)"
   ]
  },
  {
   "cell_type": "markdown",
   "metadata": {},
   "source": [
    "Mais on ne peut pas 'diviser' une liste."
   ]
  },
  {
   "cell_type": "code",
   "execution_count": null,
   "metadata": {},
   "outputs": [],
   "source": [
    "# Cette cellule génère une erreur\n",
    "a = [1, 2, 3, 4]\n",
    "print(a / 2)"
   ]
  },
  {
   "cell_type": "markdown",
   "metadata": {
    "slideshow": {
     "slide_type": "subslide"
    }
   },
   "source": [
    "> **Exercice :** Manipulez la liste ``L`` ci-dessous avec les méthodes associées aux listes."
   ]
  },
  {
   "cell_type": "code",
   "execution_count": null,
   "metadata": {},
   "outputs": [],
   "source": [
    "L = ['egg', 'spam', 'spam', 'spam', 'bacon']\n",
    "# Votre code ci-dessous"
   ]
  },
  {
   "cell_type": "markdown",
   "metadata": {},
   "source": [
    "Vous trouverez la documentation complète sur les listes [ici](https://docs.python.org/3/library/stdtypes.html#mutable-sequence-types)."
   ]
  },
  {
   "cell_type": "markdown",
   "metadata": {
    "slideshow": {
     "slide_type": "slide"
    }
   },
   "source": [
    "## Tuples\n",
    "\n",
    "Les Tuples (ou n-uplets en Français) sont des séquences non mutables. On ne peut plus les modifier après leur création.\n",
    "\n",
    "On les initialise ainsi :"
   ]
  },
  {
   "cell_type": "code",
   "execution_count": null,
   "metadata": {},
   "outputs": [],
   "source": [
    "T = ('a', 'b', 'c')\n",
    "print(T, 'est de type', type(T))\n",
    "T = 'a', 'b', 'c'  # une autre façon, en ommettant les parenthèses\n",
    "print(T, 'est de type', type(T))\n",
    "T = tuple(['a', 'b', 'c'])  # à partir d'une liste\n",
    "print(T, 'est de type', type(T))\n",
    "T = ('a')  # ceci n'est pas un tuple\n",
    "print(T, 'est de type', type(T))\n",
    "T = ('a',)  # Syntaxe pour initialiser un tuple contenant un seul élément\n",
    "print(T, 'est de type', type(T))\n",
    "T = 'a',  # Syntaxe alternative pour initialiser un tuple contenant un seul élément. Préférez celle avec parenthèses.\n",
    "print(T, 'est de type', type(T))"
   ]
  },
  {
   "cell_type": "markdown",
   "metadata": {
    "slideshow": {
     "slide_type": "subslide"
    }
   },
   "source": [
    "\n",
    "Un tuple est dit *non-mutable* : on ne peut pas en modifier la séquence."
   ]
  },
  {
   "cell_type": "code",
   "execution_count": null,
   "metadata": {},
   "outputs": [],
   "source": [
    "T = ('a', 'b', 'c')\n",
    "print(T[1]) # On peut utiliser un élément"
   ]
  },
  {
   "cell_type": "code",
   "execution_count": null,
   "metadata": {},
   "outputs": [],
   "source": [
    "# Cette cellule génère une erreur\n",
    "T[1] = 'z'  # mais pas le modifier"
   ]
  },
  {
   "cell_type": "markdown",
   "metadata": {
    "slideshow": {
     "slide_type": "subslide"
    }
   },
   "source": [
    "Intérêt des tuples par rapport aux listes :\n",
    "- plus rapide à parcourir que les listes\n",
    "- non mutables donc 'protégés'\n",
    "- peuvent être utilisés comme clé de dictionnaires (cf. plus loin)"
   ]
  },
  {
   "cell_type": "markdown",
   "metadata": {},
   "source": [
    "On peut créer des tuples a partir d'autres séquences ou objets grâce à la fonction [``tuple()``](https://docs.python.org/3/library/functions.html#func-tuple)."
   ]
  },
  {
   "cell_type": "code",
   "execution_count": null,
   "metadata": {},
   "outputs": [],
   "source": [
    "a = [1, 2, 3, 'toto']\n",
    "print(type(a), a)\n",
    "b = tuple(a)\n",
    "print(type(b), b)\n",
    "a = 'azerty'\n",
    "print(type(a), a)\n",
    "b = tuple(a)\n",
    "print(type(b), b)"
   ]
  },
  {
   "cell_type": "markdown",
   "metadata": {
    "slideshow": {
     "slide_type": "subslide"
    }
   },
   "source": [
    "### Manipulation des tuples\n",
    "\n",
    "Construire d'autres tuples par concaténation et multiplication"
   ]
  },
  {
   "cell_type": "code",
   "execution_count": null,
   "metadata": {},
   "outputs": [],
   "source": [
    "T1 = 'a', 'b', 'c'\n",
    "print('T1 =', T1)\n",
    "T2 = 'd', 'e'\n",
    "print('T2 =', T2)\n",
    "print('T1 + T2 =', T1 + T2)\n",
    "print('T2 * 3 =', T2 * 3)"
   ]
  },
  {
   "cell_type": "markdown",
   "metadata": {
    "slideshow": {
     "slide_type": "subslide"
    }
   },
   "source": [
    "### Note :\n",
    "\n",
    "Etant *non-mutable* l'objet tuple ne peut pas être modifié. Toutefois, s'il est constitué d'éléments mutables, alors ces éléments-là peuvent être modifiés.\n",
    "\n",
    "Illustration avec un tuple dont un des éléments est une liste :"
   ]
  },
  {
   "cell_type": "code",
   "execution_count": null,
   "metadata": {},
   "outputs": [],
   "source": [
    "T = ('a', ['b', 'c']) # le deuxième élément est une liste donc il est mutable\n",
    "print('T =', T)\n",
    "L = T[1]\n",
    "print('L =', L)\n",
    "L[0] = 'e'\n",
    "print('L =', L)\n",
    "print('T =', T)"
   ]
  },
  {
   "cell_type": "code",
   "execution_count": null,
   "metadata": {},
   "outputs": [],
   "source": [
    "# Ici on fait exactement la même chose...\n",
    "T = ('a', ['b', 'c'])\n",
    "print('T =', T)\n",
    "T[1][0] = 'z'\n",
    "print('T après =', T)"
   ]
  },
  {
   "cell_type": "code",
   "execution_count": null,
   "metadata": {},
   "outputs": [],
   "source": [
    "# Cette cellule génère une erreur\n",
    "T[0] = 'A'  # Ici, on essaye de modifier le tuple lui même..."
   ]
  },
  {
   "cell_type": "markdown",
   "metadata": {
    "slideshow": {
     "slide_type": "slide"
    }
   },
   "source": [
    "## Retour sur le slicing de séquences\n",
    "\n",
    "- Cela consiste à extraire une sous-séquence à partir d'une séquence.\n",
    "- Le slicing fonctionne de manière similaire aux intervalles mathématiques : ``[début:fin[``\n",
    "- La borne de fin ne fait pas partie de l'intervalle sélectionné.\n",
    "- La syntaxe générale est ``L[i:j:k]``, où :\n",
    "    - ``i`` = indice de début\n",
    "    - ``j`` = indice de fin, le premier élément qui n'est pas sélectionné\n",
    "    - ``k`` = le \"pas\" ou intervalle (s'il est omis alors il vaut ``1``)\n",
    "- La sous-liste sera donc composée de tous les éléments de l’indice ``i`` jusqu’à l’indice ``j-1``, par pas de ``k``.\n",
    "- La sous-liste est un nouvel objet.\n",
    "\n",
    "Dans le sens normal (le pas ``k`` est positif)\n",
    "\n",
    "- Si ``i`` est omis alors il vaut ``0``\n",
    "- Si ``j`` est omis alors il vaut ``len(L)``\n",
    "\n",
    "Dans le sens inverse (le pas ``k`` est négatif)\n",
    "\n",
    "- Si ``i`` est omis alors il vaut ``-1``\n",
    "- Si ``j`` est omis alors il vaut ``-len(L)-1``"
   ]
  },
  {
   "cell_type": "markdown",
   "metadata": {
    "slideshow": {
     "slide_type": "subslide"
    }
   },
   "source": [
    "Illustrons ça en créant une liste à partir d'une chaîne de caractères.\n",
    "\n",
    "La méthode [``split()``](https://docs.python.org/3/library/stdtypes.html#str.split) découpe une chaîne de caractères en morceaux, par défaut en 'mots'."
   ]
  },
  {
   "cell_type": "code",
   "execution_count": null,
   "metadata": {
    "scrolled": false
   },
   "outputs": [],
   "source": [
    "L = 'Dans le Python tout est bon'.split()\n",
    "print(L)"
   ]
  },
  {
   "cell_type": "markdown",
   "metadata": {
    "slideshow": {
     "slide_type": "fragment"
    }
   },
   "source": [
    "Pour commencer, on extrait de la liste ``L`` un nouvel objet liste qui contient tous les éléments de ``L`` <=> copie de liste"
   ]
  },
  {
   "cell_type": "code",
   "execution_count": null,
   "metadata": {},
   "outputs": [],
   "source": [
    "print(L[0:len(L):1]) # Cette notation est inutilement lourde car :\n",
    "print(L[::])         # i = 0, j=len(L) et k=1 donc i, j et k peuvent être omis\n",
    "print(L[:])          # on peut même ommettre le 2ème \":\""
   ]
  },
  {
   "cell_type": "markdown",
   "metadata": {
    "slideshow": {
     "slide_type": "fragment"
    }
   },
   "source": [
    "On extrait une sous-liste qui ne contient que les 3 premiers éléments :"
   ]
  },
  {
   "cell_type": "code",
   "execution_count": null,
   "metadata": {},
   "outputs": [],
   "source": [
    "print(L[0:3:1])  # Notation complète\n",
    "print(L[:3:1])  # Le premier indice vaut i=0, donc on peut l'omettre\n",
    "print(L[:3])  # Le pas de slicing vaut 1, donc on peut l'omettre, ainsi que le \":\""
   ]
  },
  {
   "cell_type": "markdown",
   "metadata": {
    "slideshow": {
     "slide_type": "subslide"
    }
   },
   "source": [
    "J'extrais une sous-liste qui exclut les trois premiers éléments :"
   ]
  },
  {
   "cell_type": "code",
   "execution_count": null,
   "metadata": {},
   "outputs": [],
   "source": [
    "print(L[3:len(L):1])  # Cette notation est inutilement lourde car :\n",
    "print(L[3:])          # j et k peuvent être omis, ainsi que le \":\""
   ]
  },
  {
   "cell_type": "markdown",
   "metadata": {
    "slideshow": {
     "slide_type": "fragment"
    }
   },
   "source": [
    "Les indices peuvent être négatifs, ce qui permet traiter les derniers éléments :"
   ]
  },
  {
   "cell_type": "code",
   "execution_count": null,
   "metadata": {},
   "outputs": [],
   "source": [
    "# Je veux exclure le dernier élément :\n",
    "print(L[0:-1:1])  # Notation complète\n",
    "print(L[:-1:1])  # Le premier indice vaut i=0, donc on peut l'omettre\n",
    "print(L[:-1])  # Le pas de slicing vaut 1, donc on peut l'omettre"
   ]
  },
  {
   "cell_type": "markdown",
   "metadata": {},
   "source": [
    "On ne garde que les deux derniers éléments"
   ]
  },
  {
   "cell_type": "code",
   "execution_count": null,
   "metadata": {},
   "outputs": [],
   "source": [
    "print(L[-2:])"
   ]
  },
  {
   "cell_type": "markdown",
   "metadata": {
    "slideshow": {
     "slide_type": "subslide"
    }
   },
   "source": [
    "**Note :**\n",
    "\n",
    "``L[1]`` n'est pas équivalent à ``L[1:2]``, ni à ``L[1:]``, ni à ``L[:1]``.\n",
    "\n",
    "Illustration :"
   ]
  },
  {
   "cell_type": "code",
   "execution_count": null,
   "metadata": {},
   "outputs": [],
   "source": [
    "a = L[1]\n",
    "print(type(a), a) # Je récupère le deuxième élément de la liste\n",
    "a = L[1:2]\n",
    "print(type(a), a) # Je récupère une liste composée du seul élément L[1]\n",
    "a = L[1:]\n",
    "print(type(a), a) # Je récupère une liste\n",
    "a = L[:1]\n",
    "print(type(a), a) # Je récupère une liste"
   ]
  },
  {
   "cell_type": "markdown",
   "metadata": {
    "slideshow": {
     "slide_type": "subslide"
    }
   },
   "source": [
    "> **Exercice :** Retourner une liste composée des éléments de ``L`` *en ordre inverse* **avec une opération de slicing**. Toute utilisation de [``[].reverse()``](https://docs.python.org/3/library/stdtypes.html#mutable-sequence-types) ou [``reversed()``](https://docs.python.org/3/library/functions.html#reversed) est interdite."
   ]
  },
  {
   "cell_type": "code",
   "execution_count": null,
   "metadata": {},
   "outputs": [],
   "source": [
    "L = 'Dans le Python tout est bon'.split()\n",
    "print(L)\n",
    "# <- votre code ici"
   ]
  },
  {
   "cell_type": "markdown",
   "metadata": {
    "slideshow": {
     "slide_type": "subslide"
    }
   },
   "source": [
    "Le slicing peut être utilisé pour **modifier** une séquence **mutable**, gâce à l'opération d'assignation."
   ]
  },
  {
   "cell_type": "code",
   "execution_count": null,
   "metadata": {},
   "outputs": [],
   "source": [
    "L = 'Dans le Python tout est bon'.split()\n",
    "print(L)\n",
    "L[2:4] = ['nouvelles', 'valeurs', 'et encore plus...', 1, 2, 3]\n",
    "print(L)"
   ]
  },
  {
   "cell_type": "markdown",
   "metadata": {
    "slideshow": {
     "slide_type": "subslide"
    }
   },
   "source": [
    "Le slicing peut être utilisé sur des chaînes de caractères."
   ]
  },
  {
   "cell_type": "code",
   "execution_count": null,
   "metadata": {},
   "outputs": [],
   "source": [
    "alphabet = 'abcdefghijklmnopqrstuvwxyz'\n",
    "print(alphabet[:4], alphabet[-4:], alphabet[0:12:3])"
   ]
  },
  {
   "cell_type": "markdown",
   "metadata": {},
   "source": [
    "> **Exercice**:\n",
    "> 1. Découpez l'alphabet en deux parties égales\n",
    "> 2. Prenez une lettre sur deux"
   ]
  },
  {
   "cell_type": "code",
   "execution_count": null,
   "metadata": {},
   "outputs": [],
   "source": [
    "# Votre code ici"
   ]
  },
  {
   "cell_type": "markdown",
   "metadata": {},
   "source": [
    "**Les tableaux ou listes (list) :**"
   ]
  },
  {
   "cell_type": "code",
   "execution_count": null,
   "metadata": {},
   "outputs": [],
   "source": [
    "c  = (4,5)                # couple de valeurs (ou tuple)\n",
    "l  = [ 4, 5, 6.5]         # listes de valeurs ou tableaux\n",
    "x  = l [0]                # obtention du premier élément de la liste l\n",
    "y  = c [1]                # obtention du second élément\n",
    "le = [ ]                  # un tableau vide\n",
    "c,l,x,y,le"
   ]
  },
  {
   "cell_type": "code",
   "execution_count": null,
   "metadata": {},
   "outputs": [],
   "source": [
    "l  = [ 4, 5 ]\n",
    "l += [ 6 ]      # ajouter un élément\n",
    "l.append ( 7 )  # ajouter un élément\n",
    "l.insert (1, 8) # insérer un élément en seconde position\n",
    "print(l)\n",
    "del l [0]       # supprimer un élément\n",
    "del l [0:2]     # supprimer les deux premiers éléments\n",
    "l"
   ]
  },
  {
   "cell_type": "markdown",
   "metadata": {},
   "source": [
    "**Longueur d'une liste et autres :**"
   ]
  },
  {
   "cell_type": "code",
   "execution_count": null,
   "metadata": {},
   "outputs": [],
   "source": [
    "l = [ 4, 5, 6 ]\n",
    "print ( len(l) )    # affiche la longueur du tableau\n",
    "print ( max(l) )    # affiche le plus grand élément\n",
    "s = l * 3           # création de la liste [ 4, 5, 6, 4, 5, 6, 4, 5, 6 ]\n",
    "t = s [ 4:7 ]       # extraction de la sous-liste de la position 4 à 7 exclu\n",
    "s [4:7] = [ 4 ]     # remplacement de cette liste par [ 4 ]\n",
    "s"
   ]
  },
  {
   "cell_type": "markdown",
   "metadata": {},
   "source": [
    "Type **mutable** et **immutable** (voir aussi [Qu'est-ce qu'un type immuable ou immutable ?](http://www.xavierdupre.fr/app/ensae_teaching_cs/helpsphinx/all_FAQ.html#qu-est-ce-qu-un-type-immuable-ou-immutable)) : une liste est un type **mutable**. Cela veut dire que par défaut, l'instruction ``list1=list2`` ne recopie pas la liste, elle lui donne un autre nom qui peut être utilisé en même temps que le premier."
   ]
  },
  {
   "cell_type": "code",
   "execution_count": null,
   "metadata": {},
   "outputs": [],
   "source": [
    "l1 = [ 0, 1 ,2 ]\n",
    "l2 = l1\n",
    "l2[0] = -1\n",
    "l1,l2"
   ]
  },
  {
   "cell_type": "markdown",
   "metadata": {},
   "source": [
    "Les deux listes sont en apparence modifiées. En fait, il n'y en a qu'une. Pour créer une copie, il faut explicitement demander une copie."
   ]
  },
  {
   "cell_type": "code",
   "execution_count": null,
   "metadata": {},
   "outputs": [],
   "source": [
    "l1 = [ 0, 1 ,2 ]\n",
    "l2 = list(l1)\n",
    "l2[0] = -1\n",
    "l1,l2"
   ]
  },
  {
   "cell_type": "markdown",
   "metadata": {},
   "source": [
    "C'est un point très important du langage qu'il ne faut pas oublier. On retrouve cette convention dans la plupart des [langages interprétés](http://en.wikipedia.org/wiki/Interpreted_language) car faire une copie alourdit le temps d'exécution."
   ]
  },
  {
   "cell_type": "markdown",
   "metadata": {},
   "source": [
    "## Structures conditionnelles, tests\n",
    "\n",
    "Les structures conditionnelles permettent de faire un choix : selon la valeur d'une condition, on fait soit une séquence d'instructions soit une autre."
   ]
  },
  {
   "cell_type": "code",
   "execution_count": null,
   "metadata": {},
   "outputs": [],
   "source": [
    "v = 2\n",
    "if v == 2 :\n",
    "    print (\"v est égal à 2\")\n",
    "else :\n",
    "    print (\"v n'est pas égal à 2\")"
   ]
  },
  {
   "cell_type": "markdown",
   "metadata": {},
   "source": [
    "La clause ``else`` n'est obligatoire :"
   ]
  },
  {
   "cell_type": "code",
   "execution_count": null,
   "metadata": {},
   "outputs": [],
   "source": [
    "v = 2\n",
    "if v == 2 :\n",
    "    print (\"v est égal à 2\")"
   ]
  },
  {
   "cell_type": "markdown",
   "metadata": {},
   "source": [
    "Plusieurs tests enchaînés :"
   ]
  },
  {
   "cell_type": "code",
   "execution_count": null,
   "metadata": {},
   "outputs": [],
   "source": [
    "v = 2\n",
    "if v == 2 :\n",
    "    print (\"v est égal à 2\")\n",
    "elif v > 2 :\n",
    "    print (\"v est supérieur à 2\")\n",
    "else :\n",
    "    print (\"v est inférieur à 2\")"
   ]
  },
  {
   "cell_type": "markdown",
   "metadata": {},
   "source": [
    "## Boucles"
   ]
  },
  {
   "cell_type": "markdown",
   "metadata": {},
   "source": [
    "Les boucles permettent de répéter un nombre fini ou infini de fois la même séquence d'instructions.\n",
    "Quelques exemples à essayer autour des boucles :"
   ]
  },
  {
   "cell_type": "code",
   "execution_count": null,
   "metadata": {},
   "outputs": [],
   "source": [
    "for i in range (0, 10) :   # on répète 10 fois\n",
    "    print (\"dedans\",i)     # l'affichage de i\n",
    "    # ici, on est dans la boucle\n",
    "# ici, on n'est plus dans la boucle\n",
    "\"dehors\",i                 # on ne passe par 10"
   ]
  },
  {
   "cell_type": "markdown",
   "metadata": {},
   "source": [
    "**Boucle while :**"
   ]
  },
  {
   "cell_type": "code",
   "execution_count": null,
   "metadata": {},
   "outputs": [],
   "source": [
    "i = 0\n",
    "while i < 10 :\n",
    "    print (i)\n",
    "    i += 1"
   ]
  },
  {
   "cell_type": "markdown",
   "metadata": {},
   "source": [
    "**Interrompre une boucle :**"
   ]
  },
  {
   "cell_type": "code",
   "execution_count": null,
   "metadata": {},
   "outputs": [],
   "source": [
    "for i in range (0, 10) : \n",
    "    if i == 2 :\n",
    "        continue           # on passe directement au suivant\n",
    "    print (i)            \n",
    "    if i > 5 :\n",
    "        break              # interruption définitive"
   ]
  },
  {
   "cell_type": "markdown",
   "metadata": {},
   "source": [
    "**Parcours d'une liste :** observer les différences entre les trois écritures"
   ]
  },
  {
   "cell_type": "code",
   "execution_count": 22,
   "metadata": {},
   "outputs": [
    {
     "name": "stdout",
     "output_type": "stream",
     "text": [
      "élément  0 = 5\n",
      "élément  1 = 3\n",
      "élément  2 = 5\n",
      "élément  3 = 7\n"
     ]
    }
   ],
   "source": [
    "l = [ 5, 3, 5, 7 ]\n",
    "for i in range (0, len(l)) :\n",
    "    print (\"élément \",i, \"=\", l[i]) "
   ]
  },
  {
   "cell_type": "code",
   "execution_count": 23,
   "metadata": {},
   "outputs": [
    {
     "name": "stdout",
     "output_type": "stream",
     "text": [
      "élément  0 = 5\n",
      "élément  1 = 3\n",
      "élément  2 = 5\n",
      "élément  3 = 7\n"
     ]
    }
   ],
   "source": [
    "l = [ 5, 3, 5, 7 ]\n",
    "for i,v in enumerate(l) :\n",
    "    print (\"élément \",i, \"=\", v ) "
   ]
  },
  {
   "cell_type": "markdown",
   "metadata": {},
   "source": [
    "Presque, mais un problème..."
   ]
  },
  {
   "cell_type": "code",
   "execution_count": 24,
   "metadata": {},
   "outputs": [
    {
     "name": "stdout",
     "output_type": "stream",
     "text": [
      "élément  0 = 5\n",
      "élément  1 = 3\n",
      "élément  0 = 5\n",
      "élément  3 = 7\n"
     ]
    }
   ],
   "source": [
    "l = [ 5, 3, 5, 7 ]\n",
    "for v in l :\n",
    "    print (\"élément \", l.index(v), \"=\", v) "
   ]
  },
  {
   "cell_type": "markdown",
   "metadata": {},
   "source": [
    ">**Attention** La méthode `index` ne renvoie que l'indice du **1er** élément si celui-ci est contenue plusieurs fois dans la liste."
   ]
  },
  {
   "cell_type": "code",
   "execution_count": 25,
   "metadata": {},
   "outputs": [
    {
     "name": "stdout",
     "output_type": "stream",
     "text": [
      "élément  0 = 5\n",
      "élément  1 = 3\n",
      "élément  2 = 5\n",
      "élément  3 = 7\n"
     ]
    }
   ],
   "source": [
    "l = [ 5, 3, 5, 7 ]\n",
    "i=0\n",
    "for v in l :\n",
    "    print (\"élément \", l.index(v,i), \"=\", v) \n",
    "    i+=1"
   ]
  },
  {
   "cell_type": "markdown",
   "metadata": {},
   "source": [
    "**Que fait le programme suivant ?**"
   ]
  },
  {
   "cell_type": "code",
   "execution_count": null,
   "metadata": {},
   "outputs": [],
   "source": [
    "l = [ 4, 3, 0, 2, 1 ]\n",
    "i = 0\n",
    "while l[i] != 0 :\n",
    "    i = l[i]\n",
    "    print (i)  # que vaut l[i] à la fin ?"
   ]
  },
  {
   "cell_type": "code",
   "execution_count": null,
   "metadata": {},
   "outputs": [],
   "source": [
    "print(l[i])"
   ]
  },
  {
   "cell_type": "markdown",
   "metadata": {},
   "source": [
    "On peut jouer avec des cartes pour faire dénouer le côté sybillin de ce programme : [La programmation avec les cartes](http://lesenfantscodaient.fr/blog/2015-09-05_jeu_pour_les_grands.html)."
   ]
  },
  {
   "cell_type": "markdown",
   "metadata": {},
   "source": [
    "### les listes en compréhension (compactes)\n",
    "\n",
    "Plutôt que d'écrire :"
   ]
  },
  {
   "cell_type": "code",
   "execution_count": null,
   "metadata": {},
   "outputs": [],
   "source": [
    "l = [ ]\n",
    "for i in range (10) :\n",
    "    l.append( i*2+1)\n",
    "l"
   ]
  },
  {
   "cell_type": "markdown",
   "metadata": {},
   "source": [
    "On peut écrire :"
   ]
  },
  {
   "cell_type": "code",
   "execution_count": null,
   "metadata": {},
   "outputs": [],
   "source": [
    "l = [ i*2+1 for i in range(10) ]\n",
    "l"
   ]
  },
  {
   "cell_type": "markdown",
   "metadata": {},
   "source": [
    "Quelques examples à essayer :"
   ]
  },
  {
   "cell_type": "code",
   "execution_count": null,
   "metadata": {},
   "outputs": [],
   "source": [
    "l = [ i*2 for i in range(0,10) ]\n",
    "l  # qu'affiche l ?"
   ]
  },
  {
   "cell_type": "code",
   "execution_count": null,
   "metadata": {},
   "outputs": [],
   "source": [
    "l = [ i*2 for i in range(0,10) if i%2==0 ]\n",
    "l  # qu'affiche l ?"
   ]
  },
  {
   "cell_type": "markdown",
   "metadata": {},
   "source": [
    "## Les ensembles"
   ]
  },
  {
   "cell_type": "markdown",
   "metadata": {},
   "source": [
    "Les ensembles ou **set** sont des listes pour lesquelles les éléments sont uniques. Si deux nombres nombres *int* et *float* sont égaux, seul le premier sera conservé."
   ]
  },
  {
   "cell_type": "code",
   "execution_count": null,
   "metadata": {},
   "outputs": [],
   "source": [
    "l = [ \"a\",\"b\",\"c\", \"a\", 9,4,5,6,7,4,5,9.0]\n",
    "s = set(l)\n",
    "s"
   ]
  },
  {
   "cell_type": "markdown",
   "metadata": {},
   "source": [
    "# Exercices"
   ]
  },
  {
   "cell_type": "markdown",
   "metadata": {},
   "source": [
    "### Suite de Fibonacci (correction)"
   ]
  },
  {
   "cell_type": "code",
   "execution_count": null,
   "metadata": {},
   "outputs": [],
   "source": [
    "#Le paramètre nommé end peut servir pour enlever le retour à la ligne ou pour terminer la ligne par une autre chaîne :\n",
    "a, b = 0, 1\n",
    "while a < 1000:\n",
    "    print(a, end=',')\n",
    "    a, b = b, a+b"
   ]
  },
  {
   "cell_type": "markdown",
   "metadata": {},
   "source": [
    "> **Exercice** Recherche non dichotomique   \n",
    "> On veut écrire quelques instructions pour trouver la position du nombre ``x = 7`` dans la liste ``l``. Il faut  compléter le programme suivant en utilisant une boucle et un test."
   ]
  },
  {
   "cell_type": "code",
   "execution_count": null,
   "metadata": {},
   "outputs": [],
   "source": [
    "l = [ 3, 6, 2 , 7, 9 ]\n",
    "x = 7\n",
    "\n",
    "# ......\n",
    "\n",
    "print ( position )"
   ]
  },
  {
   "cell_type": "markdown",
   "metadata": {},
   "source": [
    "> **Exercice** (suite) Recherche dichotomique  \n",
    "> La [recherche dichotomique](http://fr.wikipedia.org/wiki/Dichotomie) consiste à chercher un élément ``e`` dans un tableau trié ``l``. On cherche sa position :  \n",
    ">* On commence par comparer ``e`` à l'élément placé au milieu du tableau d'indice ``m``, s'ils sont égaux, on a trouvé,\n",
    ">* s'il est inférieur, on sait qu'il se trouve entre les indices 0 et ``m-1``,\n",
    ">* s'il est supérieur, on sait qu'il se trouve entre les indices ``m+1`` et la fin du tableau.\n",
    "> Avec une comparaison, on a déjà éliminé une moitié de tableau dans laquelle on sait que ``p`` ne se trouve pas. On applique le même raisonnement à l'autre moitié pour réduire la partie du tableau dans laquelle on doit chercher."
   ]
  },
  {
   "cell_type": "code",
   "execution_count": null,
   "metadata": {},
   "outputs": [],
   "source": [
    "l = sorted( [ 4, 7, -1,3, 9, 5, -5 ] )\n",
    "\n",
    "# recherche dichotomique\n",
    "# la position retournée est correspond à celle de l'élément dans le tableau trié"
   ]
  }
 ],
 "metadata": {
  "kernelspec": {
   "display_name": "Python 3",
   "language": "python",
   "name": "python3"
  },
  "language_info": {
   "codemirror_mode": {
    "name": "ipython",
    "version": 3
   },
   "file_extension": ".py",
   "mimetype": "text/x-python",
   "name": "python",
   "nbconvert_exporter": "python",
   "pygments_lexer": "ipython3",
   "version": "3.7.3"
  }
 },
 "nbformat": 4,
 "nbformat_minor": 1
}
