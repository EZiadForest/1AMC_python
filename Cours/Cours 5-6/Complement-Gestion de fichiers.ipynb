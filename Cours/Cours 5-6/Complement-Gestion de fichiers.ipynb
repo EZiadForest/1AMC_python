{
 "cells": [
  {
   "cell_type": "code",
   "execution_count": null,
   "metadata": {
    "collapsed": true
   },
   "outputs": [],
   "source": [
    "# Gestion des fichiers"
   ]
  },
  {
   "cell_type": "code",
   "execution_count": null,
   "metadata": {},
   "outputs": [],
   "source": [
    " f=open(\"filename.txt\",mode='x') "
   ]
  },
  {
   "cell_type": "code",
   "execution_count": 39,
   "metadata": {},
   "outputs": [
    {
     "name": "stdout",
     "output_type": "stream",
     "text": [
      "total 32\r\n",
      "drwxr-xr-x  7 ensicaen  staff   238 11 oct 15:49 \u001b[34m.\u001b[m\u001b[m/\r\n",
      "drwxr-xr-x  7 ensicaen  staff   238 10 oct 19:55 \u001b[34m..\u001b[m\u001b[m/\r\n",
      "-rw-r--r--@ 1 ensicaen  staff  6148 11 oct 15:26 .DS_Store\r\n",
      "drwxr-xr-x  3 ensicaen  staff   102 10 oct 20:15 \u001b[34m.ipynb_checkpoints\u001b[m\u001b[m/\r\n",
      "-rw-r--r--  1 ensicaen  staff  2926 11 oct 15:49 complement6.ipynb\r\n",
      "-rw-r--r--  1 ensicaen  staff     0 11 oct 15:49 filename.txt\r\n",
      "-rw-r--r--  1 ensicaen  staff    13 11 oct 15:44 toto.py\r\n"
     ]
    }
   ],
   "source": [
    "ls -al"
   ]
  },
  {
   "cell_type": "code",
   "execution_count": 40,
   "metadata": {
    "collapsed": true
   },
   "outputs": [],
   "source": [
    "f.close()"
   ]
  },
  {
   "cell_type": "code",
   "execution_count": 42,
   "metadata": {},
   "outputs": [],
   "source": [
    " f=open(\"filename.txt\",mode='w') "
   ]
  },
  {
   "cell_type": "code",
   "execution_count": 43,
   "metadata": {},
   "outputs": [
    {
     "data": {
      "text/plain": [
       "36"
      ]
     },
     "execution_count": 43,
     "metadata": {},
     "output_type": "execute_result"
    }
   ],
   "source": [
    "f.write(\"Ouah, un monde s'ouvre de nouveau...\")"
   ]
  },
  {
   "cell_type": "code",
   "execution_count": 46,
   "metadata": {},
   "outputs": [
    {
     "name": "stdout",
     "output_type": "stream",
     "text": [
      "total 40\r\n",
      "drwxr-xr-x  7 ensicaen  staff   238 11 oct 15:53 \u001b[34m.\u001b[m\u001b[m/\r\n",
      "drwxr-xr-x  7 ensicaen  staff   238 10 oct 19:55 \u001b[34m..\u001b[m\u001b[m/\r\n",
      "-rw-r--r--@ 1 ensicaen  staff  6148 11 oct 15:26 .DS_Store\r\n",
      "drwxr-xr-x  3 ensicaen  staff   102 10 oct 20:15 \u001b[34m.ipynb_checkpoints\u001b[m\u001b[m/\r\n",
      "-rw-r--r--  1 ensicaen  staff  3782 11 oct 15:53 complement6.ipynb\r\n",
      "-rw-r--r--  1 ensicaen  staff    36 11 oct 15:55 filename.txt\r\n",
      "-rw-r--r--  1 ensicaen  staff    13 11 oct 15:44 toto.py\r\n"
     ]
    }
   ],
   "source": [
    "ls -al"
   ]
  },
  {
   "cell_type": "code",
   "execution_count": 45,
   "metadata": {},
   "outputs": [],
   "source": [
    "f.close() # Important ferme le fichier"
   ]
  },
  {
   "cell_type": "code",
   "execution_count": 47,
   "metadata": {
    "collapsed": true
   },
   "outputs": [],
   "source": [
    " f=open(\"filename.txt\",mode='r') "
   ]
  },
  {
   "cell_type": "code",
   "execution_count": 48,
   "metadata": {},
   "outputs": [],
   "source": [
    "T=f.read()  # lit tout le fichier"
   ]
  },
  {
   "cell_type": "code",
   "execution_count": 49,
   "metadata": {
    "collapsed": true
   },
   "outputs": [],
   "source": [
    "f.close() # Important ferme le fichier"
   ]
  },
  {
   "cell_type": "code",
   "execution_count": 51,
   "metadata": {},
   "outputs": [
    {
     "data": {
      "text/plain": [
       "str"
      ]
     },
     "execution_count": 51,
     "metadata": {},
     "output_type": "execute_result"
    }
   ],
   "source": [
    "type(T)"
   ]
  },
  {
   "cell_type": "code",
   "execution_count": 54,
   "metadata": {},
   "outputs": [],
   "source": [
    "T1=T.split(' ')"
   ]
  },
  {
   "cell_type": "code",
   "execution_count": 55,
   "metadata": {},
   "outputs": [
    {
     "data": {
      "text/plain": [
       "6"
      ]
     },
     "execution_count": 55,
     "metadata": {},
     "output_type": "execute_result"
    }
   ],
   "source": [
    "len(T1)"
   ]
  },
  {
   "cell_type": "code",
   "execution_count": 56,
   "metadata": {},
   "outputs": [
    {
     "data": {
      "text/plain": [
       "['Ouah,', 'un', 'monde', \"s'ouvre\", 'de', 'nouveau...']"
      ]
     },
     "execution_count": 56,
     "metadata": {},
     "output_type": "execute_result"
    }
   ],
   "source": [
    "T1"
   ]
  },
  {
   "cell_type": "code",
   "execution_count": 36,
   "metadata": {},
   "outputs": [
    {
     "name": "stdout",
     "output_type": "stream",
     "text": [
      "toto\n"
     ]
    }
   ],
   "source": [
    "run toto.py"
   ]
  },
  {
   "cell_type": "code",
   "execution_count": 57,
   "metadata": {},
   "outputs": [
    {
     "name": "stdout",
     "output_type": "stream",
     "text": [
      "Ouah, un tout nouveau monde s'ouvre ...\n",
      "<class 'str'>\n",
      "7\n"
     ]
    }
   ],
   "source": [
    "run complement6.py"
   ]
  },
  {
   "cell_type": "code",
   "execution_count": null,
   "metadata": {
    "collapsed": true
   },
   "outputs": [],
   "source": []
  }
 ],
 "metadata": {
  "anaconda-cloud": {},
  "kernelspec": {
   "display_name": "Python 3",
   "language": "python",
   "name": "python3"
  },
  "language_info": {
   "codemirror_mode": {
    "name": "ipython",
    "version": 3
   },
   "file_extension": ".py",
   "mimetype": "text/x-python",
   "name": "python",
   "nbconvert_exporter": "python",
   "pygments_lexer": "ipython3",
   "version": "3.7.3"
  }
 },
 "nbformat": 4,
 "nbformat_minor": 1
}
