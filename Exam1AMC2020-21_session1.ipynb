{
 "cells": [
  {
   "cell_type": "markdown",
   "metadata": {},
   "source": [
    "![](fig/logoENSI.png)"
   ]
  },
  {
   "cell_type": "markdown",
   "metadata": {},
   "source": [
    "# Nom:                                      \n",
    "# Prénom:"
   ]
  },
  {
   "cell_type": "markdown",
   "metadata": {},
   "source": [
    "# Introduction à la Programmation \n",
    "## Examen d' initiation à l'informatique \n",
    "###  -Python-  1h30\n",
    "***\n",
    "**ENSICAEN  1A MC** \n",
    "lundi 18 Janvier 2021\n",
    "####  E. Ziad-Forest \n",
    "Mailto:ziad@ensicaen.fr  \n",
    "[Contact durant l'épreuve sur TEAMS](https://teams.microsoft.com/l/channel/19%3a1b099911c89e4309ada60d0ce6a94324%40thread.tacv2/Examen%2520Session1%252018%2520janv%25202021?groupId=62e8abc1-9171-459f-9359-b8034f562d26&tenantId=430c3e75-ff03-445f-b3f4-ae2809a0b10b)"
   ]
  },
  {
   "cell_type": "markdown",
   "metadata": {},
   "source": [
    "ENSICAEN, 6 boulevard Maréchal Juin – CS45053 – 14050 Caen Cedex 4, Tél. : +33 (0)2 31 45 27 50  \n",
    "© Ce document est la propriété de l’ENSICAEN, il ne peut être ni communiqué, ni reproduit sans son autorisation."
   ]
  },
  {
   "cell_type": "markdown",
   "metadata": {},
   "source": [
    "> **Remarques :**\n",
    "- Le barème est donné à titre indicatif.\n",
    "- Une attention particulière sera porté à la qualité des commentaires et justifications fournies."
   ]
  },
  {
   "cell_type": "markdown",
   "metadata": {},
   "source": [
    "**Pour rappel :**"
   ]
  },
  {
   "cell_type": "code",
   "execution_count": 2,
   "metadata": {},
   "outputs": [],
   "source": [
    "# Ceci est un commentaire où une justification dans une cellule de code ..."
   ]
  },
  {
   "cell_type": "markdown",
   "metadata": {},
   "source": [
    "## I - QCM sur Moodle ( 5 points )\n",
    "#### 15 questions en moins de 15 minutes "
   ]
  },
  {
   "cell_type": "markdown",
   "metadata": {},
   "source": [
    "## II - Correction de code (3 points)"
   ]
  },
  {
   "cell_type": "markdown",
   "metadata": {},
   "source": [
    "1/ Corriger en supprimant, ajoutant du code, mais aussi en indentant la fonction `RechercheMotTexte` suivante:"
   ]
  },
  {
   "cell_type": "code",
   "execution_count": null,
   "metadata": {},
   "outputs": [],
   "source": [
    "def RechercheMotTexte(mot;texte)\n",
    "n=len[mot]\n",
    "for i in range(len(texte)-n)\n",
    "texte[i:i+n]==mot\n",
    "print True\n",
    "print False"
   ]
  },
  {
   "cell_type": "code",
   "execution_count": null,
   "metadata": {},
   "outputs": [],
   "source": [
    "# Votre correction ici"
   ]
  },
  {
   "cell_type": "markdown",
   "metadata": {},
   "source": [
    "2/ Tester la fonction **RechercheMotTexte** précédente *(corrigée)* avec le texte :\n",
    "text='lapin, chat, chien, chiot, dragon, ornithorynque' avec mot1='chiot' et mot2='dragou'."
   ]
  },
  {
   "cell_type": "code",
   "execution_count": 6,
   "metadata": {},
   "outputs": [],
   "source": [
    "text='lapin, chat, chien, chiot, dragon, ornithorynque'\n",
    "mot1='chiot'\n",
    "mot2='dragou'"
   ]
  },
  {
   "cell_type": "code",
   "execution_count": null,
   "metadata": {},
   "outputs": [],
   "source": [
    "# Test"
   ]
  },
  {
   "cell_type": "markdown",
   "metadata": {},
   "source": [
    "3/ Comment pourrait-on répondre en une seule instruction *python* à la question précédente, plutôt que d'utiliser `RechercheMotTexte` ?  \n",
    "*Utiliser les variables **text**, **mot1**, **mot2**.*"
   ]
  },
  {
   "cell_type": "code",
   "execution_count": null,
   "metadata": {},
   "outputs": [],
   "source": [
    "# Votre instruction Python ci-dessous"
   ]
  },
  {
   "cell_type": "markdown",
   "metadata": {},
   "source": [
    "## III - Usage d’un dictionnaire (2 points)"
   ]
  },
  {
   "cell_type": "markdown",
   "metadata": {},
   "source": [
    "1/ Écrivez un programme `DictChaine.py`, qui prend en paramètre une liste d’animaux et qui associe à chaque nom d’animaux (la clé) le nombre de caractères (sa valeur).  \n",
    "Avec :   \n",
    "listeChaine = [’lapin’,’chat’, ’chien’, ’chiot’, ’dragon’,’ornithorynque’]  \n",
    "\n",
    "Nous obtiendrons par exemple:  "
   ]
  },
  {
   "cell_type": "code",
   "execution_count": null,
   "metadata": {},
   "outputs": [],
   "source": [
    "{'chat':4,'lapin':5,'ornithorynque':13,'chien':5, 'chiot':5,'dragon':6}"
   ]
  },
  {
   "cell_type": "code",
   "execution_count": 9,
   "metadata": {},
   "outputs": [],
   "source": [
    "listeChaine = ['lapin','chat', 'chien', 'chiot', 'dragon','ornithorynque']"
   ]
  },
  {
   "cell_type": "code",
   "execution_count": null,
   "metadata": {},
   "outputs": [],
   "source": []
  },
  {
   "cell_type": "markdown",
   "metadata": {},
   "source": [
    "## IV - ADN (5 points)"
   ]
  },
  {
   "cell_type": "markdown",
   "metadata": {},
   "source": [
    "Une séquence ADN ne contient que les caractères A, T, C et G.   \n",
    "1/ Ecrivez une fonction *isADN* qui prend en paramètre une chaine de caractères et renvoie *True* si la chaine est une séquence ADN et sinon, cette fonction redemande à entrer une nouvelle séquence de lettres et vérifie si celle-ci est une séquence ADN."
   ]
  },
  {
   "cell_type": "code",
   "execution_count": null,
   "metadata": {},
   "outputs": [],
   "source": [
    "def isADN # suite de votre code ici"
   ]
  },
  {
   "cell_type": "markdown",
   "metadata": {},
   "source": [
    "Tester la séquence du fichier `Smalleyedrosophile.txt` afin de prouver que c'est bien une séquence ADN."
   ]
  },
  {
   "cell_type": "code",
   "execution_count": null,
   "metadata": {},
   "outputs": [],
   "source": []
  },
  {
   "cell_type": "markdown",
   "metadata": {},
   "source": [
    "2/ Ecrivez une fonction `ReadSqInFil` qui lit un brin d’ADN dans un fichier et renvoie **True** si le brin appartient à ce fichier et **False** sinon."
   ]
  },
  {
   "cell_type": "code",
   "execution_count": null,
   "metadata": {},
   "outputs": [],
   "source": [
    "def ReadSqInFil # suite de votre code ici"
   ]
  },
  {
   "cell_type": "markdown",
   "metadata": {},
   "source": [
    "3/ Tester la fonction précédente avec le fichier `Smalleyedrosophile.txt` et le brin Sq1='AGGAAGGAGGGGGA'"
   ]
  },
  {
   "cell_type": "code",
   "execution_count": 4,
   "metadata": {},
   "outputs": [],
   "source": [
    "Sq1='AGGAAGGAGGGGGA' "
   ]
  },
  {
   "cell_type": "markdown",
   "metadata": {},
   "source": [
    "4/ Combien y a-t-il de lettre A dans `Smalleyedrosophile.txt`"
   ]
  },
  {
   "cell_type": "code",
   "execution_count": null,
   "metadata": {},
   "outputs": [],
   "source": [
    "\n"
   ]
  },
  {
   "cell_type": "markdown",
   "metadata": {},
   "source": [
    "5/ Ecrivez une fonction `isSeq` qui prend en argument une chaîne de caractères et retourne un booléen (True ou False), si maintenant cette chaîne ne contient que les caractères A T G C ou N. La lettre N signifie que le séquençage n’a pas permis de connaître précisément la lettre à cet endroit.     \n",
    "\n",
    "\n",
    "Par exemple **isSeq(’ATGCCCCNTCN’)** renvoie **True** alors que **isSeq(’ATGVCCCNTCN’)** renvoie **False** à cause de la présence de la lettre V.\n",
    "\n",
    "."
   ]
  },
  {
   "cell_type": "code",
   "execution_count": null,
   "metadata": {},
   "outputs": [],
   "source": [
    "def isSeq # suite de votre code ici"
   ]
  },
  {
   "cell_type": "code",
   "execution_count": null,
   "metadata": {},
   "outputs": [],
   "source": []
  },
  {
   "cell_type": "markdown",
   "metadata": {},
   "source": [
    "6/ Ecrivez une fonction compatible `isCom` qui prend en argument deux séquences (supposées correctes au sens de la question précédente) et retourne un booléen qui dit si elles pourraient être égales. Cela signifie qu’elles ont même longueur et que pour chaque position de lettre, soit les deux lettres sont égales soit l’une au moins est égale à N.  \n",
    "Il vient que **AATTAGC** est compatible non seulement avec elle-même mais aussi par exemple avec **ANTTANC**. **isComp(’AATTAGC’,’ANTTANC’)** renvoie donc **True**, en revanche, **isComp(’ANTTAGC’,’AAGTANC’)** renvoie **False**."
   ]
  },
  {
   "cell_type": "code",
   "execution_count": null,
   "metadata": {},
   "outputs": [],
   "source": []
  },
  {
   "cell_type": "markdown",
   "metadata": {},
   "source": [
    "## V - Vérification dans un Sudoku (5 points)"
   ]
  },
  {
   "cell_type": "markdown",
   "metadata": {},
   "source": [
    "Le but de ce jeu d’origine japonaise est de remplir une grille 9 x 9 avec la série de chiffres allant de 1 à 9 chacun ne se trouvant jamais plus d’une fois sur une même ligne, dans une même colonne ou dans une même sous-grille 3 x 3."
   ]
  },
  {
   "cell_type": "markdown",
   "metadata": {},
   "source": [
    "![](fig/sudoku2.png)"
   ]
  },
  {
   "cell_type": "markdown",
   "metadata": {},
   "source": [
    "Par exemple, dans la 1ère sous-grille 3x3, vous pouvez constater que les chiffres de 1 à 9 n'apparaissent qu'une seule fois.   \n",
    "\n",
    "|   |  |   |\n",
    "|:-: |:-: |:-: |\n",
    "| 8 | 6 | 7 | \n",
    "| 1 | 5 | 9 |\n",
    "| 4 | 3 | 2 | "
   ]
  },
  {
   "cell_type": "markdown",
   "metadata": {},
   "source": [
    "En Python, le sudoku ci-dessus sera défini de la façon suivante :"
   ]
  },
  {
   "cell_type": "code",
   "execution_count": null,
   "metadata": {},
   "outputs": [],
   "source": [
    "A=[8, 6, 7, 3, 9, 1, 4, 2, 5, 1, 5, 9, 7, 2, 4, 6, 3, 8, 4, 3, 2, 5, 6, 8, 7, 9, 1, 5, 8, 6, 2, 1, 3, 9, 7, 4, 7, 2, 4, 8, 5, 9, 1, 6, 3, 3, 9, 1, 6, 4, 7, 8, 5, 2, 6, 1, 5, 9, 8, 2, 3, 4, 7, 9, 4, 3, 1, 7, 5, 2, 8, 6, 2, 7, 8, 4, 3, 6, 5, 1, 9]"
   ]
  },
  {
   "cell_type": "markdown",
   "metadata": {},
   "source": [
    "1/ Comment pouvez-vous extraire en utilisant le slicing dans la liste A, cette 1ère sous-grille 3x3, dans une liste A11 ?\n",
    "\n",
    "\n",
    "|   |  |   |\n",
    "|:-: |:-: |:-: |\n",
    "| 8 | 6 | 7 | \n",
    "| 1 | 5 | 9 |\n",
    "| 4 | 3 | 2 | "
   ]
  },
  {
   "cell_type": "code",
   "execution_count": null,
   "metadata": {},
   "outputs": [],
   "source": [
    "A11="
   ]
  },
  {
   "cell_type": "markdown",
   "metadata": {},
   "source": [
    "2/ Ecrivez une fonction vérifiant la validité de chaque ligne d’un sudoku.  \n",
    "*(Quelle que soit la liste A fournie en paramètre de la fonction.)*"
   ]
  },
  {
   "cell_type": "code",
   "execution_count": null,
   "metadata": {},
   "outputs": [],
   "source": []
  },
  {
   "cell_type": "markdown",
   "metadata": {},
   "source": [
    "3/ De même, écrivez une fonction vérifiant la validité de chaque colonne d’un sudoku. "
   ]
  },
  {
   "cell_type": "code",
   "execution_count": null,
   "metadata": {},
   "outputs": [],
   "source": []
  },
  {
   "cell_type": "markdown",
   "metadata": {},
   "source": [
    "4/ Poursuivez avec une fonction vérifiant la validité des 9 blocs 3 x 3."
   ]
  },
  {
   "cell_type": "code",
   "execution_count": null,
   "metadata": {},
   "outputs": [],
   "source": []
  },
  {
   "cell_type": "markdown",
   "metadata": {},
   "source": [
    "5/ En utilisant les fonctions précédentes, écrivez une fonction vérifiant la validité complète d'un sudoku."
   ]
  },
  {
   "cell_type": "code",
   "execution_count": null,
   "metadata": {},
   "outputs": [],
   "source": []
  },
  {
   "cell_type": "markdown",
   "metadata": {},
   "source": [
    "6/ Testez que la matrice A du sudoku proposé en exemple, défini bien un sudoku valide."
   ]
  },
  {
   "cell_type": "code",
   "execution_count": null,
   "metadata": {},
   "outputs": [],
   "source": []
  }
 ],
 "metadata": {
  "kernelspec": {
   "display_name": "Python 3",
   "language": "python",
   "name": "python3"
  },
  "language_info": {
   "codemirror_mode": {
    "name": "ipython",
    "version": 3
   },
   "file_extension": ".py",
   "mimetype": "text/x-python",
   "name": "python",
   "nbconvert_exporter": "python",
   "pygments_lexer": "ipython3",
   "version": "3.7.3"
  }
 },
 "nbformat": 4,
 "nbformat_minor": 2
}
